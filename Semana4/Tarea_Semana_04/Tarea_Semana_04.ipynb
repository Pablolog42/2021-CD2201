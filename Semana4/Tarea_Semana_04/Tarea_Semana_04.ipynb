{
 "cells": [
  {
   "cell_type": "markdown",
   "metadata": {},
   "source": [
    "# Rapidez de expasión del fondo marino"
   ]
  },
  {
   "cell_type": "markdown",
   "metadata": {},
   "source": [
    "Corramos estas librarías que serán útiles para esta tarea:"
   ]
  },
  {
   "cell_type": "code",
   "execution_count": 2,
   "metadata": {},
   "outputs": [],
   "source": [
    "import numpy as np\n",
    "import matplotlib\n",
    "import matplotlib.pyplot as plt\n",
    "import pandas as pd\n",
    "from cartopy import config\n",
    "import cartopy.crs as ccrs"
   ]
  },
  {
   "cell_type": "markdown",
   "metadata": {},
   "source": [
    "Ahora veremos la relación entre la edad del lecho marino (Ma) y la distancia desde la dorsal (km) para determinar la velocidad de propagación entre las placas oceánicas (km / Ma).  Un Ma (mega-annum) equivale a un millón de años. "
   ]
  },
  {
   "cell_type": "markdown",
   "metadata": {},
   "source": [
    "## Dorsal mesoatlántica\n",
    "Los datos con los que trabajará para esta tarea provienen de las inversiones geomagnéticas y sus respectivas edades que exploramos en el jupyter notebook de la clase pasada."
   ]
  },
  {
   "cell_type": "code",
   "execution_count": null,
   "metadata": {},
   "outputs": [],
   "source": [
    "# data from the Mid-Atlantic Ridge\n",
    "atlantic_data=pd.read_csv('MAR_east_age_dist.csv')\n",
    "atlantic_data.head()"
   ]
  },
  {
   "cell_type": "markdown",
   "metadata": {},
   "source": [
    "Mostremos la ubicación de esas distintas edades en un mapa."
   ]
  },
  {
   "cell_type": "code",
   "execution_count": null,
   "metadata": {},
   "outputs": [],
   "source": [
    "fig = plt.figure(figsize=(15,15))\n",
    "ax = plt.axes(projection=ccrs.Robinson(-46.0))\n",
    "ax.set_extent([-90.0, 0.0, 0.0, 60.0], crs=ccrs.PlateCarree())\n",
    "\n",
    "plt.scatter(atlantic_data['Lon'],atlantic_data['Lat'],marker='o',c=atlantic_data['Age'],\n",
    "            vmin=0,vmax=100,cmap='jet_r',transform=ccrs.PlateCarree())\n",
    "plt.colorbar(shrink=0.6,label='Age Myr')\n",
    "\n",
    "ax.coastlines()\n",
    "ax.stock_img()\n",
    "ax.gridlines()\n",
    "\n",
    "plt.show()"
   ]
  },
  {
   "cell_type": "markdown",
   "metadata": {},
   "source": [
    "Plotee la distancia desde la dorsal en función de la edad del lecho marino. Incluya las etiquetas de los ejes y el título."
   ]
  },
  {
   "cell_type": "code",
   "execution_count": null,
   "metadata": {},
   "outputs": [],
   "source": []
  },
  {
   "cell_type": "markdown",
   "metadata": {},
   "source": [
    "Ahora calculará la velocidad a la que se mueve la placa tectónica. Para ello debe encontrar la pendiente de una línea que atraviesa la gráfica de distancia desde la dorsal versus la edad del fondo marino. Para ajustar esta recta es necesario seleccionar dos puntos de los datos. Como probablemente ya saben, la ecuación  de una recta es $y = mx + b$ donde $ m $ es la pendiente y $ b $ es la intersección en y. La pendiente puede ser calculada como $ m  = \\frac{y_ {1} -y_ {0}} {x_ {1} -x_ {0}} $ y luego con esa pendiente y resuelve para la intersección con en eje y como $b = y_ {1} -mx_ {1}$. Por ejemplo:"
   ]
  },
  {
   "cell_type": "code",
   "execution_count": null,
   "metadata": {},
   "outputs": [],
   "source": [
    "x = np.asarray([3.0, 5.0]);\n",
    "y = np.asarray([2.0, 7.0]);\n",
    "\n",
    "m = (y[1]-y[0])/(x[1]-x[0]);  # use the two points to find the slope rise/run, dy/dx\n",
    "b = y[1]-m*x[1]  # solve for the y-intercept\n",
    "\n",
    "plt.figure(1,(5,5)) \n",
    "plt.plot(x,y,'o')\n",
    "plt.plot(x,m*x+b,'-')\n",
    "plt.xlabel('X ', fontsize=16);\n",
    "plt.ylabel('Y', fontsize=16);\n",
    "plt.grid()"
   ]
  },
  {
   "cell_type": "markdown",
   "metadata": {},
   "source": [
    "Defina una función que tome las coordenadas (x,y) de dos puntos de los datos y que devuelva la pendiente y la intersección con el eje y."
   ]
  },
  {
   "cell_type": "code",
   "execution_count": null,
   "metadata": {},
   "outputs": [],
   "source": [
    "def mx_b(x0,y0,x1,y1):\n",
    "    \"\"\"\n",
    "    Function to compute the slope and intercept of a line\n",
    "    \n",
    "    input parameters\n",
    "    ----------\n",
    "    x0,y0: first coordinate pair\n",
    "    x1,y1: second coordinate pair\n",
    "    \n",
    "    output\n",
    "    ------\n",
    "    m : slope of line that connects (x0,y0) and (x1,y1)\n",
    "    b : slope of line that connects (x0,y0) and (x1,y1)\n",
    "    \"\"\"\n",
    "    \n",
    "    #agrega tu codigo aqui\n",
    "\n",
    "    return m,b"
   ]
  },
  {
   "cell_type": "markdown",
   "metadata": {},
   "source": [
    "Usa tu función para aproximar una recta que atraviesa la gráfica de distancia versus edad para el Atlántico. Debe elegir dos coordenadas x, y que se encuentran dentro de los datos y calcular la línea que las conecta. Tiene libertad para escoger los puntos, intente seleccionar buen par de puntos que aproximen de mejor forma los datos."
   ]
  },
  {
   "cell_type": "code",
   "execution_count": null,
   "metadata": {},
   "outputs": [],
   "source": [
    "# determine valor de la m y b de los datos en esta celda."
   ]
  },
  {
   "cell_type": "markdown",
   "metadata": {},
   "source": [
    "Plotee esta recta sobre la gráfica distancia desde la dorsal atlántica vs edad."
   ]
  },
  {
   "cell_type": "code",
   "execution_count": null,
   "metadata": {},
   "outputs": [],
   "source": []
  },
  {
   "cell_type": "markdown",
   "metadata": {},
   "source": [
    "¿Cuál es la velocidad de expansión de la dorsal del Atlántico?.\n",
    "\n",
    "Escriba aquí su respuesta."
   ]
  },
  {
   "cell_type": "markdown",
   "metadata": {},
   "source": [
    "## Dorsal del Pacífico Oriental\n",
    "Hagamos el mismo proceso anterior pero ahora para la dorsal de Pacífico."
   ]
  },
  {
   "cell_type": "code",
   "execution_count": null,
   "metadata": {},
   "outputs": [],
   "source": [
    "# data from the Pacific Antarctic Ridge\n",
    "pacific_data=pd.read_csv('PAR_east_age_dist.csv')\n",
    "pacific_data.head()"
   ]
  },
  {
   "cell_type": "code",
   "execution_count": null,
   "metadata": {},
   "outputs": [],
   "source": [
    "fig = plt.figure(figsize=(15,15))\n",
    "ax = plt.axes(projection=ccrs.Robinson(-46.0))\n",
    "ax.set_extent([-175.0, -90.0, -40.0, -80.0], crs=ccrs.PlateCarree())\n",
    "\n",
    "plt.scatter(pacific_data['Lon'],pacific_data['Lat'],marker='o',c=pacific_data['Age'],\n",
    "            vmin=0,vmax=100,cmap='jet_r',transform=ccrs.PlateCarree())\n",
    "plt.colorbar(shrink=0.4,label='Age Myr')\n",
    "\n",
    "ax.coastlines()\n",
    "ax.stock_img()\n",
    "ax.gridlines()\n",
    "\n",
    "plt.show()"
   ]
  },
  {
   "cell_type": "markdown",
   "metadata": {},
   "source": [
    "Plotee la distancia desde la dorsal en función de la edad del lecho marino para la placa del Antartica. Incluya etiquetas en los ejes y el título."
   ]
  },
  {
   "cell_type": "code",
   "execution_count": null,
   "metadata": {},
   "outputs": [],
   "source": []
  },
  {
   "cell_type": "markdown",
   "metadata": {},
   "source": [
    "Usa tu función para aproximar una recta que atraviesa la gráfica de distancia vs. edad de la placa antártica."
   ]
  },
  {
   "cell_type": "code",
   "execution_count": null,
   "metadata": {},
   "outputs": [],
   "source": []
  },
  {
   "cell_type": "markdown",
   "metadata": {},
   "source": [
    "Agregue esta recta a su gráfico de distancia vs. edad de la placa antártica."
   ]
  },
  {
   "cell_type": "code",
   "execution_count": null,
   "metadata": {},
   "outputs": [],
   "source": []
  },
  {
   "cell_type": "markdown",
   "metadata": {},
   "source": [
    "¿Cuál es la velocidad de propagación de la placa que se aleja de la dorsal Pacífico-Antártica?\n",
    "\n",
    "Escriba aquí su respuesta.\n",
    "\n",
    "¿Es la pendiente de la placa antártica más o menos pronunciada que la del Atlántico oriental?. Haga una figura con ambos datos y sus respectivas aproximaciones lineales. ¿Qué dorsal se está extendiendo más rápido?\n",
    "\n",
    "Escriba aquí su respuesta.\n",
    "\n",
    "Estas tasas de propagación que has calculado son lo que llamamos la mitad de la tasa de propagación. La tasa de propagación completa es la velocidad a la que viajan las dos placas oceánicas entre sí y es aproximadamente el doble de la tasa de propagación que se ha calculado durante esta tarea."
   ]
  },
  {
   "cell_type": "code",
   "execution_count": null,
   "metadata": {},
   "outputs": [],
   "source": []
  }
 ],
 "metadata": {
  "kernelspec": {
   "display_name": "Python 3",
   "language": "python",
   "name": "python3"
  },
  "language_info": {
   "codemirror_mode": {
    "name": "ipython",
    "version": 3
   },
   "file_extension": ".py",
   "mimetype": "text/x-python",
   "name": "python",
   "nbconvert_exporter": "python",
   "pygments_lexer": "ipython3",
   "version": "3.7.6"
  }
 },
 "nbformat": 4,
 "nbformat_minor": 4
}
