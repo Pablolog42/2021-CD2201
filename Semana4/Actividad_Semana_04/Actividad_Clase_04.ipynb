{
 "cells": [
  {
   "cell_type": "markdown",
   "metadata": {},
   "source": [
    "# Batimetría de expansión del fondo marino y anomalías magnéticas"
   ]
  },
  {
   "cell_type": "markdown",
   "metadata": {},
   "source": [
    "## Setup\n",
    "Carguemos las librerías que utilizaremos durante la clase"
   ]
  },
  {
   "cell_type": "code",
   "execution_count": 1,
   "metadata": {},
   "outputs": [],
   "source": [
    "import numpy as np\n",
    "import matplotlib.pyplot as plt\n",
    "import pandas as pd\n",
    "from cartopy import config\n",
    "import cartopy.crs as ccrs\n",
    "from scipy import signal"
   ]
  },
  {
   "cell_type": "markdown",
   "metadata": {},
   "source": [
    "## Geología Marina, batimetría y anomalías magnéticas"
   ]
  },
  {
   "cell_type": "markdown",
   "metadata": {},
   "source": [
    "Veremos el magnetismo marino y los datos de batimetría de dos estudios, de la dorsal mesoatlántica y la dorsal del Pacífico Oriental.\n",
    "\n",
    "Primero cargaremos los datos del Atlántico (a los que se puede acceder aquí: https://maps.ngdc.noaa.gov/viewers/geophysics/), para luego filtrar la información que nos será útil."
   ]
  },
  {
   "cell_type": "code",
   "execution_count": 2,
   "metadata": {},
   "outputs": [
    {
     "data": {
      "text/html": [
       "<div>\n",
       "<style scoped>\n",
       "    .dataframe tbody tr th:only-of-type {\n",
       "        vertical-align: middle;\n",
       "    }\n",
       "\n",
       "    .dataframe tbody tr th {\n",
       "        vertical-align: top;\n",
       "    }\n",
       "\n",
       "    .dataframe thead th {\n",
       "        text-align: right;\n",
       "    }\n",
       "</style>\n",
       "<table border=\"1\" class=\"dataframe\">\n",
       "  <thead>\n",
       "    <tr style=\"text-align: right;\">\n",
       "      <th></th>\n",
       "      <th>LAT</th>\n",
       "      <th>LON</th>\n",
       "      <th>CORR_DEPTH</th>\n",
       "      <th>MAG_TOT</th>\n",
       "    </tr>\n",
       "  </thead>\n",
       "  <tbody>\n",
       "    <tr>\n",
       "      <th>0</th>\n",
       "      <td>-33.03604</td>\n",
       "      <td>-71.62559</td>\n",
       "      <td>NaN</td>\n",
       "      <td>NaN</td>\n",
       "    </tr>\n",
       "    <tr>\n",
       "      <th>1</th>\n",
       "      <td>-33.03604</td>\n",
       "      <td>-71.62559</td>\n",
       "      <td>NaN</td>\n",
       "      <td>NaN</td>\n",
       "    </tr>\n",
       "    <tr>\n",
       "      <th>2</th>\n",
       "      <td>-33.03604</td>\n",
       "      <td>-71.62559</td>\n",
       "      <td>NaN</td>\n",
       "      <td>NaN</td>\n",
       "    </tr>\n",
       "    <tr>\n",
       "      <th>3</th>\n",
       "      <td>-33.03604</td>\n",
       "      <td>-71.62559</td>\n",
       "      <td>NaN</td>\n",
       "      <td>NaN</td>\n",
       "    </tr>\n",
       "    <tr>\n",
       "      <th>4</th>\n",
       "      <td>-33.03604</td>\n",
       "      <td>-71.62559</td>\n",
       "      <td>NaN</td>\n",
       "      <td>NaN</td>\n",
       "    </tr>\n",
       "  </tbody>\n",
       "</table>\n",
       "</div>"
      ],
      "text/plain": [
       "        LAT       LON  CORR_DEPTH  MAG_TOT\n",
       "0 -33.03604 -71.62559         NaN      NaN\n",
       "1 -33.03604 -71.62559         NaN      NaN\n",
       "2 -33.03604 -71.62559         NaN      NaN\n",
       "3 -33.03604 -71.62559         NaN      NaN\n",
       "4 -33.03604 -71.62559         NaN      NaN"
      ]
     },
     "execution_count": 2,
     "metadata": {},
     "output_type": "execute_result"
    }
   ],
   "source": [
    "# Load the seafloor depth, marine mag anom data\n",
    "#columns ['SURVEY_ID','TIMEZONE','DATE','TIME','LAT','LON','POS_TYPE','NAV_QUALCO','BAT_TTIME','CORR_DEPTH','BAT_CPCO','BAT_TYPCO','BAT_QUALCO','MAG_TOT','MAG_TOT2','MAG_RES','MAG_RESSEN','MAG_DICORR','MAG_SDEPTH','MAG_QUALCO','GRA_OBS','EOTVOS','FREEAIR','GRA_QUALCO','LINEID','POINTID']\n",
    "\n",
    "vanc05mv_data_file = pd.read_table('data_tracks/vanc05mv.m77t')\n",
    "atlantic_data = vanc05mv_data_file.drop(columns=['SURVEY_ID','TIMEZONE','DATE','TIME','POS_TYPE','NAV_QUALCO',\n",
    "                                                 'BAT_TTIME','BAT_CPCO','BAT_TYPCO','BAT_QUALCO','MAG_TOT2','MAG_RES',\n",
    "                                                 'MAG_RESSEN','MAG_DICORR','MAG_SDEPTH','MAG_QUALCO','GRA_OBS','EOTVOS',\n",
    "                                                 'FREEAIR','GRA_QUALCO','LINEID','POINTID'])\n",
    "atlantic_data.head()"
   ]
  },
  {
   "cell_type": "code",
   "execution_count": 3,
   "metadata": {},
   "outputs": [
    {
     "data": {
      "text/html": [
       "<div>\n",
       "<style scoped>\n",
       "    .dataframe tbody tr th:only-of-type {\n",
       "        vertical-align: middle;\n",
       "    }\n",
       "\n",
       "    .dataframe tbody tr th {\n",
       "        vertical-align: top;\n",
       "    }\n",
       "\n",
       "    .dataframe thead th {\n",
       "        text-align: right;\n",
       "    }\n",
       "</style>\n",
       "<table border=\"1\" class=\"dataframe\">\n",
       "  <thead>\n",
       "    <tr style=\"text-align: right;\">\n",
       "      <th></th>\n",
       "      <th>LAT</th>\n",
       "      <th>LON</th>\n",
       "      <th>CORR_DEPTH</th>\n",
       "      <th>MAG_TOT</th>\n",
       "    </tr>\n",
       "  </thead>\n",
       "  <tbody>\n",
       "    <tr>\n",
       "      <th>count</th>\n",
       "      <td>26951.000000</td>\n",
       "      <td>26951.000000</td>\n",
       "      <td>25010.000000</td>\n",
       "      <td>14028.000000</td>\n",
       "    </tr>\n",
       "    <tr>\n",
       "      <th>mean</th>\n",
       "      <td>-47.071392</td>\n",
       "      <td>-36.939197</td>\n",
       "      <td>3018.086765</td>\n",
       "      <td>26557.261762</td>\n",
       "    </tr>\n",
       "    <tr>\n",
       "      <th>std</th>\n",
       "      <td>6.643869</td>\n",
       "      <td>32.681119</td>\n",
       "      <td>1446.118658</td>\n",
       "      <td>1157.487595</td>\n",
       "    </tr>\n",
       "    <tr>\n",
       "      <th>min</th>\n",
       "      <td>-56.018980</td>\n",
       "      <td>-76.166600</td>\n",
       "      <td>76.000000</td>\n",
       "      <td>24852.000000</td>\n",
       "    </tr>\n",
       "    <tr>\n",
       "      <th>25%</th>\n",
       "      <td>-52.042025</td>\n",
       "      <td>-72.776660</td>\n",
       "      <td>1764.000000</td>\n",
       "      <td>25434.000000</td>\n",
       "    </tr>\n",
       "    <tr>\n",
       "      <th>50%</th>\n",
       "      <td>-49.004340</td>\n",
       "      <td>-40.010090</td>\n",
       "      <td>3267.500000</td>\n",
       "      <td>26358.000000</td>\n",
       "    </tr>\n",
       "    <tr>\n",
       "      <th>75%</th>\n",
       "      <td>-41.646480</td>\n",
       "      <td>-6.273700</td>\n",
       "      <td>4248.000000</td>\n",
       "      <td>27472.000000</td>\n",
       "    </tr>\n",
       "    <tr>\n",
       "      <th>max</th>\n",
       "      <td>-32.989350</td>\n",
       "      <td>18.437850</td>\n",
       "      <td>5370.000000</td>\n",
       "      <td>29206.000000</td>\n",
       "    </tr>\n",
       "  </tbody>\n",
       "</table>\n",
       "</div>"
      ],
      "text/plain": [
       "                LAT           LON    CORR_DEPTH       MAG_TOT\n",
       "count  26951.000000  26951.000000  25010.000000  14028.000000\n",
       "mean     -47.071392    -36.939197   3018.086765  26557.261762\n",
       "std        6.643869     32.681119   1446.118658   1157.487595\n",
       "min      -56.018980    -76.166600     76.000000  24852.000000\n",
       "25%      -52.042025    -72.776660   1764.000000  25434.000000\n",
       "50%      -49.004340    -40.010090   3267.500000  26358.000000\n",
       "75%      -41.646480     -6.273700   4248.000000  27472.000000\n",
       "max      -32.989350     18.437850   5370.000000  29206.000000"
      ]
     },
     "execution_count": 3,
     "metadata": {},
     "output_type": "execute_result"
    }
   ],
   "source": [
    "atlantic_data.describe()"
   ]
  },
  {
   "cell_type": "markdown",
   "metadata": {},
   "source": [
    "Usaremos el condicional ``~np.isnan`` para seleccionar filas donde tenemos medidas de profundidad y campo magnético."
   ]
  },
  {
   "cell_type": "code",
   "execution_count": 4,
   "metadata": {},
   "outputs": [
    {
     "ename": "TypeError",
     "evalue": "ufunc 'isnan' not supported for the input types, and the inputs could not be safely coerced to any supported types according to the casting rule ''safe''",
     "output_type": "error",
     "traceback": [
      "\u001b[0;31m---------------------------------------------------------------------------\u001b[0m",
      "\u001b[0;31mTypeError\u001b[0m                                 Traceback (most recent call last)",
      "\u001b[0;32m<ipython-input-4-a46579ad2b35>\u001b[0m in \u001b[0;36m<module>\u001b[0;34m\u001b[0m\n\u001b[0;32m----> 1\u001b[0;31m \u001b[0matlantic_data_clean\u001b[0m \u001b[0;34m=\u001b[0m \u001b[0matlantic_data\u001b[0m\u001b[0;34m[\u001b[0m\u001b[0;34m~\u001b[0m\u001b[0mnp\u001b[0m\u001b[0;34m.\u001b[0m\u001b[0misnan\u001b[0m\u001b[0;34m(\u001b[0m\u001b[0;34m...\u001b[0m\u001b[0;34m)\u001b[0m \u001b[0;34m&\u001b[0m  \u001b[0;34m~\u001b[0m\u001b[0mnp\u001b[0m\u001b[0;34m.\u001b[0m\u001b[0misnan\u001b[0m\u001b[0;34m(\u001b[0m\u001b[0;34m...\u001b[0m\u001b[0;34m)\u001b[0m\u001b[0;34m]\u001b[0m\u001b[0;34m;\u001b[0m\u001b[0;34m\u001b[0m\u001b[0;34m\u001b[0m\u001b[0m\n\u001b[0m\u001b[1;32m      2\u001b[0m \u001b[0matlantic_data_clean\u001b[0m\u001b[0;34m.\u001b[0m\u001b[0mhead\u001b[0m\u001b[0;34m(\u001b[0m\u001b[0;34m)\u001b[0m\u001b[0;34m\u001b[0m\u001b[0;34m\u001b[0m\u001b[0m\n",
      "\u001b[0;31mTypeError\u001b[0m: ufunc 'isnan' not supported for the input types, and the inputs could not be safely coerced to any supported types according to the casting rule ''safe''"
     ]
    }
   ],
   "source": [
    "atlantic_data_clean = atlantic_data[~np.isnan(...) &  ~np.isnan(...)];\n",
    "atlantic_data_clean.head()"
   ]
  },
  {
   "cell_type": "code",
   "execution_count": null,
   "metadata": {},
   "outputs": [],
   "source": [
    "atlantic_data_clean.describe()"
   ]
  },
  {
   "cell_type": "markdown",
   "metadata": {},
   "source": [
    "¡Echemos un vistazo a nuestros datos! Grafique ``atlantic_data`` en un mapa y haga que tenga un ancho de línea de 2 y un color naranja. También trace ``atlantic_data_clean`` en el mismo mapa y haga que tenga un ancho de línea de 4 y un color rojo."
   ]
  },
  {
   "cell_type": "code",
   "execution_count": null,
   "metadata": {},
   "outputs": [],
   "source": [
    "plt.figure(1,(15,15))\n",
    "ax = plt.axes(projection=ccrs.Robinson())\n",
    "ax.set_global()\n",
    "\n",
    "ax.plot(atlantic_data['LON'],atlantic_data['LAT'],'-',\n",
    "            color=...,linewidth=...,transform=ccrs.PlateCarree())\n",
    "ax.plot(...,...,'-',\n",
    "            color=...,linewidth=...,transform=ccrs.PlateCarree()) # Plotee aqui los datos filtados\n",
    "ax.coastlines()\n",
    "ax.stock_img()\n",
    "ax.gridlines()\n",
    "\n",
    "plt.show()"
   ]
  },
  {
   "cell_type": "code",
   "execution_count": null,
   "metadata": {},
   "outputs": [],
   "source": [
    "plt.figure(1,(15,10))\n",
    "ax1=plt.subplot(2, 1, 1)\n",
    "ax1.plot(atlantic_data_clean['LON'],-1*atlantic_data_clean['CORR_DEPTH'],color='mediumblue');\n",
    "ax1.set_ylabel('Batimetría, m');\n",
    "ax1.set_title('Dorsal del Atlántico')\n",
    "\n",
    "ax2=plt.subplot(2, 1, 2)\n",
    "ax2.plot(atlantic_data_clean['LON'],atlantic_data_clean['MAG_TOT'],color='mediumblue');\n",
    "ax2.set_xlabel('Longitud, degrees');\n",
    "ax2.set_ylabel('Campo Magnético, nT');"
   ]
  },
  {
   "cell_type": "markdown",
   "metadata": {},
   "source": [
    "Analicemos solo la parte del levantamiento alrededor de la dorsal, para ser más exactos entre las longitudes -24.0º - 0.0º. Para hacer esto use la una condición booleana para extraer las filas de ``atlantic_data_clean`` donde ``atlantic_data_clean['LON']`` está entre esos valores."
   ]
  },
  {
   "cell_type": "code",
   "execution_count": null,
   "metadata": {},
   "outputs": [],
   "source": [
    "atlantic_data_cropped = atlantic_data_clean[(...) & (...)]"
   ]
  },
  {
   "cell_type": "markdown",
   "metadata": {},
   "source": [
    "Aquí hay un mapa donde nuestra por donde el barco midió la batimetría del oceáno. En el fondo de la figura se puede ver la batimetría de todo el oceáno.\n",
    "![](MAR_track_map.png)"
   ]
  },
  {
   "cell_type": "code",
   "execution_count": null,
   "metadata": {},
   "outputs": [],
   "source": [
    "plt.figure(1,(15,10))\n",
    "ax1=plt.subplot(2, 1, 1)\n",
    "ax1.plot(atlantic_data_cropped['LON'],-1*atlantic_data_cropped['CORR_DEPTH'],color='mediumblue');\n",
    "ax1.set_ylabel('Batimetría, m');\n",
    "ax1.set_title('Dorsal del Atlántico')\n",
    "\n",
    "ax2=plt.subplot(2, 1, 2)\n",
    "ax2.plot(atlantic_data_cropped['LON'],atlantic_data_cropped['MAG_TOT'],color='mediumblue');\n",
    "ax2.set_xlabel('Longitud, grados');\n",
    "ax2.set_ylabel('Campo Magnético Total, nT');"
   ]
  },
  {
   "cell_type": "markdown",
   "metadata": {},
   "source": [
    "Usé otro programa para proyectar las coordenadas de latitud y longitud en distacia. Para así poder observar los datos usando como origen la dorsal del Atlántico. Carguemos esos nuevos datos."
   ]
  },
  {
   "cell_type": "code",
   "execution_count": null,
   "metadata": {},
   "outputs": [],
   "source": [
    "projected_atlantic_data = pd.read_csv('data_tracks/projected_vanc05mv.csv',names=['DIST','DEPTH','MAG_TOT'])"
   ]
  },
  {
   "cell_type": "code",
   "execution_count": null,
   "metadata": {},
   "outputs": [],
   "source": [
    "plt.figure(1,(15,10))\n",
    "ax1=plt.subplot(2, 1, 1)\n",
    "ax1.plot(projected_atlantic_data['DIST'],-1*projected_atlantic_data['DEPTH'],color='mediumblue');\n",
    "ax1.set_title('Dorsal del Atlántico')\n",
    "ax1.set_ylabel('Batimetría, m');\n",
    "\n",
    "ax2=plt.subplot(2, 1, 2)\n",
    "ax2.plot(projected_atlantic_data['DIST'],projected_atlantic_data['MAG_TOT'],color='mediumblue');\n",
    "ax2.set_xlabel('Distancia desde la Dorsal, km');\n",
    "ax2.set_ylabel('Campo Magnético Total, nT');"
   ]
  },
  {
   "cell_type": "markdown",
   "metadata": {},
   "source": [
    "Ahora carguemos y filtremos los datos de la dorsal del Pacífico (https://catalog.data.gov/dataset/multibeam-collection-for-nbp9707-multibeam-data-collected-aboard-nathaniel-b-palmer-from-1997-1). Esta vez seleccionaremos las longitudes entre -126º y -95º."
   ]
  },
  {
   "cell_type": "code",
   "execution_count": null,
   "metadata": {},
   "outputs": [],
   "source": [
    "# Load the seafloor depth, marine mag anom data\n",
    "# Source: https://maps.ngdc.noaa.gov/viewers/geophysics/\n",
    "#names=['SURVEY_ID','TIMEZONE','DATE','TIME','LAT','LON','POS_TYPE','NAV_QUALCO','BAT_TTIME','CORR_DEPTH','BAT_CPCO','BAT_TYPCO','BAT_QUALCO','MAG_TOT','MAG_TOT2','MAG_RES','MAG_RESSEN','MAG_DICORR','MAG_SDEPTH','MAG_QUALCO','GRA_OBS','EOTVOS','FREEAIR','GRA_QUALCO','LINEID','POINTID'])\n",
    "\n",
    "nbp9707_data_file=pd.read_table('data_tracks/nbp9707.m77t')\n",
    "pacific_data = nbp9707_data_file.drop(columns=['SURVEY_ID','TIMEZONE','DATE','TIME','POS_TYPE','NAV_QUALCO','BAT_TTIME','BAT_CPCO','BAT_TYPCO','BAT_QUALCO','MAG_TOT2','MAG_RES','MAG_RESSEN','MAG_DICORR','MAG_SDEPTH','MAG_QUALCO','GRA_OBS','EOTVOS','FREEAIR','GRA_QUALCO','LINEID','POINTID'])\n",
    "\n",
    "pacific_data_clean =  #use ~np.isnan para limpiar los datos nan\n",
    "pacific_data_cropped = # use una condición boolenana para filtrar los datos entre -126º a -95º"
   ]
  },
  {
   "cell_type": "markdown",
   "metadata": {},
   "source": [
    "Nuevamente, aquí hay un mapa donde se muestra por donde el barco midió la batimetría del oceáno Pacífico. En el fondo de la figura se puede ver la batimetría de todo el oceáno.\n",
    "![](EPR_track_map.png)"
   ]
  },
  {
   "cell_type": "code",
   "execution_count": null,
   "metadata": {},
   "outputs": [],
   "source": [
    "plt.figure(1,(15,10))\n",
    "ax1=plt.subplot(2, 1, 1)\n",
    "ax1.plot(pacific_data_cropped['LON'],-1*pacific_data_cropped['CORR_DEPTH'],color='tomato');\n",
    "ax1.set_ylabel('Batimetría, m');\n",
    "ax1.set_title('Dorsal del Pacífico Oriental')\n",
    "\n",
    "ax2=plt.subplot(2, 1, 2)\n",
    "ax2.plot(pacific_data_cropped['LON'],pacific_data_cropped['MAG_TOT'],color='tomato');\n",
    "ax2.set_xlabel('Longitud, grados');\n",
    "ax2.set_ylabel('Total Campo Magnético, nT');"
   ]
  },
  {
   "cell_type": "markdown",
   "metadata": {},
   "source": [
    "Nuevamente, utilicé el software GMT (herramientas de mapeo genérico) para proyectar las coordenadas de latitud y longitud sobre la distancia desde la dorsal."
   ]
  },
  {
   "cell_type": "code",
   "execution_count": null,
   "metadata": {},
   "outputs": [],
   "source": [
    "projected_pacific_data = pd.read_csv('data_tracks/projected_nbp9707.csv',names=['DIST','DEPTH','MAG_TOT'])"
   ]
  },
  {
   "cell_type": "markdown",
   "metadata": {},
   "source": [
    "## Batimetría\n",
    "Ahora comparemos la batimetría de las dos dorsales. Plotiemos ambas batimetrías en una figura con dos subplots. Use $\\pm$ 1000 km como límites del eje x y de -5000 a -1500 metros como límites del eje y para ambas dorsales."
   ]
  },
  {
   "cell_type": "code",
   "execution_count": null,
   "metadata": {},
   "outputs": [],
   "source": [
    "plt.figure(1,(15,10))\n",
    "ax1 = plt.subplot(2,1,1)\n",
    "ax1.plot(projected_pacific_data['DIST'],-projected_pacific_data['DEPTH'],color='tomato') # plot the pacific bathymetry\n",
    "ax1.set_xlim(-1000, 1000) # set the x axis range\n",
    "ax1.set_ylim(-5000, -1500) # set the y  axis range\n",
    "ax1.set_xlabel('Distancia desde la dorsal, km') # labels!\n",
    "ax1.set_ylabel('Batimetría, m')\n",
    "ax1.set_title('Dorsal del Pacífico Oriental')\n",
    "ax1.grid()\n",
    "\n",
    "ax2 = plt.subplot(2,1,2)\n",
    "ax2.plot(projected_atlantic_data['DIST'],-projected_atlantic_data['DEPTH'],color='mediumblue'); # plot the atlantic bathymetry\n",
    "ax2.set_xlim(-1000, 1000)\n",
    "ax2.set_ylim(-5000, -1500)\n",
    "ax1.set_xlabel('Distancia desde la dorsal, km') # labels!\n",
    "ax1.set_ylabel('Batimetría, m')\n",
    "ax2.set_title('Mid Atlantic Ridge')\n",
    "ax2.grid()\n",
    "\n",
    "plt.tight_layout()"
   ]
  },
  {
   "cell_type": "markdown",
   "metadata": {},
   "source": [
    "![](spreading_ridges.png)\n",
    "\n",
    "\n",
    "¿Qué observas en la batimetría? ¿Tienen estas dorsales un valle de rift en el centro? ¿La pendiente es empinada o más bien plana? ¿La batimetría es rugosa o suave?\n",
    "\n",
    "Escriba aquí su respuesta.\n",
    "\n",
    "Según la batimetría de la dorsal, ¿qué centro de expansión crees que se está extendiendo más rápido el Atlántico (azul) o el Pacífico (rojo)?\n",
    "\n",
    "Escriba aquí su respuesta.\n"
   ]
  },
  {
   "cell_type": "markdown",
   "metadata": {},
   "source": [
    "## Campo magnético de la corteza\n",
    "Ahora comparemos sus datos de campo magnético marino.\n",
    "\n",
    "Haz un gráfico del campo magnético de cada dorsal (['MAG_TOT']). Siga el código anterior para la batimetría. Asegúrese de incluir etiquetas de eje."
   ]
  },
  {
   "cell_type": "raw",
   "metadata": {},
   "source": [
    "ax2.set_xlabel ('Distancia a la dorsal, km');\n",
    "ax2.set_ylabel ('Campo total, nT');\n",
    "ax2.set_title ('Cordillera del Atlántico Medio');"
   ]
  },
  {
   "cell_type": "code",
   "execution_count": null,
   "metadata": {},
   "outputs": [],
   "source": [
    "# Plotee el campo magnético (siga el ejemplo anterior)\n",
    "plt.figure(1,(15,10))\n",
    "ax1 = plt.subplot(2,1,1)\n",
    "ax1.plot(...,...,color='tomato') # plotear intensidad del campo magnetico en el pacífico\n",
    "ax1.set_xlim(-1000, 1000) # set the x axis range\n",
    "ax1.set_ylim(-5000, -1500) # set the y  axis range\n",
    "ax1.set_xlabel('...') # labels!\n",
    "ax1.set_ylabel('...')\n",
    "ax1.set_title('Dorsal del Pacífico Oriental')\n",
    "ax1.grid()\n",
    "\n",
    "ax2 = plt.subplot(2,1,2)\n",
    "ax2.plot(...,...,color='mediumblue'); # plotear intensidad del campo magnetico en el atlantico\n",
    "ax2.set_xlim(-1000, 1000)\n",
    "ax2.set_ylim(-5000, -1500)\n",
    "ax1.set_xlabel('...') # labels!\n",
    "ax1.set_ylabel('...')\n",
    "ax2.set_title('Mid Atlantic Ridge')\n",
    "ax2.grid()\n",
    "\n",
    "plt.tight_layout()"
   ]
  },
  {
   "cell_type": "markdown",
   "metadata": {},
   "source": [
    "Para entender mejor el campo magnético he definido una nueva función ``total2anom`` . El magnetómetro mide el campo magnético total (incluyendo el terrestre) y es necesario remover esa componente de los datos para obtener sólo en campo magnético del fondo marino (anomalía magnética). La función ``total2anom`` filtra ese campo magnético extra presente en los datos."
   ]
  },
  {
   "cell_type": "code",
   "execution_count": null,
   "metadata": {},
   "outputs": [],
   "source": [
    "def total_to_anomaly(total_mag, distance):\n",
    "    \"\"\"\n",
    "    Simple function (i.e. too simple as it doesn't use knowledge of background field from observatory) to process \n",
    "    measured total magnetic field to magnetic anomaly. Detrends and highpass filters the total field.\n",
    "    \n",
    "    parameters\n",
    "    ----------\n",
    "    total_mag : total magnetic field measurement\n",
    "    distance : distance from the ridge in km\n",
    "    \n",
    "    output\n",
    "    ------\n",
    "    filtered_anom : marine magnetic anomaly (detrended and filtered total field)\n",
    "    \"\"\"\n",
    "    total_detrended = signal.detrend(total_mag); # detrend to remove drift\n",
    "    sample_dist = np.mean(abs(distance.values[1:]-distance.values[0:-1])); # determine sample spacing\n",
    "    fs = 1/sample_dist; # sampling frequency in km^-1\n",
    "    fN = fs *0.5; # Nyquist frequency\n",
    "    # design filter coefficents for highpass filter - 0 to 1/500km filtered, 1/450km to fN passed, \n",
    "    # remove nonlinear drift\n",
    "    filter_coefs = signal.remez(1001, [0, 0.002, 0.00222, fN], [0, 1], fs=fs);\n",
    "    # apply the filter to the detrended anomaly\n",
    "    filtered_anom = signal.filtfilt(filter_coefs, [1], total_detrended, padlen=len(total_detrended)-1)\n",
    "    \n",
    "    return filtered_anom"
   ]
  },
  {
   "cell_type": "markdown",
   "metadata": {},
   "source": [
    "Utilice esta función ``total_to_anomaly`` para calcular las anomalías magnéticas marinas."
   ]
  },
  {
   "cell_type": "code",
   "execution_count": null,
   "metadata": {},
   "outputs": [],
   "source": [
    "atl_mma = total_to_anomaly(...,...)\n",
    "pac_mma = total_to_anomaly(...,...)"
   ]
  },
  {
   "cell_type": "markdown",
   "metadata": {},
   "source": [
    "Tracemos estos datos"
   ]
  },
  {
   "cell_type": "code",
   "execution_count": null,
   "metadata": {},
   "outputs": [],
   "source": [
    "plt.figure(1,(15,10))\n",
    "ax1 = plt.subplot(2,1,1)\n",
    "ax1.plot(projected_pacific_data['DIST'],pac_mma,color='tomato'); # plot the pacific marine magnetic anomaly\n",
    "ax1.set_xlim(-1000, 1000);\n",
    "ax1.set_xlabel('Distancia a la dorsal, km');\n",
    "ax1.set_ylabel('Anomalía Magnética, nT');\n",
    "ax1.set_title('Dorsal del Pacífico Oriental');\n",
    "\n",
    "ax2 = plt.subplot(2,1,2)\n",
    "ax2.plot(projected_atlantic_data['DIST'],atl_mma,color='mediumblue'); # plot the atlantic marine magnetic anomaly\n",
    "ax2.set_xlim(-1000, 1000);\n",
    "ax1.set_xlabel('Distancia a la dorsal, km');\n",
    "ax1.set_ylabel('Anomalía Magnética, nT');\n",
    "ax2.set_title('Dorsal del Atlántico');\n",
    "\n",
    "plt.tight_layout()"
   ]
  },
  {
   "cell_type": "markdown",
   "metadata": {},
   "source": [
    "Plotee las anomalías magnéticas marinas un figura con dos subplots usando como referencia el 0 nT, y amplíe el xlim a $\\pm$ 100 km y agregue una cuadrícula con xticks cada 10 km usando ``ax1.set_xticks(np.arange(-100,100,10))``."
   ]
  },
  {
   "cell_type": "code",
   "execution_count": null,
   "metadata": {},
   "outputs": [],
   "source": [
    "# su codigo aqui"
   ]
  },
  {
   "cell_type": "markdown",
   "metadata": {},
   "source": [
    "![](marine_mag_anom.png)"
   ]
  },
  {
   "cell_type": "markdown",
   "metadata": {},
   "source": [
    "¿Pueden hacer coincidir las GPTS (mostradas anteriormente) y las anomalías magnéticas en el oceáno? ¿Puedes identificar las crónicas de polaridad de Bruhnes, Matuyama, Gauss y Gilbet? ¿A qué distancia de las dorales se produce la inversión Bruhnes-Matuyama (que fue hace 776.000 años)?\n",
    "\n",
    "Escriba aquí su respuesta.\n",
    "\n",
    "Defina una función que pueda utilizar para calcular la rapidez de expansión en km/Ma (kilometro por millón de años) utilizando la distancia desde la dorsal hasta la inversión Bruhnes-Matuyama. La función debe tomar la distancia a la inversión como entrada y devolver una rapidez de expansión. Un dato importante es que la última inversión de polos ocurrió hace 776.000 años (Singer et al.2019).\n",
    "\n",
    "Puede encontrar información útil sobre las funciones aquí (parte de su lectura semanal): https://www.inferentialthinking.com/chapters/08/Functions_and_Tables.html"
   ]
  },
  {
   "cell_type": "code",
   "execution_count": null,
   "metadata": {},
   "outputs": [],
   "source": [
    "def spread_rate(dist,age):\n",
    "    \"\"\"\n",
    "    Function to \n",
    "    \n",
    "    parameters\n",
    "    ----------\n",
    "    dist: distancia de la dorsal en km\n",
    "    age: edad de la inversion en Ma\n",
    "    \n",
    "    output\n",
    "    ------\n",
    "    rate: la rapidez a la cual se expande esta dada por el cuociente entre la distancia y la edad.  \n",
    "    \"\"\"\n",
    "    # escribe tu codigo\n",
    "    \n",
    "    \n",
    "    return rate"
   ]
  },
  {
   "cell_type": "markdown",
   "metadata": {},
   "source": [
    "Use su función para calcular la tasa de expansión de las dorsales del atlántico y pacífico. Muestre sus resultados.\n"
   ]
  },
  {
   "cell_type": "code",
   "execution_count": null,
   "metadata": {},
   "outputs": [],
   "source": [
    "alt_spread_rate = spread_rate(...,...)\n",
    "pac_spread_rate = spread_rate(...,...)\n",
    "print(alt_spread_rate,pac_spread_rate)"
   ]
  },
  {
   "cell_type": "markdown",
   "metadata": {},
   "source": [
    "**Basado en las anomalías magnéticas marinas, ¿qué centro de expansión crees que se está extendiendo más rápido en el Atlántico (azul) o el Pacífico (rojo)? ¿Es eso consistente con su estimación de la batimetría?**\n",
    "\n",
    "Escriba aquí su respuesta."
   ]
  }
 ],
 "metadata": {
  "kernelspec": {
   "display_name": "Python 3",
   "language": "python",
   "name": "python3"
  },
  "language_info": {
   "codemirror_mode": {
    "name": "ipython",
    "version": 3
   },
   "file_extension": ".py",
   "mimetype": "text/x-python",
   "name": "python",
   "nbconvert_exporter": "python",
   "pygments_lexer": "ipython3",
   "version": "3.8.8"
  }
 },
 "nbformat": 4,
 "nbformat_minor": 4
}
