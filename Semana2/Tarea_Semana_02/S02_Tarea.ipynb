{
 "cells": [
  {
   "cell_type": "markdown",
   "metadata": {},
   "source": [
    "# La edad del fondo marino [100 puntos]\n",
    "\n",
    "**Objetivos:**\n",
    "- Cargar y visualizar la edad del fondo marino.\n",
    "- Hacer inferencias a partir de como se distribuye la edad del fondo marino con los procesos tectónicos. "
   ]
  },
  {
   "cell_type": "markdown",
   "metadata": {},
   "source": [
    "## Setup\n",
    "\n",
    "Correr esta celda que contiene las librerías necesarias para llevar acabo la tarea."
   ]
  },
  {
   "cell_type": "code",
   "execution_count": null,
   "metadata": {},
   "outputs": [],
   "source": [
    "import numpy as np\n",
    "import matplotlib.pyplot as plt\n",
    "import pandas as pd\n",
    "# https://twitter.com/Sydonahi/status/1301651295808270336\n",
    "from matplotlib import cm\n",
    "from cartopy import config\n",
    "import cartopy.crs as ccrs"
   ]
  },
  {
   "cell_type": "markdown",
   "metadata": {},
   "source": [
    "### Cargando la edad del fondo marino\n",
    "\n",
    "Cargaremos los datos como un Pandas dataframe usando la función `pd.read_csv`.\n",
    "\n",
    "- la columna 1 es la longitud en grados\n",
    "- la columna 2 es la latitud en grados\n",
    "- la columna 3 es la edad del fondo marino en millones de años\n"
   ]
  },
  {
   "cell_type": "code",
   "execution_count": null,
   "metadata": {},
   "outputs": [],
   "source": [
    "seafloor_age_data = pd.read_csv('data/age.csv')\n",
    "seafloor_age_data.head()"
   ]
  },
  {
   "cell_type": "markdown",
   "metadata": {},
   "source": [
    "Los Pandas dataframe son súper útiles y los usaremos mucho. Mira este video para obtener una introducción a la librería de pandas."
   ]
  },
  {
   "cell_type": "code",
   "execution_count": null,
   "metadata": {},
   "outputs": [],
   "source": [
    "from IPython.display import YouTubeVideo\n",
    "# Wrangling Data with Pandas\n",
    "YouTubeVideo('XDAnFZqJDvI', width=\"1000\", height=\"500\")"
   ]
  },
  {
   "cell_type": "markdown",
   "metadata": {},
   "source": [
    "Como lo presentó Yufeng, la función `describe` proporciona estadísticas resumidas en un dataframe. Nuestro dataframe se llama `seafloor_age_data`. Al igual que aplicamos la función `.head ()` al dataframe después de importarlo, la función `describe` se puede aplicar al dataframe para obtener este resumen. Haga esto en la celda de abajo."
   ]
  },
  {
   "cell_type": "code",
   "execution_count": 2,
   "metadata": {},
   "outputs": [],
   "source": [
    "# Aplicar la función descrita aquí "
   ]
  },
  {
   "cell_type": "markdown",
   "metadata": {},
   "source": [
    "**¿Qué edad tiene el lecho marino más antiguo en comparación con la edad de la Tierra y por qué hay una diferencia tan grande?** [20 puntos]"
   ]
  },
  {
   "cell_type": "markdown",
   "metadata": {},
   "source": [
    "_Escribe tu respuesta aquí._"
   ]
  },
  {
   "cell_type": "markdown",
   "metadata": {},
   "source": [
    "### Histograma de la edad del fondo marino [20 puntos]\n",
    "\n",
    "#### Acceder a los datos de una columna en específico\n",
    "\n",
    "Como Yufeng describió en el video, se puede acceder a los valores de una columna en particular dentro de un dataframe utilizando la notación entre corchetes. Entonces, para obtener los valores correspondientes a la edad, podemos usar la notación `seafloor_age_data ['age_Ma']` como en la celda de abajo:"
   ]
  },
  {
   "cell_type": "code",
   "execution_count": null,
   "metadata": {},
   "outputs": [],
   "source": [
    "seafloor_age_data['age_Ma']"
   ]
  },
  {
   "cell_type": "markdown",
   "metadata": {},
   "source": [
    "Podemos usar `seafloor_age_data ['age_Ma']` como input de un histograma. En clase, hicimos el histograma de la. elevación global. Aquí debe realizar lo mismo pero con la edad del lecho marino. No olvide rotular los ejes y especificar el titulo. "
   ]
  },
  {
   "cell_type": "code",
   "execution_count": 1,
   "metadata": {},
   "outputs": [],
   "source": [
    "#Espacio para hacer el histograma"
   ]
  },
  {
   "cell_type": "markdown",
   "metadata": {},
   "source": [
    "### El mapa de la edad del fondo marino [20 puntos por el mapa; 20 puntos por cada pregunta]"
   ]
  },
  {
   "cell_type": "markdown",
   "metadata": {},
   "source": [
    "Para hacer el mapa, hagamos que las columnas del Pandas dataframe sean matrices numpy."
   ]
  },
  {
   "cell_type": "code",
   "execution_count": null,
   "metadata": {},
   "outputs": [],
   "source": [
    "age_longitude = np.asarray(seafloor_age_data['longitude'])\n",
    "age_latitude = np.asarray(seafloor_age_data['latitude'])\n",
    "age = np.asarray(seafloor_age_data['age_Ma'])"
   ]
  },
  {
   "cell_type": "markdown",
   "metadata": {},
   "source": [
    "Como hicimos en clase, necesitamos cambiar las dimensiones de las matrices para poder mapear. Cambie la forma de los datos en cuadrículas de tamaño (901,1801).\n",
    "\n",
    "Reemplace los `...` abajo para hacer esto."
   ]
  },
  {
   "cell_type": "code",
   "execution_count": null,
   "metadata": {},
   "outputs": [],
   "source": [
    "age_grid = age.reshape(...)\n",
    "age_lon_grid = age_longitude.reshape(...)\n",
    "age_lat_grid = age_latitude.reshape(...)"
   ]
  },
  {
   "cell_type": "code",
   "execution_count": null,
   "metadata": {},
   "outputs": [],
   "source": [
    "age_grid.shape"
   ]
  },
  {
   "cell_type": "markdown",
   "metadata": {},
   "source": [
    "Cree el mapa de la edad del lecho marino.\n",
    "\n",
    "Reemplace ... a continuación en `plt.contourf` para hacer tal mapa."
   ]
  },
  {
   "cell_type": "code",
   "execution_count": null,
   "metadata": {},
   "outputs": [],
   "source": [
    "plt.figure(1,(15,15))\n",
    "ax = plt.axes(projection=ccrs.Robinson())\n",
    "ax.set_global()\n",
    "plt.contourf(...)\n",
    "\n",
    "ax.coastlines()\n",
    "ax.gridlines()\n",
    "\n",
    "color_ax = plt.axes([0.95, 0.3, 0.05, 0.35])\n",
    "plt.colorbar(cax=color_ax) \n",
    "plt.title('Age, Myr'); \n",
    "\n",
    "plt.show()"
   ]
  },
  {
   "cell_type": "markdown",
   "metadata": {},
   "source": [
    "¿Qué patrones observas? ¿Dónde está el fondo marino más joven en relación con las dorsales del fondo marino que observamos en nuestro mapa topográfico? ¿Dónde está el fondo marino más antiguo?"
   ]
  },
  {
   "cell_type": "markdown",
   "metadata": {},
   "source": [
    "_Escribe tu respuesta aquí._"
   ]
  },
  {
   "cell_type": "markdown",
   "metadata": {},
   "source": [
    "¿A dónde fue el fondo marino más antiguo?"
   ]
  },
  {
   "cell_type": "markdown",
   "metadata": {},
   "source": [
    "_Escribe tu respuesta aquí._"
   ]
  }
 ],
 "metadata": {
  "kernelspec": {
   "display_name": "Python 3",
   "language": "python",
   "name": "python3"
  },
  "language_info": {
   "codemirror_mode": {
    "name": "ipython",
    "version": 3
   },
   "file_extension": ".py",
   "mimetype": "text/x-python",
   "name": "python",
   "nbconvert_exporter": "python",
   "pygments_lexer": "ipython3",
   "version": "3.7.6"
  }
 },
 "nbformat": 4,
 "nbformat_minor": 4
}
