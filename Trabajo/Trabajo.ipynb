{
 "cells": [
  {
   "cell_type": "markdown",
   "id": "f2a3c706-28bd-4037-83a7-414d01646763",
   "metadata": {},
   "source": [
    "Proyecto Módulo Interdisciplinario Sec. 13: Geociencia de Datos\n",
    "\n",
    "\n",
    "- \n",
    "\n"
   ]
  },
  {
   "cell_type": "markdown",
   "id": "f26e0903-1500-4ee9-b517-e2934d97db80",
   "metadata": {},
   "source": [
    "- Como han afectado las politicas internacionales en la disminución de gases de efecto invernadero.\n",
    "\n",
    "- A que velocidad hay que disminuir esto para no morir :'(\n",
    " \n",
    "- Emisiones de industrias vs emisiones personales y cambio climatico\n",
    "\n",
    "\n",
    "- Afecta el derretimiento de glaciales al aumento en el nivel del mar?\n",
    "- Cómo afectan los crecientes niveles de CO2 a la sequía actual\n",
    "- Nivel del agua vs nivel de glaciares\n",
    "- Salinidad del agua vs nivel del agua"
   ]
  },
  {
   "cell_type": "markdown",
   "id": "dfb04520-a0da-4d91-88cf-064762002be2",
   "metadata": {},
   "source": [
    "Posibles Fuentes de datos \n",
    "CO2\n",
    "https://gml.noaa.gov/ccgg/trends/gl_data.html\n",
    "\n",
    "\n"
   ]
  },
  {
   "cell_type": "code",
   "execution_count": null,
   "id": "639660ef-adac-4921-a115-d1b8df54b7c2",
   "metadata": {},
   "outputs": [],
   "source": []
  },
  {
   "cell_type": "code",
   "execution_count": null,
   "id": "b91309b2-f0b6-4b1f-96a0-85f8e5ef467a",
   "metadata": {},
   "outputs": [],
   "source": []
  }
 ],
 "metadata": {
  "kernelspec": {
   "display_name": "Python 3",
   "language": "python",
   "name": "python3"
  },
  "language_info": {
   "codemirror_mode": {
    "name": "ipython",
    "version": 3
   },
   "file_extension": ".py",
   "mimetype": "text/x-python",
   "name": "python",
   "nbconvert_exporter": "python",
   "pygments_lexer": "ipython3",
   "version": "3.9.2"
  }
 },
 "nbformat": 4,
 "nbformat_minor": 5
}
