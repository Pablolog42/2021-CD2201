{
 "cells": [
  {
   "cell_type": "markdown",
   "source": [
    "# Bienvenid@s!\n",
    "\n",
    "**Esta celda de texto es un Markdown. Es el tipo de celda donde podemos escribir texto que no es código.**\n",
    "\n",
    "Comencemos de inmediato tratando con algunos datos dentro de este Jupyter Notebook. La primera parte de código que ejecutará se encuentra en la celda de abajo. Puede presionar el botón *play* o presionar de manera más eficiente *shift + enter* en su teclado para ejecutar el código."
   ],
   "metadata": {
    "colab_type": "text",
    "id": "4z9RusIWHOne"
   }
  },
  {
   "cell_type": "code",
   "execution_count": 1,
   "source": [
    "#This cell is a code cell. It is where we can type code that can be executed.\n",
    "#The hashtag at the start of this line makes it so that this text is a comment not code. \n",
    "\n",
    "import pandas as pd"
   ],
   "outputs": [],
   "metadata": {
    "colab": {},
    "colab_type": "code",
    "executionInfo": {
     "elapsed": 620,
     "status": "ok",
     "timestamp": 1598914214625,
     "user": {
      "displayName": "Rodrigo Chi",
      "photoUrl": "https://lh3.googleusercontent.com/a-/AOh14GjZhQsPZWT1SuS1mPdDTVpP6w0ON1iS36_FM3uQRA=s64",
      "userId": "15993798166308231899"
     },
     "user_tz": 420
    },
    "id": "KtjYOL6XHOnf"
   }
  },
  {
   "cell_type": "markdown",
   "source": [
    "La razón por la que ejecutamos el código ```import pandas as pd``` es para poder usar las funciones de la libreria ```pandas```, que proporciona estructuras de datos y herramientas de análisis de datos que son realmente útiles. Una de las cosas fantásticas de realizar análisis de datos en Python es la disponibilidad de excelentes herramientas de análisis como ```pandas```. Algo frustrante puede ser aprender a usar estas diversas herramientas y saber cuando usarlas. Te sentirás cada vez más cómodo con estas herramientas a medida que avanza el semestre."
   ],
   "metadata": {
    "colab_type": "text",
    "id": "ymrcB4r-HOnj"
   }
  },
  {
   "cell_type": "markdown",
   "source": [
    "# Buscando tu cumplemoto\n",
    "\n",
    "Tu cumple-moto o terremoto de nacimiento es el terremoto de mayor magnitud que ocurrió el día en que naciste. En este ejercicio en clase buscaremos un catálogo de terremotos y encontraremos tu cumple-moto.\n",
    "\n",
    "Para hacerlo, podemos descargar datos del programa de peligro sísmico del Servicio Geológico de EE.UU. (USGS). https://earthquake.usgs.gov\n",
    "\n",
    "Vamos a utilizar una API (*Application programming interface*\n",
    ") que nos permite enviar una URL a la USGS y obtener información sobre terremotos para un conjunto de parámetros especificados.\n",
    "\n",
    "## Buscando el Cumplemoto de Rodrigo\n",
    "\n",
    "\n",
    "Hagámoslo primero para mi cumpleaños. Definiremos mi cumpleaños en formato año-mes-día y el día después de mi cumpleaños en formato año-mes-día para crear una URL que obtenga datos a partir de las 12 AM de mi cumpleaños y terminando a las 12 AM del día siguiente. Estamos poniendo las comillas ('') alrededor de las fechas para que sean *strings* (el tipo de datos de Python que es una secuencia de texto)."
   ],
   "metadata": {
    "colab_type": "text",
    "id": "KUTEgTghHOnj"
   }
  },
  {
   "cell_type": "code",
   "execution_count": 2,
   "source": [
    "Rodrigo_birthday = '1989-08-18'\n",
    "day_after_Rodrigo_birthday = '1989-08-19'"
   ],
   "outputs": [],
   "metadata": {
    "colab": {},
    "colab_type": "code",
    "executionInfo": {
     "elapsed": 652,
     "status": "ok",
     "timestamp": 1598914357177,
     "user": {
      "displayName": "Rodrigo Chi",
      "photoUrl": "https://lh3.googleusercontent.com/a-/AOh14GjZhQsPZWT1SuS1mPdDTVpP6w0ON1iS36_FM3uQRA=s64",
      "userId": "15993798166308231899"
     },
     "user_tz": 420
    },
    "id": "-HeA5HZ7HOnk"
   }
  },
  {
   "cell_type": "markdown",
   "source": [
    "Lo que acabamos de hacer en el código anterior es definir la variable ```Rodrigo_birthday``` para que tenga el valor string de ''. Si ejecutamos una celda de código solo con esa variable, Jupyter mostrará la variable como salida del código."
   ],
   "metadata": {
    "colab_type": "text",
    "id": "U7BFiwLlHOnm"
   }
  },
  {
   "cell_type": "code",
   "execution_count": 3,
   "source": [
    "Rodrigo_birthday"
   ],
   "outputs": [
    {
     "output_type": "execute_result",
     "data": {
      "text/plain": [
       "'1989-08-18'"
      ]
     },
     "metadata": {},
     "execution_count": 3
    }
   ],
   "metadata": {
    "colab": {
     "base_uri": "https://localhost:8080/",
     "height": 35
    },
    "colab_type": "code",
    "executionInfo": {
     "elapsed": 707,
     "status": "ok",
     "timestamp": 1598914372799,
     "user": {
      "displayName": "Rodrigo Chi",
      "photoUrl": "https://lh3.googleusercontent.com/a-/AOh14GjZhQsPZWT1SuS1mPdDTVpP6w0ON1iS36_FM3uQRA=s64",
      "userId": "15993798166308231899"
     },
     "user_tz": 420
    },
    "id": "4_pe6GXpHOnn",
    "outputId": "7b18b1d9-0837-4c92-b90a-1332653ea48c"
   }
  },
  {
   "cell_type": "markdown",
   "source": [
    "Otra forma de ver la variable es decirle a Python que la imprima usando la función `` print() ``."
   ],
   "metadata": {
    "colab_type": "text",
    "id": "DUgcLTnxHOnt"
   }
  },
  {
   "cell_type": "code",
   "execution_count": 4,
   "source": [
    "print(Rodrigo_birthday)"
   ],
   "outputs": [
    {
     "output_type": "stream",
     "name": "stdout",
     "text": [
      "1989-08-18\n"
     ]
    }
   ],
   "metadata": {
    "colab": {
     "base_uri": "https://localhost:8080/",
     "height": 34
    },
    "colab_type": "code",
    "executionInfo": {
     "elapsed": 699,
     "status": "ok",
     "timestamp": 1598914378926,
     "user": {
      "displayName": "Rodrigo Chi",
      "photoUrl": "https://lh3.googleusercontent.com/a-/AOh14GjZhQsPZWT1SuS1mPdDTVpP6w0ON1iS36_FM3uQRA=s64",
      "userId": "15993798166308231899"
     },
     "user_tz": 420
    },
    "id": "nE0x9YOdHOnt",
    "outputId": "d60c063f-4e40-4266-be23-8638dfd381b2"
   }
  },
  {
   "cell_type": "markdown",
   "source": [
    "### Definición de la URL del terremoto del cumpleaños de Rodrigo\n",
    "\n",
    "Para crear una URL que podamos enviar al USGS (y recuperar datos) necesitamos insertar estas fechas en el formato de URL de la API de terremotos del USGS. Definiremos standard_url como un string y luego agregaremos las fechas que se establecieron arriba para ser la hora de inicio y la hora de finalización."
   ],
   "metadata": {
    "colab_type": "text",
    "id": "A7KmPXHAHOnw"
   }
  },
  {
   "cell_type": "code",
   "execution_count": 5,
   "source": [
    "standard_url = 'https://earthquake.usgs.gov/fdsnws/event/1/query?format=csv&orderby=magnitude'\n",
    "\n",
    "Rodrigo_birthquake_url = standard_url + '&starttime=' + Rodrigo_birthday + '&endtime=' + day_after_Rodrigo_birthday\n",
    "\n",
    "Rodrigo_birthquake_url"
   ],
   "outputs": [
    {
     "output_type": "execute_result",
     "data": {
      "text/plain": [
       "'https://earthquake.usgs.gov/fdsnws/event/1/query?format=csv&orderby=magnitude&starttime=1989-08-18&endtime=1989-08-19'"
      ]
     },
     "metadata": {},
     "execution_count": 5
    }
   ],
   "metadata": {
    "colab": {
     "base_uri": "https://localhost:8080/",
     "height": 35
    },
    "colab_type": "code",
    "executionInfo": {
     "elapsed": 925,
     "status": "ok",
     "timestamp": 1598914443082,
     "user": {
      "displayName": "Rodrigo Chi",
      "photoUrl": "https://lh3.googleusercontent.com/a-/AOh14GjZhQsPZWT1SuS1mPdDTVpP6w0ON1iS36_FM3uQRA=s64",
      "userId": "15993798166308231899"
     },
     "user_tz": 420
    },
    "id": "K5icHhlbHOnw",
    "outputId": "d0b99155-69e2-4597-b28b-322787c491dd"
   }
  },
  {
   "cell_type": "markdown",
   "source": [
    "### Conseguir los terremotos del cumpleaños de Rodrigo\n",
    "\n",
    "Ahora tenemos una URL que podemos usar para obtener datos del USGS. Podemos usar las funciones `pandas` que importamos en la parte superior de este notebook para obtener estos datos. La forma estándar de usar ```pandas``` es importarlo con la abreviatura ```pd```. Usaremos la función ```pd.read_csv()``` que tomará los datos que provienen de la URL de USGS y los convertirá en un DataFrame. Un DataFrame es una estructura de datos con columnas de diferentes datos que se definen con los nombres de sus columnas."
   ],
   "metadata": {
    "colab_type": "text",
    "id": "2XFAaH4wHOnz"
   }
  },
  {
   "cell_type": "code",
   "execution_count": 6,
   "source": [
    "Rodrigo_birthday_earthquakes = pd.read_csv(Rodrigo_birthquake_url)"
   ],
   "outputs": [],
   "metadata": {
    "colab": {},
    "colab_type": "code",
    "executionInfo": {
     "elapsed": 2102,
     "status": "ok",
     "timestamp": 1598914493751,
     "user": {
      "displayName": "Rodrigo Chi",
      "photoUrl": "https://lh3.googleusercontent.com/a-/AOh14GjZhQsPZWT1SuS1mPdDTVpP6w0ON1iS36_FM3uQRA=s64",
      "userId": "15993798166308231899"
     },
     "user_tz": 420
    },
    "id": "E9ZvxWJHHOnz"
   }
  },
  {
   "cell_type": "markdown",
   "source": [
    "Estos datos están ordenados por magnitud con los terremotos de mayor magnitud en la parte superior. Veamos las primeras 5 filas del DataFrame usando la función ```.head ()```."
   ],
   "metadata": {
    "colab_type": "text",
    "id": "wQLP3p4pHOn2"
   }
  },
  {
   "cell_type": "code",
   "execution_count": 7,
   "source": [
    "Rodrigo_birthday_earthquakes.head()"
   ],
   "outputs": [
    {
     "output_type": "execute_result",
     "data": {
      "text/plain": [
       "                       time  latitude  longitude  depth  mag magType  nst  \\\n",
       "0  1989-08-18T03:46:26.020Z   -55.053    -27.846   33.0  5.6      mw  NaN   \n",
       "1  1989-08-18T00:14:32.540Z     0.709    126.221   58.9  5.0      mb  NaN   \n",
       "2  1989-08-18T20:00:51.100Z    51.380    175.649   33.0  4.9      mb  NaN   \n",
       "3  1989-08-18T09:29:17.390Z    44.446    147.120   33.0  4.8      mb  NaN   \n",
       "4  1989-08-18T07:43:23.400Z    36.319     71.026  104.9  4.6      mb  NaN   \n",
       "\n",
       "   gap  dmin  rms  ...                   updated  \\\n",
       "0  NaN   NaN  1.2  ...  2016-11-09T23:16:34.755Z   \n",
       "1  NaN   NaN  1.0  ...  2014-11-07T00:44:43.430Z   \n",
       "2  NaN   NaN  1.0  ...  2014-11-07T00:44:43.492Z   \n",
       "3  NaN   NaN  0.8  ...  2014-11-07T00:44:43.468Z   \n",
       "4  NaN   NaN  0.8  ...  2014-11-07T00:44:43.454Z   \n",
       "\n",
       "                                place        type horizontalError depthError  \\\n",
       "0       South Sandwich Islands region  earthquake             NaN        NaN   \n",
       "1      129 km W of Ternate, Indonesia  earthquake             NaN       11.1   \n",
       "2   234 km SE of Attu Station, Alaska  earthquake             NaN        NaN   \n",
       "3       78 km NNE of Shikotan, Russia  earthquake             NaN        NaN   \n",
       "4  60 km SW of Ashk?sham, Afghanistan  earthquake             NaN       14.4   \n",
       "\n",
       "   magError  magNst    status  locationSource magSource  \n",
       "0       NaN     NaN  reviewed              us       hrv  \n",
       "1       NaN     9.0  reviewed              us        us  \n",
       "2       NaN    31.0  reviewed              us        us  \n",
       "3       NaN     5.0  reviewed              us        us  \n",
       "4       NaN     4.0  reviewed              us        us  \n",
       "\n",
       "[5 rows x 22 columns]"
      ],
      "text/html": [
       "<div>\n",
       "<style scoped>\n",
       "    .dataframe tbody tr th:only-of-type {\n",
       "        vertical-align: middle;\n",
       "    }\n",
       "\n",
       "    .dataframe tbody tr th {\n",
       "        vertical-align: top;\n",
       "    }\n",
       "\n",
       "    .dataframe thead th {\n",
       "        text-align: right;\n",
       "    }\n",
       "</style>\n",
       "<table border=\"1\" class=\"dataframe\">\n",
       "  <thead>\n",
       "    <tr style=\"text-align: right;\">\n",
       "      <th></th>\n",
       "      <th>time</th>\n",
       "      <th>latitude</th>\n",
       "      <th>longitude</th>\n",
       "      <th>depth</th>\n",
       "      <th>mag</th>\n",
       "      <th>magType</th>\n",
       "      <th>nst</th>\n",
       "      <th>gap</th>\n",
       "      <th>dmin</th>\n",
       "      <th>rms</th>\n",
       "      <th>...</th>\n",
       "      <th>updated</th>\n",
       "      <th>place</th>\n",
       "      <th>type</th>\n",
       "      <th>horizontalError</th>\n",
       "      <th>depthError</th>\n",
       "      <th>magError</th>\n",
       "      <th>magNst</th>\n",
       "      <th>status</th>\n",
       "      <th>locationSource</th>\n",
       "      <th>magSource</th>\n",
       "    </tr>\n",
       "  </thead>\n",
       "  <tbody>\n",
       "    <tr>\n",
       "      <th>0</th>\n",
       "      <td>1989-08-18T03:46:26.020Z</td>\n",
       "      <td>-55.053</td>\n",
       "      <td>-27.846</td>\n",
       "      <td>33.0</td>\n",
       "      <td>5.6</td>\n",
       "      <td>mw</td>\n",
       "      <td>NaN</td>\n",
       "      <td>NaN</td>\n",
       "      <td>NaN</td>\n",
       "      <td>1.2</td>\n",
       "      <td>...</td>\n",
       "      <td>2016-11-09T23:16:34.755Z</td>\n",
       "      <td>South Sandwich Islands region</td>\n",
       "      <td>earthquake</td>\n",
       "      <td>NaN</td>\n",
       "      <td>NaN</td>\n",
       "      <td>NaN</td>\n",
       "      <td>NaN</td>\n",
       "      <td>reviewed</td>\n",
       "      <td>us</td>\n",
       "      <td>hrv</td>\n",
       "    </tr>\n",
       "    <tr>\n",
       "      <th>1</th>\n",
       "      <td>1989-08-18T00:14:32.540Z</td>\n",
       "      <td>0.709</td>\n",
       "      <td>126.221</td>\n",
       "      <td>58.9</td>\n",
       "      <td>5.0</td>\n",
       "      <td>mb</td>\n",
       "      <td>NaN</td>\n",
       "      <td>NaN</td>\n",
       "      <td>NaN</td>\n",
       "      <td>1.0</td>\n",
       "      <td>...</td>\n",
       "      <td>2014-11-07T00:44:43.430Z</td>\n",
       "      <td>129 km W of Ternate, Indonesia</td>\n",
       "      <td>earthquake</td>\n",
       "      <td>NaN</td>\n",
       "      <td>11.1</td>\n",
       "      <td>NaN</td>\n",
       "      <td>9.0</td>\n",
       "      <td>reviewed</td>\n",
       "      <td>us</td>\n",
       "      <td>us</td>\n",
       "    </tr>\n",
       "    <tr>\n",
       "      <th>2</th>\n",
       "      <td>1989-08-18T20:00:51.100Z</td>\n",
       "      <td>51.380</td>\n",
       "      <td>175.649</td>\n",
       "      <td>33.0</td>\n",
       "      <td>4.9</td>\n",
       "      <td>mb</td>\n",
       "      <td>NaN</td>\n",
       "      <td>NaN</td>\n",
       "      <td>NaN</td>\n",
       "      <td>1.0</td>\n",
       "      <td>...</td>\n",
       "      <td>2014-11-07T00:44:43.492Z</td>\n",
       "      <td>234 km SE of Attu Station, Alaska</td>\n",
       "      <td>earthquake</td>\n",
       "      <td>NaN</td>\n",
       "      <td>NaN</td>\n",
       "      <td>NaN</td>\n",
       "      <td>31.0</td>\n",
       "      <td>reviewed</td>\n",
       "      <td>us</td>\n",
       "      <td>us</td>\n",
       "    </tr>\n",
       "    <tr>\n",
       "      <th>3</th>\n",
       "      <td>1989-08-18T09:29:17.390Z</td>\n",
       "      <td>44.446</td>\n",
       "      <td>147.120</td>\n",
       "      <td>33.0</td>\n",
       "      <td>4.8</td>\n",
       "      <td>mb</td>\n",
       "      <td>NaN</td>\n",
       "      <td>NaN</td>\n",
       "      <td>NaN</td>\n",
       "      <td>0.8</td>\n",
       "      <td>...</td>\n",
       "      <td>2014-11-07T00:44:43.468Z</td>\n",
       "      <td>78 km NNE of Shikotan, Russia</td>\n",
       "      <td>earthquake</td>\n",
       "      <td>NaN</td>\n",
       "      <td>NaN</td>\n",
       "      <td>NaN</td>\n",
       "      <td>5.0</td>\n",
       "      <td>reviewed</td>\n",
       "      <td>us</td>\n",
       "      <td>us</td>\n",
       "    </tr>\n",
       "    <tr>\n",
       "      <th>4</th>\n",
       "      <td>1989-08-18T07:43:23.400Z</td>\n",
       "      <td>36.319</td>\n",
       "      <td>71.026</td>\n",
       "      <td>104.9</td>\n",
       "      <td>4.6</td>\n",
       "      <td>mb</td>\n",
       "      <td>NaN</td>\n",
       "      <td>NaN</td>\n",
       "      <td>NaN</td>\n",
       "      <td>0.8</td>\n",
       "      <td>...</td>\n",
       "      <td>2014-11-07T00:44:43.454Z</td>\n",
       "      <td>60 km SW of Ashk?sham, Afghanistan</td>\n",
       "      <td>earthquake</td>\n",
       "      <td>NaN</td>\n",
       "      <td>14.4</td>\n",
       "      <td>NaN</td>\n",
       "      <td>4.0</td>\n",
       "      <td>reviewed</td>\n",
       "      <td>us</td>\n",
       "      <td>us</td>\n",
       "    </tr>\n",
       "  </tbody>\n",
       "</table>\n",
       "<p>5 rows × 22 columns</p>\n",
       "</div>"
      ]
     },
     "metadata": {},
     "execution_count": 7
    }
   ],
   "metadata": {
    "colab": {
     "base_uri": "https://localhost:8080/",
     "height": 400
    },
    "colab_type": "code",
    "executionInfo": {
     "elapsed": 800,
     "status": "ok",
     "timestamp": 1598914530502,
     "user": {
      "displayName": "Rodrigo Chi",
      "photoUrl": "https://lh3.googleusercontent.com/a-/AOh14GjZhQsPZWT1SuS1mPdDTVpP6w0ON1iS36_FM3uQRA=s64",
      "userId": "15993798166308231899"
     },
     "user_tz": 420
    },
    "id": "l8hRhAXWHOn3",
    "outputId": "f80b5cd1-f854-4f40-ccb4-343d8552de97"
   }
  },
  {
   "cell_type": "markdown",
   "source": [
    "#### El cumplemoto de Rodrigo.\n",
    "\n",
    "El terremoto más grande del día que nací fue una magnitud (columna `mag`) 5.6 que ocurrió en el border entre Myanmar e India (columna `place`)."
   ],
   "metadata": {
    "colab_type": "text",
    "id": "xBHhvT5PHOn5"
   }
  },
  {
   "cell_type": "markdown",
   "source": [
    "## Encontrando tu cumplemoto\n",
    "### Ingresa tu cumpleaños\n",
    "\n",
    "Ingrese su cumpleaños y la fecha siguiente en formato año-mm-dd."
   ],
   "metadata": {
    "colab_type": "text",
    "id": "WojO-DdNHOn5"
   }
  },
  {
   "cell_type": "code",
   "execution_count": 8,
   "source": [
    "### Enter your birthday here within the quotes in year-mm-dd format\n",
    "\n",
    "your_birthday = '2002-02-22'\n",
    "day_after_your_birthday = '2002-02-23'"
   ],
   "outputs": [],
   "metadata": {
    "colab": {},
    "colab_type": "code",
    "id": "iGj9ydCwHOn6"
   }
  },
  {
   "cell_type": "markdown",
   "source": [
    "#### Definición de la URL del terremoto de tu cumpleaños"
   ],
   "metadata": {
    "colab_type": "text",
    "id": "HqKeFqLHHOn8"
   }
  },
  {
   "cell_type": "code",
   "execution_count": 9,
   "source": [
    "standard_url = 'https://earthquake.usgs.gov/fdsnws/event/1/query?format=csv&orderby=magnitude'\n",
    "\n",
    "your_birthquake_url = standard_url + '&starttime=' + your_birthday + '&endtime=' + day_after_your_birthday\n",
    "\n",
    "your_birthquake_url"
   ],
   "outputs": [
    {
     "output_type": "execute_result",
     "data": {
      "text/plain": [
       "'https://earthquake.usgs.gov/fdsnws/event/1/query?format=csv&orderby=magnitude&starttime=2002-02-22&endtime=2002-02-23'"
      ]
     },
     "metadata": {},
     "execution_count": 9
    }
   ],
   "metadata": {
    "colab": {
     "base_uri": "https://localhost:8080/",
     "height": 35
    },
    "colab_type": "code",
    "id": "jWsjiV_sHOn8",
    "outputId": "039c154f-a40d-4787-948e-64542b80e233"
   }
  },
  {
   "cell_type": "markdown",
   "source": [
    "#### Obteniendo los terremotos el día de tu cumpleaños\n",
    "\n"
   ],
   "metadata": {
    "colab_type": "text",
    "id": "DOmRIezHHOn_"
   }
  },
  {
   "cell_type": "code",
   "execution_count": 10,
   "source": [
    "your_birthday_earthquakes = pd.read_csv(your_birthquake_url)"
   ],
   "outputs": [],
   "metadata": {
    "colab": {},
    "colab_type": "code",
    "id": "wjkjTvlIHOoA"
   }
  },
  {
   "cell_type": "markdown",
   "source": [
    "### Buscando en los terremotos del día de tu cumpleaños"
   ],
   "metadata": {
    "colab_type": "text",
    "id": "OfK2xNiTHOoD"
   }
  },
  {
   "cell_type": "code",
   "execution_count": 11,
   "source": [
    "your_birthday_earthquakes.head()"
   ],
   "outputs": [
    {
     "output_type": "execute_result",
     "data": {
      "text/plain": [
       "                       time   latitude  longitude    depth  mag magType  \\\n",
       "0  2002-02-22T19:32:41.750Z  32.318833  -115.3215    7.007  5.7      mw   \n",
       "1  2002-02-22T23:10:56.250Z -25.510000   -70.1200   48.400  5.4     mwc   \n",
       "2  2002-02-22T13:52:02.850Z  -6.174000   105.0860   16.600  4.9      mb   \n",
       "3  2002-02-22T19:30:51.860Z -20.944000  -176.3120  188.700  4.9      mb   \n",
       "4  2002-02-22T20:04:47.370Z -31.961000    57.3430   10.000  4.9      mb   \n",
       "\n",
       "     nst    gap    dmin   rms  ...                   updated  \\\n",
       "0   20.0  217.5  0.4751  0.38  ...  2020-07-09T21:11:59.999Z   \n",
       "1  118.0    NaN     NaN  0.97  ...  2016-11-09T21:56:08.544Z   \n",
       "2   49.0    NaN     NaN  1.18  ...  2014-11-07T01:14:57.213Z   \n",
       "3   53.0    NaN     NaN  0.96  ...  2014-11-07T01:14:57.261Z   \n",
       "4   23.0    NaN     NaN  1.20  ...  2014-11-07T01:14:57.300Z   \n",
       "\n",
       "                                    place        type horizontalError  \\\n",
       "0             13km WSW of Delta, B.C., MX  earthquake            2.44   \n",
       "1              38 km ESE of Taltal, Chile  earthquake             NaN   \n",
       "2  84 km SSW of Bandar Lampung, Indonesia  earthquake             NaN   \n",
       "3         116 km WNW of Haveluloto, Tonga  earthquake             NaN   \n",
       "4                  Southwest Indian Ridge  earthquake             NaN   \n",
       "\n",
       "  depthError  magError  magNst    status  locationSource magSource  \n",
       "0      31.95       NaN     0.0  reviewed              ci        ci  \n",
       "1        NaN       NaN     NaN  reviewed              us       hrv  \n",
       "2        NaN       NaN    11.0  reviewed              us        us  \n",
       "3        NaN       NaN    24.0  reviewed              us        us  \n",
       "4        NaN       NaN     7.0  reviewed              us        us  \n",
       "\n",
       "[5 rows x 22 columns]"
      ],
      "text/html": [
       "<div>\n",
       "<style scoped>\n",
       "    .dataframe tbody tr th:only-of-type {\n",
       "        vertical-align: middle;\n",
       "    }\n",
       "\n",
       "    .dataframe tbody tr th {\n",
       "        vertical-align: top;\n",
       "    }\n",
       "\n",
       "    .dataframe thead th {\n",
       "        text-align: right;\n",
       "    }\n",
       "</style>\n",
       "<table border=\"1\" class=\"dataframe\">\n",
       "  <thead>\n",
       "    <tr style=\"text-align: right;\">\n",
       "      <th></th>\n",
       "      <th>time</th>\n",
       "      <th>latitude</th>\n",
       "      <th>longitude</th>\n",
       "      <th>depth</th>\n",
       "      <th>mag</th>\n",
       "      <th>magType</th>\n",
       "      <th>nst</th>\n",
       "      <th>gap</th>\n",
       "      <th>dmin</th>\n",
       "      <th>rms</th>\n",
       "      <th>...</th>\n",
       "      <th>updated</th>\n",
       "      <th>place</th>\n",
       "      <th>type</th>\n",
       "      <th>horizontalError</th>\n",
       "      <th>depthError</th>\n",
       "      <th>magError</th>\n",
       "      <th>magNst</th>\n",
       "      <th>status</th>\n",
       "      <th>locationSource</th>\n",
       "      <th>magSource</th>\n",
       "    </tr>\n",
       "  </thead>\n",
       "  <tbody>\n",
       "    <tr>\n",
       "      <th>0</th>\n",
       "      <td>2002-02-22T19:32:41.750Z</td>\n",
       "      <td>32.318833</td>\n",
       "      <td>-115.3215</td>\n",
       "      <td>7.007</td>\n",
       "      <td>5.7</td>\n",
       "      <td>mw</td>\n",
       "      <td>20.0</td>\n",
       "      <td>217.5</td>\n",
       "      <td>0.4751</td>\n",
       "      <td>0.38</td>\n",
       "      <td>...</td>\n",
       "      <td>2020-07-09T21:11:59.999Z</td>\n",
       "      <td>13km WSW of Delta, B.C., MX</td>\n",
       "      <td>earthquake</td>\n",
       "      <td>2.44</td>\n",
       "      <td>31.95</td>\n",
       "      <td>NaN</td>\n",
       "      <td>0.0</td>\n",
       "      <td>reviewed</td>\n",
       "      <td>ci</td>\n",
       "      <td>ci</td>\n",
       "    </tr>\n",
       "    <tr>\n",
       "      <th>1</th>\n",
       "      <td>2002-02-22T23:10:56.250Z</td>\n",
       "      <td>-25.510000</td>\n",
       "      <td>-70.1200</td>\n",
       "      <td>48.400</td>\n",
       "      <td>5.4</td>\n",
       "      <td>mwc</td>\n",
       "      <td>118.0</td>\n",
       "      <td>NaN</td>\n",
       "      <td>NaN</td>\n",
       "      <td>0.97</td>\n",
       "      <td>...</td>\n",
       "      <td>2016-11-09T21:56:08.544Z</td>\n",
       "      <td>38 km ESE of Taltal, Chile</td>\n",
       "      <td>earthquake</td>\n",
       "      <td>NaN</td>\n",
       "      <td>NaN</td>\n",
       "      <td>NaN</td>\n",
       "      <td>NaN</td>\n",
       "      <td>reviewed</td>\n",
       "      <td>us</td>\n",
       "      <td>hrv</td>\n",
       "    </tr>\n",
       "    <tr>\n",
       "      <th>2</th>\n",
       "      <td>2002-02-22T13:52:02.850Z</td>\n",
       "      <td>-6.174000</td>\n",
       "      <td>105.0860</td>\n",
       "      <td>16.600</td>\n",
       "      <td>4.9</td>\n",
       "      <td>mb</td>\n",
       "      <td>49.0</td>\n",
       "      <td>NaN</td>\n",
       "      <td>NaN</td>\n",
       "      <td>1.18</td>\n",
       "      <td>...</td>\n",
       "      <td>2014-11-07T01:14:57.213Z</td>\n",
       "      <td>84 km SSW of Bandar Lampung, Indonesia</td>\n",
       "      <td>earthquake</td>\n",
       "      <td>NaN</td>\n",
       "      <td>NaN</td>\n",
       "      <td>NaN</td>\n",
       "      <td>11.0</td>\n",
       "      <td>reviewed</td>\n",
       "      <td>us</td>\n",
       "      <td>us</td>\n",
       "    </tr>\n",
       "    <tr>\n",
       "      <th>3</th>\n",
       "      <td>2002-02-22T19:30:51.860Z</td>\n",
       "      <td>-20.944000</td>\n",
       "      <td>-176.3120</td>\n",
       "      <td>188.700</td>\n",
       "      <td>4.9</td>\n",
       "      <td>mb</td>\n",
       "      <td>53.0</td>\n",
       "      <td>NaN</td>\n",
       "      <td>NaN</td>\n",
       "      <td>0.96</td>\n",
       "      <td>...</td>\n",
       "      <td>2014-11-07T01:14:57.261Z</td>\n",
       "      <td>116 km WNW of Haveluloto, Tonga</td>\n",
       "      <td>earthquake</td>\n",
       "      <td>NaN</td>\n",
       "      <td>NaN</td>\n",
       "      <td>NaN</td>\n",
       "      <td>24.0</td>\n",
       "      <td>reviewed</td>\n",
       "      <td>us</td>\n",
       "      <td>us</td>\n",
       "    </tr>\n",
       "    <tr>\n",
       "      <th>4</th>\n",
       "      <td>2002-02-22T20:04:47.370Z</td>\n",
       "      <td>-31.961000</td>\n",
       "      <td>57.3430</td>\n",
       "      <td>10.000</td>\n",
       "      <td>4.9</td>\n",
       "      <td>mb</td>\n",
       "      <td>23.0</td>\n",
       "      <td>NaN</td>\n",
       "      <td>NaN</td>\n",
       "      <td>1.20</td>\n",
       "      <td>...</td>\n",
       "      <td>2014-11-07T01:14:57.300Z</td>\n",
       "      <td>Southwest Indian Ridge</td>\n",
       "      <td>earthquake</td>\n",
       "      <td>NaN</td>\n",
       "      <td>NaN</td>\n",
       "      <td>NaN</td>\n",
       "      <td>7.0</td>\n",
       "      <td>reviewed</td>\n",
       "      <td>us</td>\n",
       "      <td>us</td>\n",
       "    </tr>\n",
       "  </tbody>\n",
       "</table>\n",
       "<p>5 rows × 22 columns</p>\n",
       "</div>"
      ]
     },
     "metadata": {},
     "execution_count": 11
    }
   ],
   "metadata": {
    "colab": {
     "base_uri": "https://localhost:8080/",
     "height": 162
    },
    "colab_type": "code",
    "executionInfo": {
     "elapsed": 604,
     "status": "error",
     "timestamp": 1598840987168,
     "user": {
      "displayName": "Rodrigo Chi",
      "photoUrl": "https://lh3.googleusercontent.com/a-/AOh14GjZhQsPZWT1SuS1mPdDTVpP6w0ON1iS36_FM3uQRA=s64",
      "userId": "15993798166308231899"
     },
     "user_tz": 420
    },
    "id": "F8MD3JB4HOoD",
    "outputId": "8a5ff803-1eae-40cb-c54d-e48b278de540"
   }
  },
  {
   "cell_type": "markdown",
   "source": [
    "Cuál es la magnitud de tu cumple-moto? Llena el siguiente formulario: https://forms.gle/XRVCyFBmW9aFYs3XA\n",
    "\n",
    "Magnitud 5.7 :o"
   ],
   "metadata": {
    "colab_type": "text",
    "id": "rcOYs8reHOoF"
   }
  }
 ],
 "metadata": {
  "colab": {
   "collapsed_sections": [],
   "name": "S1_enclases_cumplemoto_estudiantes.ipynb",
   "provenance": []
  },
  "kernelspec": {
   "name": "python3",
   "display_name": "Python 3.8.8 64-bit ('base': conda)"
  },
  "language_info": {
   "codemirror_mode": {
    "name": "ipython",
    "version": 3
   },
   "file_extension": ".py",
   "mimetype": "text/x-python",
   "name": "python",
   "nbconvert_exporter": "python",
   "pygments_lexer": "ipython3",
   "version": "3.8.8"
  },
  "interpreter": {
   "hash": "70a3d1a6ddfcdd485a3899766928291b74791e09688470d3acd4d034034a07a9"
  }
 },
 "nbformat": 4,
 "nbformat_minor": 4
}