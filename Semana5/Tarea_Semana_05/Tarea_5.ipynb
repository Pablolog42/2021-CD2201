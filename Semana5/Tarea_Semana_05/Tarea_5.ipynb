{
 "cells": [
  {
   "cell_type": "markdown",
   "source": [
    "# La polaridad geomagnética de la Tierra y la distribución Gamma\r\n",
    "\r\n",
    "Alumno: Pablo González Aguilera - 20973277-7"
   ],
   "metadata": {}
  },
  {
   "cell_type": "markdown",
   "source": [
    "El campo magnético de la Tierra varía con el tiempo. El aspecto más dramático de esta variación es que invierte su polaridad. La estructura del campo, tanto en el estado normal como en el invertido, es dipolar (como un imán). Sin embargo las ubicaciones de los polos pueden cambiar. La escala de tiempo que tarda el campo en revertirse es relativamente corta (unos pocos miles de años) en comparación con el tiempo que suele estar en una polaridad determinada.\n",
    "\n",
    "![](normal_reversed.png)\n",
    "> Fuente: Earth’s Dynamic Systems (10th Edition) Hamblin, W. K. and Christiansen, E. H.\n",
    "\n",
    "\n",
    "\n",
    "En la clase pasada ya hemos tratado en detalle los datos obtenidos por los barcos de investigación que llevan un magnetómetro para medir las anomalías magnéticas marinas. Como vimos, la corteza oceánica registra la historia de las inversiones magnéticas a medida que se forma en la dorsal. A ambos de sus lados se registra el mismo patrón de inversiones que conducen a la simetría alrededor de la dorsal. Tanto las anomalías magnéticas marinas como los registros del campo magnético en la Tierra en rocas sedimentarias y flujos de lava han llevado al desarrollo de la escala de tiempo de polaridad geomagnética (GPTS).\n",
    "\n",
    "![](GPTS.png)\n",
    "> Fuente: Gee and Kent (2007) \"Source of Oceanic Magnetic Anomalies and the Geomagnetic Polarity Timescale\"\n"
   ],
   "metadata": {}
  },
  {
   "cell_type": "markdown",
   "source": [
    "## Inversiones geomagnéticas y la distribución de Poisson\n",
    "\n",
    "Las inversiones geomagnéticas a menudo se interpretan como un proceso de Poisson. Recuerde de la clase que revisamos que un proceso de Poisson cumple con los siguientes criterios:\n",
    "\n",
    "* Los eventos son independientes entre sí.\n",
    "* La tasa promedio (eventos por período de tiempo) es constante.\n",
    "* No pueden ocurrir dos eventos al mismo tiempo.\n",
    "\n",
    "En clase, usamos una distribución de Poisson para describir la posibilidad de observar meteoros asociados con una lluvia de meteoritos."
   ],
   "metadata": {}
  },
  {
   "cell_type": "markdown",
   "source": [
    "## Setup\n",
    "\n",
    "Corre esta celda para cargar las librerias que usaremos."
   ],
   "metadata": {}
  },
  {
   "cell_type": "code",
   "execution_count": 244,
   "source": [
    "import matplotlib.pyplot as plt\r\n",
    "import pandas as pd\r\n",
    "pd.options.display.max_rows = 160\r\n",
    "import numpy as np\r\n",
    "import scipy as sp\r\n",
    "import scipy.special"
   ],
   "outputs": [],
   "metadata": {}
  },
  {
   "cell_type": "markdown",
   "source": [
    "Importe los datos de la escala de tiempo de polaridad geomagnética (GPTS, en inglés) de los últimos 40 millones de años como un dataframe pandas. \n",
    "\n",
    "El archivo ``GPTS.csv`` tiene una fecha de inicio y finalización para cada zona de polaridad junto con su polaridad."
   ],
   "metadata": {}
  },
  {
   "cell_type": "code",
   "execution_count": 245,
   "source": [
    "GPTS = pd.read_csv(\"GPTS.csv\")\r\n",
    "GPTS.head()"
   ],
   "outputs": [
    {
     "output_type": "execute_result",
     "data": {
      "text/html": [
       "<div>\n",
       "<style scoped>\n",
       "    .dataframe tbody tr th:only-of-type {\n",
       "        vertical-align: middle;\n",
       "    }\n",
       "\n",
       "    .dataframe tbody tr th {\n",
       "        vertical-align: top;\n",
       "    }\n",
       "\n",
       "    .dataframe thead th {\n",
       "        text-align: right;\n",
       "    }\n",
       "</style>\n",
       "<table border=\"1\" class=\"dataframe\">\n",
       "  <thead>\n",
       "    <tr style=\"text-align: right;\">\n",
       "      <th></th>\n",
       "      <th>Start_Myr</th>\n",
       "      <th>End_Myr</th>\n",
       "      <th>Polarity</th>\n",
       "    </tr>\n",
       "  </thead>\n",
       "  <tbody>\n",
       "    <tr>\n",
       "      <th>0</th>\n",
       "      <td>0.780</td>\n",
       "      <td>0.000</td>\n",
       "      <td>normal</td>\n",
       "    </tr>\n",
       "    <tr>\n",
       "      <th>1</th>\n",
       "      <td>0.990</td>\n",
       "      <td>0.780</td>\n",
       "      <td>reverse</td>\n",
       "    </tr>\n",
       "    <tr>\n",
       "      <th>2</th>\n",
       "      <td>1.070</td>\n",
       "      <td>0.990</td>\n",
       "      <td>normal</td>\n",
       "    </tr>\n",
       "    <tr>\n",
       "      <th>3</th>\n",
       "      <td>1.201</td>\n",
       "      <td>1.070</td>\n",
       "      <td>reverse</td>\n",
       "    </tr>\n",
       "    <tr>\n",
       "      <th>4</th>\n",
       "      <td>1.211</td>\n",
       "      <td>1.201</td>\n",
       "      <td>normal</td>\n",
       "    </tr>\n",
       "  </tbody>\n",
       "</table>\n",
       "</div>"
      ],
      "text/plain": [
       "   Start_Myr  End_Myr Polarity\n",
       "0      0.780    0.000   normal\n",
       "1      0.990    0.780  reverse\n",
       "2      1.070    0.990   normal\n",
       "3      1.201    1.070  reverse\n",
       "4      1.211    1.201   normal"
      ]
     },
     "metadata": {},
     "execution_count": 245
    }
   ],
   "metadata": {}
  },
  {
   "cell_type": "markdown",
   "source": [
    "Usemos ``plt.fill()`` para hacer una gráfica que se parezca a la escala de tiempo de polaridad geomagnética que se mostró arriba. Para hacer tal gráfico, hagamos una lista de tiempos de inversión cuando el campo cambió de normal (1) a inverso (-1) y una lista de tiempo adjunta que luego podemos plotear:"
   ],
   "metadata": {}
  },
  {
   "cell_type": "code",
   "execution_count": 246,
   "source": [
    "polarity_code = []\r\n",
    "time_list = []\r\n",
    "\r\n",
    "for i in GPTS.index:\r\n",
    "    if GPTS['Polarity'][i] == 'normal':\r\n",
    "        polarity_code.append(-1)\r\n",
    "        polarity_code.append(1)\r\n",
    "        time_list.append(GPTS['End_Myr'][i])\r\n",
    "        time_list.append(GPTS['End_Myr'][i])\r\n",
    "    if GPTS['Polarity'][i] == 'reverse':\r\n",
    "        polarity_code.append(1)\r\n",
    "        polarity_code.append(-1)\r\n",
    "        time_list.append(GPTS['End_Myr'][i])\r\n",
    "        time_list.append(GPTS['End_Myr'][i])\r\n",
    "        \r\n",
    "plt.figure(1,(20,2))\r\n",
    "plt.fill(time_list,polarity_code)\r\n",
    "plt.xlabel('Tiempo, Ma')\r\n",
    "plt.ylabel('Polaridad')\r\n",
    "plt.xlim(0,40)\r\n",
    "plt.ylim(-1,1)\r\n",
    "plt.title('Polaridad Geomagnética durante los años')\r\n",
    "plt.show()"
   ],
   "outputs": [
    {
     "output_type": "display_data",
     "data": {
      "image/png": "[encoded data removed]",
      "text/plain": [
       "<Figure size 1440x144 with 1 Axes>"
      ]
     },
     "metadata": {
      "needs_background": "light"
     }
    }
   ],
   "metadata": {}
  },
  {
   "cell_type": "markdown",
   "source": [
    "Calcule la duración media de una polaridad magnética.\n",
    "\n",
    "Para hacer esto, puede crear una nueva columna en el dataframe para la duración una polaridad donde calcules la edad de fin menos el comienzo de una polarización. \n",
    "\n",
    "Luego puede usar ``np.mean()`` para calcular la duración media."
   ],
   "metadata": {}
  },
  {
   "cell_type": "code",
   "execution_count": 247,
   "source": [
    "GPTS = GPTS.assign(deltaT = GPTS[\"Start_Myr\"]- GPTS[\"End_Myr\"])\r\n",
    "GPTS.head()\r\n",
    "\r\n",
    "promedio = np.mean(GPTS[\"deltaT\"])\r\n",
    "actual = float(GPTS[\"deltaT\"].iloc[[-1]])\r\n",
    "print(f\"La duración media es de {promedio} Ma, y la actual es de {actual} Ma\")\r\n",
    "    "
   ],
   "outputs": [
    {
     "output_type": "stream",
     "name": "stdout",
     "text": [
      "La duración media es de 0.25785625 Ma, y la actual es de 1.1269999999999953 Ma\n"
     ]
    }
   ],
   "metadata": {}
  },
  {
   "cell_type": "markdown",
   "source": [
    "¿Cómo se compara la duración de la zona de polaridad actual con la duración promedio de una polaridad (es decir, el tiempo entre inversiones) durante los últimos 40 millones de años?\r\n",
    "\r\n",
    "En ganeral, el tiempo de polarización actual es casi 10 veces el promedio de tiempos de polarización de los ultimos 40 ma."
   ],
   "metadata": {}
  },
  {
   "cell_type": "markdown",
   "source": [
    "**Plotee un histograma de la duración de la zona de polaridad**\n",
    "\n",
    "Esta es una distribución empírica (es decir, son los datos observados). Cuando haga el histograma, asegúrese de que ``density = True``"
   ],
   "metadata": {}
  },
  {
   "cell_type": "code",
   "execution_count": 248,
   "source": [
    "plt.hist(GPTS[\"deltaT\"],density=True)\r\n",
    "plt.xlabel('Tiempo de inversión, Ma')\r\n",
    "plt.ylabel('Número de ocurrencias')\r\n",
    "plt.show()"
   ],
   "outputs": [
    {
     "output_type": "display_data",
     "data": {
      "image/png": "[encoded data removed]",
      "text/plain": [
       "<Figure size 432x288 with 1 Axes>"
      ]
     },
     "metadata": {
      "needs_background": "light"
     }
    }
   ],
   "metadata": {}
  },
  {
   "cell_type": "markdown",
   "source": [
    "**¿Qué percentil es la duración de polarización actual?**\r\n",
    "\r\n",
    "Si un valor es el menor (menor duración), tendrá un precentil de 0. Si es el mayor (mayor duración), tendrá un precentil de 100. La mediana es el percentil 50. Si tengo 124 valores y el valor para el que estoy calculando el percentil está en el 119 valor más grande, tienes un percentil de 119/124 = percentil 96.\r\n",
    "\r\n",
    "Para determinar el percentil, puede ordenar los datos según la duración de la zona de polaridad. Puede hacer esto aplicando la función ``.sort_values()`` al dataframe con el nombre de su columna donde tienes la duración de cada polaridad. También incluya el parámetro ``inplace = True`` para que permanezca ordenado. Para determinar qué rango tiene, puede usar la función ``.reset_index(inplace = True)`` en el dataframe y luego encontrar qué rango es, que luego puede usar para calcular el percentil.\r\n",
    "\r\n",
    "Los detalles sobre el percentil se pueden encontrar en este link: https://www.inferentialthinking.com/chapters/13/1/Percentiles.html\r\n",
    "\r\n",
    "Tenga en cuenta que la función de percentil a la que se refieren es ``np.percentile``"
   ],
   "metadata": {}
  },
  {
   "cell_type": "code",
   "execution_count": 258,
   "source": [
    "GPTS.sort_values([\"deltaT\"]).reset_index(inplace=True)\r\n",
    "percentil = 100-np.percentile(GPTS[\"deltaT\"],actual)\r\n",
    "print(percentil)"
   ],
   "outputs": [
    {
     "output_type": "stream",
     "name": "stdout",
     "text": [
      "99.98920807\n"
     ]
    }
   ],
   "metadata": {}
  },
  {
   "cell_type": "markdown",
   "source": [
    "El periodo actual se encuentra en el percentil 99.989. Esto indica que es bastante grande en comparativa con el promedio de los ultimos 40 ma."
   ],
   "metadata": {}
  },
  {
   "cell_type": "markdown",
   "source": [
    "## ¿Podemos describir la duración de la zona de polaridad con una distribución teórica?\n",
    "\n",
    "**Distribución gamma:**\n",
    "\n",
    "En clase, discutimos la distribución binomial y la distribución de Poisson. Otra distribución relacionada es la distribución Gamma. La distribución Gamma es la probabilidad de un tiempo de espera dado entre eventos distribuidos por Poisson (es decir, un evento que ocurre al azar pero para el cual hay un período de tiempo promedio entre los eventos).\n",
    "\n",
    "La distribución Gamma da la probabilidad de un tiempo de espera entre eventos distribuidos de Poisson. Para aquellos de ustedes que apreciarán la base teórica de esta función, aquí está a continuación. Pero probablemente lo entenderá mejor si lo pone en acción:\n",
    "\n",
    "**Teórico**\n",
    "\n",
    "Considere la función de distribución  $D(x)$ de los tiempos de espera hasta el $h$-ésimo evento de Poisson dada una distribución de Poisson con una tasa de cambio $\\lambda$,\n",
    "\n",
    "$$D(x) = P(X \\le x) = 1 - P(X > x) = 1-\\sum_{k=0}^{h-1}\\frac{(\\lambda x)^{k}e^{-\\lambda x}}{k!} = 1-e^{-\\lambda x}\\sum_{k=0}^{h-1}\\frac{(\\lambda x)^{k}}{k!} = 1-\\frac{\\Gamma(h,x\\lambda) }{\\Gamma (h)}$$\n",
    "\n",
    "donde $\\Gamma(x) = (x-1)! $ es una función gamma completa y $\\displaystyle \\Gamma(n, x) = (n-1)! e^{- x} \\sum_ {k = 0}^{n-1} \\frac {x^{k}} {k!} $ una función gamma incompleta. La función de probabilidad correspondiente $P(x)$ de tiempos de espera hasta el $h$-ésimo evento de Poisson se obtiene al diferenciar $D(x)$,\n",
    "$$ P(x) = D'(x) = \\frac{\\lambda (\\lambda x)^{h-1}}{(h-1)!}e^{-\\lambda x}$$\n",
    "Ahora sea $ \\alpha = h $ (no necesariamente un número entero) y defina $ \\theta = 1/\\lambda $ como el tiempo entre cambios. Entonces la ecuación anterior se puede escribir\n",
    "$$P(x) = \\frac{x^{\\alpha-1}e^{-x/\\theta}}{\\Gamma (\\alpha) \\theta^{\\alpha}}$$\n",
    "que es la probabilidad de un tiempo de duración $ x $ entre eventos. \n",
    "\n",
    "$\\theta$ es el tiempo esperado entre inversiones y seguiremos a McFadden (1984) y definiremos $ \\theta = \\mu/\\alpha $ donde $\\mu$ es la duración media una polaridad. Un valor de $\\alpha$ mayor que uno se puede interpretar como un artefacto vinculado a algunos intervalos cortos que faltan en el GPTS o a alguna memoria a corto plazo dentro de la dínamo que inhibiría una segunda inversión justo después de que haya ocurrido la primera. McFadden (1984) usa un valor para $\\alpha$ de 1.2."
   ],
   "metadata": {}
  },
  {
   "cell_type": "code",
   "execution_count": 250,
   "source": [
    "def gamma_probability(x,mu,alpha):\r\n",
    "    #defina la distribución gamma\r\n",
    "    theta = mu/alpha\r\n",
    "    num = (x**(alpha-1))*np.exp(-x/theta)\r\n",
    "    den = scipy.special.gamma(alpha)*(theta**alpha)\r\n",
    "    prob = num/den\r\n",
    "    return prob"
   ],
   "outputs": [],
   "metadata": {}
  },
  {
   "cell_type": "markdown",
   "source": [
    "Grafique la probabilidad gamma teórica en comparación con la distribución real.\r\n",
    "\r\n",
    "Utilice la función ``gamma_probability()`` y calcule P para cada valor en un rango ``np.arrange (0.0,3.0,0.1)``. Luego, trace la curva resultante en la parte superior del histograma de duración de la polaridad. Asegúrese de etiquetar las curvas trazadas, poner una leyenda y etiquetar los ejes. Siguiendo a McFadden (1984), utilice un valor $\\alpha = 1.2$."
   ],
   "metadata": {}
  },
  {
   "cell_type": "code",
   "execution_count": 251,
   "source": [
    "x=np.arange (0.0,3.0,0.1)\r\n",
    "mu=np.mean(GPTS[\"deltaT\"])\r\n",
    "gamma = gamma_probability(x,mu,1.2)\r\n",
    "\r\n",
    "plt.hist(GPTS[\"deltaT\"],x,density=True)\r\n",
    "plt.plot(gamma,x)\r\n",
    "plt.xlabel('Tiempo de inversión, Ma')\r\n",
    "plt.ylabel('Número de ocurrencias')\r\n",
    "plt.show()"
   ],
   "outputs": [
    {
     "output_type": "display_data",
     "data": {
      "image/png": "[encoded data removed]",
      "text/plain": [
       "<Figure size 432x288 with 1 Axes>"
      ]
     },
     "metadata": {
      "needs_background": "light"
     }
    }
   ],
   "metadata": {}
  },
  {
   "cell_type": "markdown",
   "source": [
    "**Empírico vs simulado**\n",
    "\n",
    "El GPTS observado nos da una idea de una distribución empírica. Podemos usar la función ``np.random.gamma`` para simular distribuciones empíricas también."
   ],
   "metadata": {}
  },
  {
   "cell_type": "code",
   "execution_count": 252,
   "source": [
    "help(np.random.gamma)"
   ],
   "outputs": [
    {
     "output_type": "stream",
     "name": "stdout",
     "text": [
      "Help on built-in function gamma:\n",
      "\n",
      "gamma(...) method of numpy.random.mtrand.RandomState instance\n",
      "    gamma(shape, scale=1.0, size=None)\n",
      "    \n",
      "    Draw samples from a Gamma distribution.\n",
      "    \n",
      "    Samples are drawn from a Gamma distribution with specified parameters,\n",
      "    `shape` (sometimes designated \"k\") and `scale` (sometimes designated\n",
      "    \"theta\"), where both parameters are > 0.\n",
      "    \n",
      "    .. note::\n",
      "        New code should use the ``gamma`` method of a ``default_rng()``\n",
      "        instance instead; please see the :ref:`random-quick-start`.\n",
      "    \n",
      "    Parameters\n",
      "    ----------\n",
      "    shape : float or array_like of floats\n",
      "        The shape of the gamma distribution. Must be non-negative.\n",
      "    scale : float or array_like of floats, optional\n",
      "        The scale of the gamma distribution. Must be non-negative.\n",
      "        Default is equal to 1.\n",
      "    size : int or tuple of ints, optional\n",
      "        Output shape.  If the given shape is, e.g., ``(m, n, k)``, then\n",
      "        ``m * n * k`` samples are drawn.  If size is ``None`` (default),\n",
      "        a single value is returned if ``shape`` and ``scale`` are both scalars.\n",
      "        Otherwise, ``np.broadcast(shape, scale).size`` samples are drawn.\n",
      "    \n",
      "    Returns\n",
      "    -------\n",
      "    out : ndarray or scalar\n",
      "        Drawn samples from the parameterized gamma distribution.\n",
      "    \n",
      "    See Also\n",
      "    --------\n",
      "    scipy.stats.gamma : probability density function, distribution or\n",
      "        cumulative density function, etc.\n",
      "    Generator.gamma: which should be used for new code.\n",
      "    \n",
      "    Notes\n",
      "    -----\n",
      "    The probability density for the Gamma distribution is\n",
      "    \n",
      "    .. math:: p(x) = x^{k-1}\\frac{e^{-x/\\theta}}{\\theta^k\\Gamma(k)},\n",
      "    \n",
      "    where :math:`k` is the shape and :math:`\\theta` the scale,\n",
      "    and :math:`\\Gamma` is the Gamma function.\n",
      "    \n",
      "    The Gamma distribution is often used to model the times to failure of\n",
      "    electronic components, and arises naturally in processes for which the\n",
      "    waiting times between Poisson distributed events are relevant.\n",
      "    \n",
      "    References\n",
      "    ----------\n",
      "    .. [1] Weisstein, Eric W. \"Gamma Distribution.\" From MathWorld--A\n",
      "           Wolfram Web Resource.\n",
      "           http://mathworld.wolfram.com/GammaDistribution.html\n",
      "    .. [2] Wikipedia, \"Gamma distribution\",\n",
      "           https://en.wikipedia.org/wiki/Gamma_distribution\n",
      "    \n",
      "    Examples\n",
      "    --------\n",
      "    Draw samples from the distribution:\n",
      "    \n",
      "    >>> shape, scale = 2., 2.  # mean=4, std=2*sqrt(2)\n",
      "    >>> s = np.random.gamma(shape, scale, 1000)\n",
      "    \n",
      "    Display the histogram of the samples, along with\n",
      "    the probability density function:\n",
      "    \n",
      "    >>> import matplotlib.pyplot as plt\n",
      "    >>> import scipy.special as sps  # doctest: +SKIP\n",
      "    >>> count, bins, ignored = plt.hist(s, 50, density=True)\n",
      "    >>> y = bins**(shape-1)*(np.exp(-bins/scale) /  # doctest: +SKIP\n",
      "    ...                      (sps.gamma(shape)*scale**shape))\n",
      "    >>> plt.plot(bins, y, linewidth=2, color='r')  # doctest: +SKIP\n",
      "    >>> plt.show()\n",
      "\n"
     ]
    }
   ],
   "metadata": {}
  },
  {
   "cell_type": "markdown",
   "source": [
    "**Utilice la función np.random.gamma para simular distintas de polaridades del campo geomágnetico**\r\n",
    "\r\n",
    "``np.random.gamma()`` tiene 2 parámetros: shape (a veces denominada \"$\\alpha$\") y scale (a veces denominada \"$\\theta$\"), y un tamaño de argumento opcional. Cada llamada a ``np.random.gamma()`` devuelve una duración de una polaridad extraída de la distribución gamma.\r\n",
    "\r\n",
    "Entonces, para obtener longitudes crónicas (o de polaridad) aleatorias, use ``np.random.gamma(shape, scale=1.0, size=None)`` donde:\r\n",
    "\r\n",
    "* shape = 1.2 (el alfa que usamos antes)\r\n",
    "* scale = average_polarity_zone_duration / 1.2\r\n",
    "* size = número de las distintas \"zonas\" de polaridad (por lo que obtendremos datos simulados aleatorios que tienen la misma longitud que nuestro conjunto de datos original).\r\n",
    "\r\n"
   ],
   "metadata": {}
  },
  {
   "cell_type": "code",
   "execution_count": 253,
   "source": [
    "datosSimulados = np.random.gamma(1.2, scale=promedio/1.2, size=1000)\r\n",
    "# print(datosSimulados)"
   ],
   "outputs": [],
   "metadata": {}
  },
  {
   "cell_type": "markdown",
   "source": [
    "Plotee un histograma de los datos simulados, los datos observados y la distribución teórica. Deberían verse bastante similares entre sí."
   ],
   "metadata": {}
  },
  {
   "cell_type": "code",
   "execution_count": 254,
   "source": [
    "plt.hist(datosSimulados)\r\n",
    "plt.xlabel(\"Tiempo [Ma]\")\r\n",
    "plt.ylabel(\"Número de observaciones\")\r\n",
    "plt.show()"
   ],
   "outputs": [
    {
     "output_type": "display_data",
     "data": {
      "image/png": "[encoded data removed]",
      "text/plain": [
       "<Figure size 432x288 with 1 Axes>"
      ]
     },
     "metadata": {
      "needs_background": "light"
     }
    }
   ],
   "metadata": {}
  },
  {
   "cell_type": "markdown",
   "source": [
    "Encuentre una manera de plotear su nueva escala de tiempo de polaridad aleatoria. La idea es que podamos compararla con de la escala de tiempo real."
   ],
   "metadata": {}
  },
  {
   "cell_type": "code",
   "execution_count": 255,
   "source": [
    "polarity_code = []\r\n",
    "time_list = []\r\n",
    "\r\n",
    "A = datosSimulados\r\n",
    "# Voy sumando el fin del año anterior al actual\r\n",
    "B = [datosSimulados[i-1] + datosSimulados[i] for i in range(0,len(datosSimulados))]\r\n",
    "# -1 si es neg, 1 si es posit. se alterna cada cambio de polaridad\r\n",
    "C = [(-1)**i for i in range(0,len(datosSimulados))]\r\n",
    "\r\n",
    "\r\n",
    "df = pd.DataFrame(list(zip(A, B,C)), columns = ['End_Myr', 'Age', \"Polarity\"])\r\n",
    "\r\n",
    "\r\n",
    "for i in df.index:\r\n",
    "    if df['Polarity'][i] == 1:\r\n",
    "        polarity_code.append(-1)\r\n",
    "        polarity_code.append(1)\r\n",
    "        time_list.append(df['End_Myr'][i])\r\n",
    "        time_list.append(df['End_Myr'][i])\r\n",
    "    if df['Polarity'][i] == -1:\r\n",
    "        polarity_code.append(1)\r\n",
    "        polarity_code.append(-1)\r\n",
    "        time_list.append(df['End_Myr'][i])\r\n",
    "        time_list.append(df['End_Myr'][i])\r\n",
    "        \r\n",
    "plt.figure(1,(20,2))\r\n",
    "plt.fill(time_list,polarity_code)\r\n",
    "plt.xlabel('Tiempo, Ma')\r\n",
    "plt.ylabel('Polaridad')\r\n",
    "# plt.xlim(0,40)\r\n",
    "plt.ylim(-1,1)\r\n",
    "plt.title('Polaridad Geomagnética durante los años')\r\n",
    "plt.show()"
   ],
   "outputs": [
    {
     "output_type": "display_data",
     "data": {
      "image/png": "[encoded data removed]",
      "text/plain": [
       "<Figure size 1440x144 with 1 Axes>"
      ]
     },
     "metadata": {
      "needs_background": "light"
     }
    }
   ],
   "metadata": {}
  },
  {
   "cell_type": "markdown",
   "source": [
    "## ¿El campo se invertirá pronto?\n",
    "Pero lo que realmente nos gustaría saber es qué tan probable es que ocurra pronto una inversión de polaridad. El crono normal actual ha durado 0.78 Ma. Para encontrar la probabilidad de que ocurra una inversión en los próximos 10 mil años, necesitamos encontrar esa probabilidad de esa polaridad que sea más larga que 0.78 Ma pero más corta que 0,79 Ma.\n",
    "\n",
    "$$P (0.78 \\le X \\le 0.79) = P(X \\le 0.79) - P(X \\le 0.78) = (1 - P(0.79)) - (1 - P(0.78))$$\n",
    "\n",
    "Utilice la función gamma_probability para hacer este cálculo"
   ],
   "metadata": {}
  },
  {
   "cell_type": "code",
   "execution_count": 256,
   "source": [
    "theta = promedio/1.2\r\n",
    "P = (1-gamma_probability(0.79,theta,1.2))-(1-gamma_probability(0.78,theta,1.2))\r\n",
    "print(P)"
   ],
   "outputs": [
    {
     "output_type": "stream",
     "name": "stdout",
     "text": [
      "0.005436397034924045\n"
     ]
    }
   ],
   "metadata": {}
  },
  {
   "cell_type": "markdown",
   "source": [
    "Con base en esta probabilidad, ¿cree que el campo está a punto de invertirse?\r\n",
    "\r\n",
    "A partir de esta probabilidad, es relativamente poco probable que el campo esté a punto de invertirse en los proximos 10 mil años."
   ],
   "metadata": {}
  }
 ],
 "metadata": {
  "kernelspec": {
   "name": "python3",
   "display_name": "Python 3.8.8 64-bit ('base': conda)"
  },
  "language_info": {
   "codemirror_mode": {
    "name": "ipython",
    "version": 3
   },
   "file_extension": ".py",
   "mimetype": "text/x-python",
   "name": "python",
   "nbconvert_exporter": "python",
   "pygments_lexer": "ipython3",
   "version": "3.8.8"
  },
  "interpreter": {
   "hash": "af573f283834de0d94267a2f349eb6a57bfc80fc16df6f4176b3eb1c7a5367fc"
  }
 },
 "nbformat": 4,
 "nbformat_minor": 4
}