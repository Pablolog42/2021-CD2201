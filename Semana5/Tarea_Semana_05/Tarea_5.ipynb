{
 "cells": [
  {
   "cell_type": "markdown",
   "metadata": {},
   "source": [
    "# La polaridad geomagnética de la Tierra y la distribución Gamma"
   ]
  },
  {
   "cell_type": "markdown",
   "metadata": {},
   "source": [
    "El campo magnético de la Tierra varía con el tiempo. El aspecto más dramático de esta variación es que invierte su polaridad. La estructura del campo, tanto en el estado normal como en el invertido, es dipolar (como un imán). Sin embargo las ubicaciones de los polos pueden cambiar. La escala de tiempo que tarda el campo en revertirse es relativamente corta (unos pocos miles de años) en comparación con el tiempo que suele estar en una polaridad determinada.\n",
    "\n",
    "![](normal_reversed.png)\n",
    "> Fuente: Earth’s Dynamic Systems (10th Edition) Hamblin, W. K. and Christiansen, E. H.\n",
    "\n",
    "\n",
    "\n",
    "En la clase pasada ya hemos tratado en detalle los datos obtenidos por los barcos de investigación que llevan un magnetómetro para medir las anomalías magnéticas marinas. Como vimos, la corteza oceánica registra la historia de las inversiones magnéticas a medida que se forma en la dorsal. A ambos de sus lados se registra el mismo patrón de inversiones que conducen a la simetría alrededor de la dorsal. Tanto las anomalías magnéticas marinas como los registros del campo magnético en la Tierra en rocas sedimentarias y flujos de lava han llevado al desarrollo de la escala de tiempo de polaridad geomagnética (GPTS).\n",
    "\n",
    "![](GPTS.png)\n",
    "> Fuente: Gee and Kent (2007) \"Source of Oceanic Magnetic Anomalies and the Geomagnetic Polarity Timescale\"\n"
   ]
  },
  {
   "cell_type": "markdown",
   "metadata": {},
   "source": [
    "## Inversiones geomagnéticas y la distribución de Poisson\n",
    "\n",
    "Las inversiones geomagnéticas a menudo se interpretan como un proceso de Poisson. Recuerde de la clase que revisamos que un proceso de Poisson cumple con los siguientes criterios:\n",
    "\n",
    "* Los eventos son independientes entre sí.\n",
    "* La tasa promedio (eventos por período de tiempo) es constante.\n",
    "* No pueden ocurrir dos eventos al mismo tiempo.\n",
    "\n",
    "En clase, usamos una distribución de Poisson para describir la posibilidad de observar meteoros asociados con una lluvia de meteoritos."
   ]
  },
  {
   "cell_type": "markdown",
   "metadata": {},
   "source": [
    "## Setup\n",
    "\n",
    "Corre esta celda para cargar las librerias que usaremos."
   ]
  },
  {
   "cell_type": "code",
   "execution_count": 3,
   "metadata": {},
   "outputs": [],
   "source": [
    "import matplotlib.pyplot as plt\n",
    "import pandas as pd\n",
    "pd.options.display.max_rows = 160\n",
    "import numpy as np\n",
    "import scipy as sp"
   ]
  },
  {
   "cell_type": "markdown",
   "metadata": {},
   "source": [
    "Importe los datos de la escala de tiempo de polaridad geomagnética (GPTS, en inglés) de los últimos 40 millones de años como un dataframe pandas. \n",
    "\n",
    "El archivo ``GPTS.csv`` tiene una fecha de inicio y finalización para cada zona de polaridad junto con su polaridad."
   ]
  },
  {
   "cell_type": "code",
   "execution_count": null,
   "metadata": {},
   "outputs": [],
   "source": [
    "GPTS =\n",
    "GPTS"
   ]
  },
  {
   "cell_type": "markdown",
   "metadata": {},
   "source": [
    "Usemos ``plt.fill()`` para hacer una gráfica que se parezca a la escala de tiempo de polaridad geomagnética que se mostró arriba. Para hacer tal gráfico, hagamos una lista de tiempos de inversión cuando el campo cambió de normal (1) a inverso (-1) y una lista de tiempo adjunta que luego podemos plotear:"
   ]
  },
  {
   "cell_type": "code",
   "execution_count": null,
   "metadata": {},
   "outputs": [],
   "source": [
    "polarity_code = []\n",
    "time_list = []\n",
    "\n",
    "for i in GPTS.index:\n",
    "    if GPTS['Polarity'][i] == 'normal':\n",
    "        polarity_code.append(-1)\n",
    "        polarity_code.append(1)\n",
    "        time_list.append(GPTS['End_Myr'][i])\n",
    "        time_list.append(GPTS['End_Myr'][i])\n",
    "    if GPTS['Polarity'][i] == 'reverse':\n",
    "        polarity_code.append(1)\n",
    "        polarity_code.append(-1)\n",
    "        time_list.append(GPTS['End_Myr'][i])\n",
    "        time_list.append(GPTS['End_Myr'][i])\n",
    "        \n",
    "plt.figure(1,(20,2))\n",
    "plt.fill(time_list,polarity_code)\n",
    "plt.xlabel('Tiempo, Ma')\n",
    "plt.ylabel('Polaridad')\n",
    "plt.xlim(0,40)\n",
    "plt.ylim(-1,1)\n",
    "plt.title('Polaridad Geomagnética durante los años')\n",
    "plt.show()"
   ]
  },
  {
   "cell_type": "markdown",
   "metadata": {},
   "source": [
    "Calcule la duración media de una polaridad magnética.\n",
    "\n",
    "Para hacer esto, puede crear una nueva columna en el dataframe para la duración una polaridad donde calcules la edad de fin menos el comienzo de una polarización. \n",
    "\n",
    "Luego puede usar ``np.mean()`` para calcular la duración media."
   ]
  },
  {
   "cell_type": "code",
   "execution_count": null,
   "metadata": {},
   "outputs": [],
   "source": []
  },
  {
   "cell_type": "markdown",
   "metadata": {},
   "source": [
    "¿Cómo se compara la duración de la zona de polaridad actual con la duración promedio de una polaridad (es decir, el tiempo entre inversiones) durante los últimos 40 millones de años?\n",
    "\n",
    "*Escribe tu respuesta aquí*"
   ]
  },
  {
   "cell_type": "markdown",
   "metadata": {},
   "source": [
    "**Plotee un histograma de la duración de la zona de polaridad**\n",
    "\n",
    "Esta es una distribución empírica (es decir, son los datos observados). Cuando haga el histograma, asegúrese de que ``density = True``"
   ]
  },
  {
   "cell_type": "code",
   "execution_count": null,
   "metadata": {},
   "outputs": [],
   "source": []
  },
  {
   "cell_type": "markdown",
   "metadata": {},
   "source": [
    "**¿Qué percentil es la duración de polarización actual?**\n",
    "\n",
    "Si un valor es el menor (menor duración), tendrá un precentil de 0. Si es el mayor (mayor duración), tendrá un precentil de 100. La mediana es el percentil 50. Si tengo 124 valores y el valor para el que estoy calculando el percentil está en el 119 valor más grande, tienes un percentil de 119/124 = percentil 96.\n",
    "\n",
    "Para determinar el percentil, puede ordenar los datos según la duración de la zona de polaridad. Puede hacer esto aplicando la función ``.sort_values()`` al dataframe con el nombre de su columna donde tienes la duración de cada polaridad. También incluya el parámetro ``inplace = True`` para que permanezca ordenado. Para determinar qué rango tiene, puede usar la función ``.reset_index(inplace = True)`` en el dataframe y luego encontrar qué rango es, que luego puede usar para calcular el percentil.\n",
    "\n",
    "Los detalles sobre el percentil se pueden encontrar en este link: https://www.inferentialthinking.com/chapters/13/1/Percentiles.html\n",
    "\n",
    "Tenga en cuenta que la función de percentil a la que se refieren es ``np.percentile``"
   ]
  },
  {
   "cell_type": "code",
   "execution_count": 1,
   "metadata": {},
   "outputs": [],
   "source": [
    "# Haz tu código aquí"
   ]
  },
  {
   "cell_type": "markdown",
   "metadata": {},
   "source": [
    "*Escribe tu respuesta aquí*"
   ]
  },
  {
   "cell_type": "markdown",
   "metadata": {},
   "source": [
    "## ¿Podemos describir la duración de la zona de polaridad con una distribución teórica?\n",
    "\n",
    "**Distribución gamma:**\n",
    "\n",
    "En clase, discutimos la distribución binomial y la distribución de Poisson. Otra distribución relacionada es la distribución Gamma. La distribución Gamma es la probabilidad de un tiempo de espera dado entre eventos distribuidos por Poisson (es decir, un evento que ocurre al azar pero para el cual hay un período de tiempo promedio entre los eventos).\n",
    "\n",
    "La distribución Gamma da la probabilidad de un tiempo de espera entre eventos distribuidos de Poisson. Para aquellos de ustedes que apreciarán la base teórica de esta función, aquí está a continuación. Pero probablemente lo entenderá mejor si lo pone en acción:\n",
    "\n",
    "**Teórico**\n",
    "\n",
    "Considere la función de distribución  $D(x)$ de los tiempos de espera hasta el $h$-ésimo evento de Poisson dada una distribución de Poisson con una tasa de cambio $\\lambda$,\n",
    "\n",
    "$$D(x) = P(X \\le x) = 1 - P(X > x) = 1-\\sum_{k=0}^{h-1}\\frac{(\\lambda x)^{k}e^{-\\lambda x}}{k!} = 1-e^{-\\lambda x}\\sum_{k=0}^{h-1}\\frac{(\\lambda x)^{k}}{k!} = 1-\\frac{\\Gamma(h,x\\lambda) }{\\Gamma (h)}$$\n",
    "\n",
    "donde $\\Gamma(x) = (x-1)! $ es una función gamma completa y $\\displaystyle \\Gamma(n, x) = (n-1)! e^{- x} \\sum_ {k = 0}^{n-1} \\frac {x^{k}} {k!} $ una función gamma incompleta. La función de probabilidad correspondiente $P(x)$ de tiempos de espera hasta el $h$-ésimo evento de Poisson se obtiene al diferenciar $D(x)$,\n",
    "$$ P(x) = D'(x) = \\frac{\\lambda (\\lambda x)^{h-1}}{(h-1)!}e^{-\\lambda x}$$\n",
    "Ahora sea $ \\alpha = h $ (no necesariamente un número entero) y defina $ \\theta = 1/\\lambda $ como el tiempo entre cambios. Entonces la ecuación anterior se puede escribir\n",
    "$$P(x) = \\frac{x^{\\alpha-1}e^{-x/\\theta}}{\\Gamma (\\alpha) \\theta^{\\alpha}}$$\n",
    "que es la probabilidad de un tiempo de duración $ x $ entre eventos. \n",
    "\n",
    "$\\theta$ es el tiempo esperado entre inversiones y seguiremos a McFadden (1984) y definiremos $ \\theta = \\mu/\\alpha $ donde $\\mu$ es la duración media una polaridad. Un valor de $\\alpha$ mayor que uno se puede interpretar como un artefacto vinculado a algunos intervalos cortos que faltan en el GPTS o a alguna memoria a corto plazo dentro de la dínamo que inhibiría una segunda inversión justo después de que haya ocurrido la primera. McFadden (1984) usa un valor para $\\alpha$ de 1.2."
   ]
  },
  {
   "cell_type": "code",
   "execution_count": null,
   "metadata": {},
   "outputs": [],
   "source": [
    "def gamma_probability(x,mu,alpha):\n",
    "    #defina la distribución gamma\n",
    "    return prob"
   ]
  },
  {
   "cell_type": "markdown",
   "metadata": {},
   "source": [
    "Grafique la probabilidad gamma teórica en comparación con la distribución real.\n",
    "\n",
    "Utilice la función ``gamma_probability()`` y calcule P para cada valor en un rango ``np.arrange (0.0,3.0,0.1)``. Luego, trace la curva resultante en la parte superior del histograma de duración de la polaridad. Asegúrese de etiquetar las curvas trazadas, poner una leyenda y etiquetar los ejes. Siguiendo a McFadden (1984), utilice un valor $\\alpha = 1.2$."
   ]
  },
  {
   "cell_type": "code",
   "execution_count": null,
   "metadata": {},
   "outputs": [],
   "source": []
  },
  {
   "cell_type": "markdown",
   "metadata": {},
   "source": [
    "**Empírico vs simulado**\n",
    "\n",
    "El GPTS observado nos da una idea de una distribución empírica. Podemos usar la función ``np.random.gamma`` para simular distribuciones empíricas también."
   ]
  },
  {
   "cell_type": "code",
   "execution_count": null,
   "metadata": {},
   "outputs": [],
   "source": [
    "help(np.random.gamma)"
   ]
  },
  {
   "cell_type": "markdown",
   "metadata": {},
   "source": [
    "**Utilice la función np.random.gamma para simular distintas de polaridades del campo geomágnetico**\n",
    "\n",
    "``np.random.gamma()`` tiene 2 parámetros: shape (a veces denominada \"$\\alpha$\") y scale (a veces denominada \"$\\theta$\"), y un tamaño de argumento opcional. Cada llamada a ``np.random.gamma()`` devuelve una duración de una polaridad extraída de la distribución gamma.\n",
    "\n",
    "Entonces, para obtener longitudes crónicas (o de polaridad) aleatorias, use ``np.random.gamma(shape, scale=1.0, size=None)`` donde:\n",
    "\n",
    "* shape = 1.2 (el alfa que usamos antes)\n",
    "* scale = average_polarity_zone_duration / 1.2\n",
    "* size = número de las distintas \"zonas\" de polaridad (por lo que obtendremos datos simulados aleatorios que tienen la misma longitud que nuestro conjunto de datos original).\n",
    "\n"
   ]
  },
  {
   "cell_type": "code",
   "execution_count": null,
   "metadata": {},
   "outputs": [],
   "source": []
  },
  {
   "cell_type": "markdown",
   "metadata": {},
   "source": [
    "Plotee un histograma de los datos simulados, los datos observados y la distribución teórica. Deberían verse bastante similares entre sí."
   ]
  },
  {
   "cell_type": "code",
   "execution_count": null,
   "metadata": {},
   "outputs": [],
   "source": []
  },
  {
   "cell_type": "markdown",
   "metadata": {},
   "source": [
    "Encuentre una manera de plotear su nueva escala de tiempo de polaridad aleatoria. La idea es que podamos compararla con de la escala de tiempo real."
   ]
  },
  {
   "cell_type": "code",
   "execution_count": null,
   "metadata": {},
   "outputs": [],
   "source": []
  },
  {
   "cell_type": "markdown",
   "metadata": {},
   "source": [
    "## ¿El campo se invertirá pronto?\n",
    "Pero lo que realmente nos gustaría saber es qué tan probable es que ocurra pronto una inversión de polaridad. El crono normal actual ha durado 0.78 Ma. Para encontrar la probabilidad de que ocurra una inversión en los próximos 10 mil años, necesitamos encontrar esa probabilidad de esa polaridad que sea más larga que 0.78 Ma pero más corta que 0,79 Ma.\n",
    "\n",
    "$$P (0.78 \\le X \\le 0.79) = P(X \\le 0.79) - P(X \\le 0.78) = (1 - P(0.79)) - (1 - P(0.78))$$\n",
    "\n",
    "Utilice la función gamma_probability para hacer este cálculo"
   ]
  },
  {
   "cell_type": "code",
   "execution_count": null,
   "metadata": {},
   "outputs": [],
   "source": []
  },
  {
   "cell_type": "markdown",
   "metadata": {},
   "source": [
    "Con base en esta probabilidad, ¿cree que el campo está a punto de invertirse?\n",
    "\n",
    "*Escriba su respuesta aqui*"
   ]
  },
  {
   "cell_type": "code",
   "execution_count": null,
   "metadata": {},
   "outputs": [],
   "source": []
  }
 ],
 "metadata": {
  "kernelspec": {
   "display_name": "Python 3",
   "language": "python",
   "name": "python3"
  },
  "language_info": {
   "codemirror_mode": {
    "name": "ipython",
    "version": 3
   },
   "file_extension": ".py",
   "mimetype": "text/x-python",
   "name": "python",
   "nbconvert_exporter": "python",
   "pygments_lexer": "ipython3",
   "version": "3.7.3"
  }
 },
 "nbformat": 4,
 "nbformat_minor": 4
}
