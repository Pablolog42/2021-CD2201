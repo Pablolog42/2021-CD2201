{
 "cells": [
  {
   "cell_type": "markdown",
   "source": [
    "# Distribuciones de probabilidad, observación de una lluvia de meteoritos y campo geomagnético"
   ],
   "metadata": {}
  },
  {
   "cell_type": "markdown",
   "source": [
    "## Setup\n",
    "\n",
    "Durante la clase de hoy usaremos los siguientes paquetes"
   ],
   "metadata": {}
  },
  {
   "cell_type": "code",
   "execution_count": 137,
   "source": [
    "import matplotlib.pyplot as plt\r\n",
    "import pandas as pd\r\n",
    "import numpy as np\r\n",
    "import scipy as scipy\r\n",
    "import scipy.stats as sps"
   ],
   "outputs": [],
   "metadata": {}
  },
  {
   "cell_type": "markdown",
   "source": [
    "## Lanzando una moneda\n",
    "\n",
    "Supongamos que hemos lanzando una moneda 10 veces usando ``np.random.choice([0, 1])``. ¿Cuántas veces saldrá cara? 1 es cara, 0 es sello. Usemos un loop for y hagamos que Python simule un escenario de lanzamiento de moneda.\n",
    "\n",
    "Este bloque de código es la primera vez que usamos un bucle for. Para bucles, el resultado es un fragmento de código (en Python el fragmento que está identado) que se ejecuta varias veces. En este caso, el código se repetirá 10 veces, especificado por rango (0,10)."
   ],
   "metadata": {}
  },
  {
   "cell_type": "code",
   "execution_count": 138,
   "source": [
    "for flip in range(0,10):\r\n",
    "    flip_result = np.random.choice([0, 1])\r\n",
    "    print(flip_result)"
   ],
   "outputs": [
    {
     "output_type": "stream",
     "name": "stdout",
     "text": [
      "1\n",
      "1\n",
      "1\n",
      "0\n",
      "1\n",
      "1\n",
      "1\n",
      "1\n",
      "1\n",
      "1\n"
     ]
    }
   ],
   "metadata": {}
  },
  {
   "cell_type": "markdown",
   "source": [
    "Ahora registremos cuántas veces el resultado fue cara. Haremos una lista llamada ``flip_results`` y la dejaremos en blanco para comenzar. Cada vez que corramos el código, agregaremos el resultado a la lista:"
   ],
   "metadata": {}
  },
  {
   "cell_type": "code",
   "execution_count": 139,
   "source": [
    "flip_results = []\r\n",
    "\r\n",
    "for flip in range(0,10):\r\n",
    "    flip_result = np.random.choice([0, 1])\r\n",
    "    flip_results.append(flip_result)\r\n",
    "    \r\n",
    "flip_results"
   ],
   "outputs": [
    {
     "output_type": "execute_result",
     "data": {
      "text/plain": [
       "[0, 1, 0, 0, 0, 1, 0, 0, 0, 1]"
      ]
     },
     "metadata": {},
     "execution_count": 139
    }
   ],
   "metadata": {}
  },
  {
   "cell_type": "markdown",
   "source": [
    "Podemos calcular cuántas veces fueron caras tomando la suma de la lista:"
   ],
   "metadata": {}
  },
  {
   "cell_type": "code",
   "execution_count": 140,
   "source": [
    "np.sum(flip_results)"
   ],
   "outputs": [
    {
     "output_type": "execute_result",
     "data": {
      "text/plain": [
       "3"
      ]
     },
     "metadata": {},
     "execution_count": 140
    }
   ],
   "metadata": {}
  },
  {
   "cell_type": "markdown",
   "source": [
    "Ahora lancemos la moneda 10 veces y repitamos este experimento otras 10 veces. Cada vez que lo realizemos, registremos cuántas caras resultaron del giro."
   ],
   "metadata": {}
  },
  {
   "cell_type": "code",
   "execution_count": 141,
   "source": [
    "number_heads = []\r\n",
    "\r\n",
    "for flip_experiment in range (0,10):\r\n",
    "\r\n",
    "    flip_results = []\r\n",
    "    \r\n",
    "    for flip in range(0,10):\r\n",
    "        flip_result = np.random.choice([0, 1])\r\n",
    "        flip_results.append(flip_result)\r\n",
    "    \r\n",
    "    number_heads.append(np.sum(flip_results))   \r\n",
    "        \r\n",
    "number_heads"
   ],
   "outputs": [
    {
     "output_type": "execute_result",
     "data": {
      "text/plain": [
       "[9, 6, 7, 6, 7, 7, 4, 4, 4, 5]"
      ]
     },
     "metadata": {},
     "execution_count": 141
    }
   ],
   "metadata": {}
  },
  {
   "cell_type": "code",
   "execution_count": 142,
   "source": [
    "plt.hist(number_heads,bins=[-0.5,0.5,1.5,2.5,3.5,4.5,5.5,6.5,7.5,8.5,9.5,10.5],density=True)\r\n",
    "plt.show()"
   ],
   "outputs": [
    {
     "output_type": "display_data",
     "data": {
      "image/png": "[encoded data removed]",
      "text/plain": [
       "<Figure size 432x288 with 1 Axes>"
      ]
     },
     "metadata": {
      "needs_background": "light"
     }
    }
   ],
   "metadata": {}
  },
  {
   "cell_type": "markdown",
   "source": [
    "En lugar de lanzar 10 monedas 10 veces, haz 10 lanzamientos de monedas 1000 veces. Ploteé el histograma del resultado."
   ],
   "metadata": {}
  },
  {
   "cell_type": "code",
   "execution_count": 143,
   "source": [
    "number_heads = []\r\n",
    "\r\n",
    "for flip_experiment in range (0,1000):\r\n",
    "\r\n",
    "    flip_results = []\r\n",
    "    \r\n",
    "    for flip in range(0,10):\r\n",
    "        flip_result = np.random.choice([0, 1])\r\n",
    "        flip_results.append(flip_result)\r\n",
    "    \r\n",
    "    number_heads.append(np.sum(flip_results))  "
   ],
   "outputs": [],
   "metadata": {}
  },
  {
   "cell_type": "code",
   "execution_count": 144,
   "source": [
    "plt.hist(number_heads,bins=[-0.5,0.5,1.5,2.5,3.5,4.5,5.5,6.5,7.5,8.5,9.5,10.5],density=True)\r\n",
    "plt.show()"
   ],
   "outputs": [
    {
     "output_type": "display_data",
     "data": {
      "image/png": "[encoded data removed]",
      "text/plain": [
       "<Figure size 432x288 with 1 Axes>"
      ]
     },
     "metadata": {
      "needs_background": "light"
     }
    }
   ],
   "metadata": {}
  },
  {
   "cell_type": "markdown",
   "source": [
    "## Conceptos estadísticos básicos\n",
    "La estadística es la forma en que analizamos, interpretamos y modelamos datos. Es útil comprender algunos conceptos:\n",
    "\n",
    "* Población versus muestra: la población es el conjunto de todos los resultados posibles de una medición dada (si tiene un número infinito de puntos de datos), mientras que la muestra es lo que se tiene: un número finito de puntos de datos.\n",
    "\n",
    "* Probabilidad: la medida de la probabilidad de que ocurra un evento en particular. Si algo es imposible, tiene una probabilidad $P$ de 0. Si es una certeza, tiene una probabilidad $P$ de 1.\n",
    "\n",
    "* Distribuciones teóricas versus empíricas: Las distribuciones empíricas son datos medidos. Las distribuciones teóricas son funciones analíticas de probabilidad descritas con una ecuación. Estos se pueden aplicar a los datos, lo que permite interpretaciones sobre la probabilidad de observar una medición determinada.\n",
    "\n",
    "\n",
    "Hay muchos tipos diferentes de distribuciones de probabilidad y la evaluación de las ecuaciones nos da una distribución teórica.\n",
    "\n",
    "Las muestras son colecciones finitas de observaciones que pertenecen a una distribución. En este ejercicio, simularemos 'mediciones' a través 'observaciones' desde de una distribución teórica. Este es el enfoque es llamado de *Monte Carlo*.\n",
    "\n",
    "Acabamos de simular un experimento de lanzar una moneda. Comparemos lo que obtuvimos a través de esa simulación con la distribución teórica."
   ],
   "metadata": {}
  },
  {
   "cell_type": "markdown",
   "source": [
    "## Distribución binomial:\n",
    "**Teórico**\n",
    "\n",
    "Una distribución relativamente sencilla es la distribución binomial que describe la probabilidad de un resultado particular cuando solo hay dos posibilidades (sí o no, cara o sello, 1 o 0). Por ejemplo, en un experimento de lanzamiento de una moneda (cara o sello), si lanzamos la moneda $ n $ veces, ¿cuál es la probabilidad de obtener $ x $ 'caras'? Supongamos que la probabilidad $ p $ de una cara para cualquier lanzamiento de moneda es del 50%; dicho de otra manera $ p $ = 0.5.\n",
    "\n",
    "La distribución binomial se puede describir mediante una ecuación:\n",
    "\n",
    "$$P=f(x,p,n)= \\frac{n!}{x!(n-x)!}p^x(1-p)^{n-x}$$\n",
    "\n",
    "Podemos observar este tipo de distribución evaluando la probabilidad de obtener $x$ 'caras' de $ n $ intentos. Codificaremos la ecuación como una función y calcularemos la probabilidad $ P $ de un resultado en particular (por ejemplo, $ x $ caras en $ n $ intentos).\n",
    "\n",
    "Tenga en cuenta que para el lanzamiento de una moneda, $ p $ es 0.5, pero también se pueden investigar otras preguntas de sí / no (por ejemplo, la posibilidad de encontrar un fósil en una capa sedimentaria, ya sea que ocurra o no un deslizamiento de tierra después de un terremoto)."
   ],
   "metadata": {}
  },
  {
   "cell_type": "code",
   "execution_count": 145,
   "source": [
    "def binomial_probability(x,p,n):\r\n",
    "    \"\"\"\r\n",
    "    This function computes the probability of getting x particular outcomes (heads) in n attempts, where p is the \r\n",
    "    probability of a particular outcome (head) for any given attempt (coin toss).\r\n",
    "    \r\n",
    "    Parameters\r\n",
    "    ----------\r\n",
    "    x : number of a particular outcome\r\n",
    "    p : probability of that outcome in a given attempt\r\n",
    "    n : number of attempts\r\n",
    "    \r\n",
    "    Returns\r\n",
    "    ---------\r\n",
    "    prob : probability of that number of the given outcome occuring in that number of attempts\r\n",
    "    \"\"\"\r\n",
    "\r\n",
    "    prob = (np.math.factorial(n)/(np.math.factorial(x)*np.math.factorial(n-x)))*(p**(x))*(1.-p)**(n-x)\r\n",
    "\r\n",
    "    return prob"
   ],
   "outputs": [],
   "metadata": {}
  },
  {
   "cell_type": "markdown",
   "source": [
    "Podemos usar esta función para calcular la probabilidad de obtener 10 caras ($ x = 10 $) cuando hay 10 lanzamientos de monedas ($ n = 10 $) dados con $ p $ (probabilidad) de 0.5."
   ],
   "metadata": {}
  },
  {
   "cell_type": "code",
   "execution_count": 146,
   "source": [
    "binomial_probability(x=10,p=0.5,n=10)"
   ],
   "outputs": [
    {
     "output_type": "execute_result",
     "data": {
      "text/plain": [
       "0.0009765625"
      ]
     },
     "metadata": {},
     "execution_count": 146
    }
   ],
   "metadata": {}
  },
  {
   "cell_type": "markdown",
   "source": [
    "Calculemos la probabilidad de obtener [0, 1, 2, 3, 4, 5, 6, 7, 8, 9, 10] caras."
   ],
   "metadata": {}
  },
  {
   "cell_type": "code",
   "execution_count": 147,
   "source": [
    "head_numbers = np.arange(0,11)\r\n",
    "head_numbers"
   ],
   "outputs": [
    {
     "output_type": "execute_result",
     "data": {
      "text/plain": [
       "array([ 0,  1,  2,  3,  4,  5,  6,  7,  8,  9, 10])"
      ]
     },
     "metadata": {},
     "execution_count": 147
    }
   ],
   "metadata": {}
  },
  {
   "cell_type": "code",
   "execution_count": 148,
   "source": [
    "prob_heads = 0.5\r\n",
    "n_flips = 10\r\n",
    "probabilities = []\r\n",
    "\r\n",
    "for head_number in head_numbers:\r\n",
    "    prob = binomial_probability(head_number,prob_heads,n_flips)\r\n",
    "    probabilities.append(prob)\r\n",
    "    \r\n",
    "print(probabilities)\r\n",
    "\r\n",
    "plt.plot(probabilities)\r\n",
    "plt.show()"
   ],
   "outputs": [
    {
     "output_type": "stream",
     "name": "stdout",
     "text": [
      "[0.0009765625, 0.009765625, 0.0439453125, 0.1171875, 0.205078125, 0.24609375, 0.205078125, 0.1171875, 0.0439453125, 0.009765625, 0.0009765625]\n"
     ]
    },
    {
     "output_type": "display_data",
     "data": {
      "image/png": "[encoded data removed]",
      "text/plain": [
       "<Figure size 432x288 with 1 Axes>"
      ]
     },
     "metadata": {
      "needs_background": "light"
     }
    }
   ],
   "metadata": {}
  },
  {
   "cell_type": "markdown",
   "source": [
    "Haga un plot donde se muestre el histograma de 1000 lanzamientos de monedas (usando ``plt.hist()`` con ``density = True``) y plotee la curva obtenido del modelo probabilistico para el respectivo número de caras usando ``plt.plot()``."
   ],
   "metadata": {}
  },
  {
   "cell_type": "code",
   "execution_count": 178,
   "source": [
    "prob_heads = 0.5\r\n",
    "n_flips = 1000\r\n",
    "probabilities = []\r\n",
    "\r\n",
    "head_numbers = np.arange(0,1001)\r\n",
    "\r\n",
    "for head_number in head_numbers:\r\n",
    "    prob = binomial_probability(head_number,prob_heads,n_flips)\r\n",
    "    probabilities.append(prob)\r\n",
    "    \r\n",
    "\r\n",
    "# plt.plot(probabilities)\r\n",
    "plt.hist(probabilities,bins=head_numbers,density = True)\r\n",
    "plt.plot()\r\n",
    "\r\n",
    "\r\n",
    "plt.xlabel('Número de caras') # add labels\r\n",
    "plt.ylabel('Fracción de lanzamientos con este número de caras') \r\n",
    "\r\n",
    "plt.title('Número de lanzamientos (n=1000)');\r\n",
    "\r\n",
    "plt.show()"
   ],
   "outputs": [
    {
     "output_type": "display_data",
     "data": {
      "image/png": "[encoded data removed]",
      "text/plain": [
       "<Figure size 432x288 with 1 Axes>"
      ]
     },
     "metadata": {
      "needs_background": "light"
     }
    }
   ],
   "metadata": {}
  },
  {
   "cell_type": "markdown",
   "source": [
    "Si tenemos suerte, lo que deberíamos ver es que el número de lanzamientos de monedas de nuestras muestras aleatorias coincide bastante bien con la distribución de probabilidad teórica. Cuantos más experimentos de lazamientos realizamos numéricamente, mejor debería coincidir.\n",
    "\n",
    "**Resultado empírico**\n",
    "\n",
    "El tipo de muestreo que estábamos haciendo arriba donde estábamos lanzando monedas se llama *simulación de Monte Carlo*. Podemos usar datos simulados de todo tipo de distribuciones. Sigamos centrándonos en la distribución binomial y veamos el uso de la función ``np.random.binomial``. \n"
   ],
   "metadata": {}
  },
  {
   "cell_type": "code",
   "execution_count": 150,
   "source": [
    "help(np.random.binomial)"
   ],
   "outputs": [
    {
     "output_type": "stream",
     "name": "stdout",
     "text": [
      "Help on built-in function binomial:\n",
      "\n",
      "binomial(...) method of numpy.random.mtrand.RandomState instance\n",
      "    binomial(n, p, size=None)\n",
      "    \n",
      "    Draw samples from a binomial distribution.\n",
      "    \n",
      "    Samples are drawn from a binomial distribution with specified\n",
      "    parameters, n trials and p probability of success where\n",
      "    n an integer >= 0 and p is in the interval [0,1]. (n may be\n",
      "    input as a float, but it is truncated to an integer in use)\n",
      "    \n",
      "    .. note::\n",
      "        New code should use the ``binomial`` method of a ``default_rng()``\n",
      "        instance instead; please see the :ref:`random-quick-start`.\n",
      "    \n",
      "    Parameters\n",
      "    ----------\n",
      "    n : int or array_like of ints\n",
      "        Parameter of the distribution, >= 0. Floats are also accepted,\n",
      "        but they will be truncated to integers.\n",
      "    p : float or array_like of floats\n",
      "        Parameter of the distribution, >= 0 and <=1.\n",
      "    size : int or tuple of ints, optional\n",
      "        Output shape.  If the given shape is, e.g., ``(m, n, k)``, then\n",
      "        ``m * n * k`` samples are drawn.  If size is ``None`` (default),\n",
      "        a single value is returned if ``n`` and ``p`` are both scalars.\n",
      "        Otherwise, ``np.broadcast(n, p).size`` samples are drawn.\n",
      "    \n",
      "    Returns\n",
      "    -------\n",
      "    out : ndarray or scalar\n",
      "        Drawn samples from the parameterized binomial distribution, where\n",
      "        each sample is equal to the number of successes over the n trials.\n",
      "    \n",
      "    See Also\n",
      "    --------\n",
      "    scipy.stats.binom : probability density function, distribution or\n",
      "        cumulative density function, etc.\n",
      "    Generator.binomial: which should be used for new code.\n",
      "    \n",
      "    Notes\n",
      "    -----\n",
      "    The probability density for the binomial distribution is\n",
      "    \n",
      "    .. math:: P(N) = \\binom{n}{N}p^N(1-p)^{n-N},\n",
      "    \n",
      "    where :math:`n` is the number of trials, :math:`p` is the probability\n",
      "    of success, and :math:`N` is the number of successes.\n",
      "    \n",
      "    When estimating the standard error of a proportion in a population by\n",
      "    using a random sample, the normal distribution works well unless the\n",
      "    product p*n <=5, where p = population proportion estimate, and n =\n",
      "    number of samples, in which case the binomial distribution is used\n",
      "    instead. For example, a sample of 15 people shows 4 who are left\n",
      "    handed, and 11 who are right handed. Then p = 4/15 = 27%. 0.27*15 = 4,\n",
      "    so the binomial distribution should be used in this case.\n",
      "    \n",
      "    References\n",
      "    ----------\n",
      "    .. [1] Dalgaard, Peter, \"Introductory Statistics with R\",\n",
      "           Springer-Verlag, 2002.\n",
      "    .. [2] Glantz, Stanton A. \"Primer of Biostatistics.\", McGraw-Hill,\n",
      "           Fifth Edition, 2002.\n",
      "    .. [3] Lentner, Marvin, \"Elementary Applied Statistics\", Bogden\n",
      "           and Quigley, 1972.\n",
      "    .. [4] Weisstein, Eric W. \"Binomial Distribution.\" From MathWorld--A\n",
      "           Wolfram Web Resource.\n",
      "           http://mathworld.wolfram.com/BinomialDistribution.html\n",
      "    .. [5] Wikipedia, \"Binomial distribution\",\n",
      "           https://en.wikipedia.org/wiki/Binomial_distribution\n",
      "    \n",
      "    Examples\n",
      "    --------\n",
      "    Draw samples from the distribution:\n",
      "    \n",
      "    >>> n, p = 10, .5  # number of trials, probability of each trial\n",
      "    >>> s = np.random.binomial(n, p, 1000)\n",
      "    # result of flipping a coin 10 times, tested 1000 times.\n",
      "    \n",
      "    A real world example. A company drills 9 wild-cat oil exploration\n",
      "    wells, each with an estimated probability of success of 0.1. All nine\n",
      "    wells fail. What is the probability of that happening?\n",
      "    \n",
      "    Let's do 20,000 trials of the model, and count the number that\n",
      "    generate zero positive results.\n",
      "    \n",
      "    >>> sum(np.random.binomial(9, 0.1, 20000) == 0)/20000.\n",
      "    # answer = 0.38885, or 38%.\n",
      "\n"
     ]
    }
   ],
   "metadata": {}
  },
  {
   "cell_type": "markdown",
   "source": [
    "``np.random.binomial()`` requiere 2 parámetros, $ n $ y $ p $. Podríamos haber usado esta función antes para obtener la cantidad de caras que se obtuvimos, pero la forma en que lo hicimos también funcionó.\n",
    "\n",
    "Sigamos el ejemplo que se da en la docstring de ``np.random.binomial()``."
   ],
   "metadata": {}
  },
  {
   "cell_type": "markdown",
   "source": [
    "Supongamos ahora un ejemplo más relacionado a las Ciencias de la Tierra. Una empresa petrólera perfora 9 pozos de exploración en lugares sin antecedentes de pozos petróleros (esto en inglés se conoce como *wild-cat exploration*), cada uno de estos pozos tiene una probabilidad de éxito estimada de 10%. Si los nueve pozos fallasen. ¿Cuál es la probabilidad de que eso suceda? \n",
    "\n",
    "*Tenga en cuenta que el éxito en este contexto significa que los hidrocarburos líquidos salieron del pozo. En realidad, es posible que no lo considere un éxito dado que el resultado es que se quemarán más hidrocarburos, lo que conducirá a niveles más altos de dióxido de carbono atmosférico y el aumento calentamiento global asociado*."
   ],
   "metadata": {}
  },
  {
   "cell_type": "markdown",
   "source": [
    "Si usamos ``np.random.binomial(9, 0.1, 100)`` obtendremos una lista de 100 valores que representan el número de pozos que produjeron petróleo cuando hay un 10% (p = 0.1) de probabilidad de que cada pozo individual produzca petróleo. "
   ],
   "metadata": {}
  },
  {
   "cell_type": "code",
   "execution_count": 151,
   "source": [
    "np.random.binomial(9, 0.1, 100)"
   ],
   "outputs": [
    {
     "output_type": "execute_result",
     "data": {
      "text/plain": [
       "array([1, 0, 2, 0, 1, 0, 2, 1, 1, 1, 0, 0, 1, 0, 2, 1, 0, 1, 0, 2, 1, 1,\n",
       "       0, 1, 0, 4, 2, 1, 2, 1, 0, 1, 3, 0, 0, 1, 3, 1, 2, 2, 1, 2, 0, 0,\n",
       "       0, 2, 0, 1, 1, 1, 2, 1, 1, 1, 1, 2, 2, 0, 0, 2, 6, 0, 0, 0, 3, 1,\n",
       "       2, 1, 2, 0, 1, 3, 1, 0, 0, 1, 0, 1, 0, 1, 1, 0, 3, 1, 0, 1, 1, 0,\n",
       "       0, 0, 0, 0, 3, 1, 1, 2, 2, 1, 1, 0])"
      ]
     },
     "metadata": {},
     "execution_count": 151
    }
   ],
   "metadata": {}
  },
  {
   "cell_type": "code",
   "execution_count": 152,
   "source": [
    "np.random.binomial(9, 0.1, 100) == 0"
   ],
   "outputs": [
    {
     "output_type": "execute_result",
     "data": {
      "text/plain": [
       "array([ True, False, False,  True, False, False,  True, False, False,\n",
       "       False, False, False, False, False,  True, False, False,  True,\n",
       "       False,  True, False,  True, False, False, False,  True, False,\n",
       "       False, False,  True,  True, False, False,  True, False, False,\n",
       "       False,  True, False,  True, False, False, False,  True, False,\n",
       "        True,  True,  True, False, False,  True, False, False,  True,\n",
       "       False,  True,  True, False,  True, False, False, False, False,\n",
       "        True,  True,  True, False,  True, False, False, False,  True,\n",
       "       False, False, False, False,  True,  True,  True,  True,  True,\n",
       "       False, False, False,  True,  True, False,  True, False, False,\n",
       "       False,  True, False,  True,  True,  True, False, False, False,\n",
       "        True])"
      ]
     },
     "metadata": {},
     "execution_count": 152
    }
   ],
   "metadata": {}
  },
  {
   "cell_type": "code",
   "execution_count": 153,
   "source": [
    "sum(np.random.binomial(9, 0.1, 100) == 0)"
   ],
   "outputs": [
    {
     "output_type": "execute_result",
     "data": {
      "text/plain": [
       "37"
      ]
     },
     "metadata": {},
     "execution_count": 153
    }
   ],
   "metadata": {}
  },
  {
   "cell_type": "markdown",
   "source": [
    "Podemos escribir una función que use este proceso para simular la fracción de veces que no hay pozos exitosos para un número dado de pozos, dada una probabilidad y un número dado de simulaciones."
   ],
   "metadata": {}
  },
  {
   "cell_type": "code",
   "execution_count": 154,
   "source": [
    "def wildcat_failure_rate(n_wells,prob,n_simulations):\r\n",
    "    '''\r\n",
    "    Simulate the number of times that there are no successful wells for a given number of wells and a given probability for each well.\r\n",
    "    \r\n",
    "    Parameters\r\n",
    "    ----------\r\n",
    "    n_wells : number of well drilled in each simulation\r\n",
    "    prob : probability that each well will be successful\r\n",
    "    n_simulations : number of times taht drilling n_wells is simulated\r\n",
    "    '''\r\n",
    "    \r\n",
    "    failure_rate = sum(np.random.binomial(n_wells, prob, n_simulations) == 0)/n_simulations\r\n",
    "    return failure_rate"
   ],
   "outputs": [],
   "metadata": {}
  },
  {
   "cell_type": "markdown",
   "source": [
    "Use la función para simular la tasa de fallas para el escenario anterior (10 pozos perforados, 0.1 probabilidad de éxito para cada pozo) y hágalo para 10 simulaciones"
   ],
   "metadata": {}
  },
  {
   "cell_type": "code",
   "execution_count": 155,
   "source": [
    "wildcat_failure_rate(10,0.1,10)"
   ],
   "outputs": [
    {
     "output_type": "execute_result",
     "data": {
      "text/plain": [
       "0.1"
      ]
     },
     "metadata": {},
     "execution_count": 155
    }
   ],
   "metadata": {}
  },
  {
   "cell_type": "markdown",
   "source": [
    "Utilice la función para simular la tasa de fallas para el mismo escenario para 1000 simulaciones"
   ],
   "metadata": {}
  },
  {
   "cell_type": "code",
   "execution_count": 156,
   "source": [
    "wildcat_failure_rate(10,0.1,1000)"
   ],
   "outputs": [
    {
     "output_type": "execute_result",
     "data": {
      "text/plain": [
       "0.35"
      ]
     },
     "metadata": {},
     "execution_count": 156
    }
   ],
   "metadata": {}
  },
  {
   "cell_type": "markdown",
   "source": [
    "Nuevamente, utilice la función para simular la tasa de fallas para el mismo escenario para 100000 simulaciones"
   ],
   "metadata": {}
  },
  {
   "cell_type": "code",
   "execution_count": 157,
   "source": [
    "wildcat_failure_rate(10,0.1,100000)"
   ],
   "outputs": [
    {
     "output_type": "execute_result",
     "data": {
      "text/plain": [
       "0.34865"
      ]
     },
     "metadata": {},
     "execution_count": 157
    }
   ],
   "metadata": {}
  },
  {
   "cell_type": "markdown",
   "source": [
    "En los ejemplos anteriores estamos simulando el resultado. En su lugar, podríamos usar la distribución ``binomial_probability`` para calcular la probabilidad. Siga adelante y haga esto para este ejemplo de *wildcat exploration*."
   ],
   "metadata": {}
  },
  {
   "cell_type": "code",
   "execution_count": 158,
   "source": [
    "binomial_probability(10,0.1,1000)"
   ],
   "outputs": [
    {
     "output_type": "execute_result",
     "data": {
      "text/plain": [
       "1.3204315071168316e-32"
      ]
     },
     "metadata": {},
     "execution_count": 158
    }
   ],
   "metadata": {}
  },
  {
   "cell_type": "markdown",
   "source": [
    "¿Qué tan bien coincide la ``binomial_probability`` calculada con los valores de ``wildcat_failure`` simulados? ¿Cuántas veces necesitas simular el problema para obtener un número que coincida con la probabilidad teórica?"
   ],
   "metadata": {}
  },
  {
   "cell_type": "markdown",
   "source": [
    "**Escribe tu respuesta aquí**"
   ],
   "metadata": {}
  },
  {
   "cell_type": "markdown",
   "source": [
    "## Distribución de Poisson\n",
    "\n",
    "Una distribución de Poisson da la probabilidad de una cantidad de eventos en un intervalo generado por un proceso de Poisson: se conoce el tiempo promedio entre eventos, pero el momento exacto de los eventos es aleatorio. Los eventos deben ser independientes y pueden ocurrir solo uno a la vez.\n",
    "\n",
    "Dentro de las Ciencias de la Tierra y Planetarias hay muchos procesos que cumplen aproximadamente con este criterio."
   ],
   "metadata": {}
  },
  {
   "cell_type": "markdown",
   "source": [
    "**Teórico**\n",
    "\n",
    "La distribución de Poisson da la probabilidad de que un evento (con dos posibles resultados) ocurra $k$ número de veces en un intervalo de tiempo donde $\\lambda$ es la tasa de ocurrencia esperada. La distribución de Poisson es el límite de la distribución binomial para $n$ grandes. Entonces, si toma el límite de la distribución binomial con $ n \\longrightarrow \\infty$. \n",
    "\n",
    "$\\displaystyle \\lim_{n \\rightarrow \\infty } \\frac{n!}{k!(n-k)!}p^k(1-p)^{n-k} = \\frac{n!}{k!(n-k)!}\\left(\\frac{\\lambda}{n} \\right)^k \\left(1-\\frac{\\lambda}{n} \\right)^{n-k} $ se obtiene la distribución de Poisson:\n",
    "\n",
    "$P(k$ eventos en un intervalo$) = e^{-\\lambda}\\frac{\\lambda^{k}}{k!}.$\n",
    "\n",
    "Porque $\\displaystyle \\lim_{x \\rightarrow \\infty } \\left(1+\\frac{a}{x} \\right)^{x}=e^{a}$ y $\\displaystyle \\lim_{x \\rightarrow \\infty } \\frac{x!}{x^{k}(x-k)!} = 1$\n",
    "\n"
   ],
   "metadata": {}
  },
  {
   "cell_type": "code",
   "execution_count": 159,
   "source": [
    "def poisson_probability(k,lamb):\r\n",
    "    \"\"\"\r\n",
    "    This function computes the probability of getting k particular outcomes when the expected rate is lam.\r\n",
    "    \"\"\"\r\n",
    "    \r\n",
    "    # compute the poisson probability of getting k outcomes when the expected rate is lam\r\n",
    "    prob = (np.exp(-1*lamb))*(lamb**k)/np.math.factorial(k)\r\n",
    "    \r\n",
    "    #return the output\r\n",
    "    return prob"
   ],
   "outputs": [],
   "metadata": {}
  },
  {
   "cell_type": "markdown",
   "source": [
    "## Observando meteoros\n",
    "![](AMS_TERMINOLOGY.png)\n",
    "\n",
    "Información extraída de https://www.amsmeteors.org/meteor-showers/meteor-faq/:\n",
    "\n",
    "> **¿Qué tamaño tienen la mayoría de los meteoroides? ¿Qué tan rápido viajan?** La mayoría de los meteoros visibles son causados por partículas que varían en tamaño desde aproximadamente el de una pequeña roca hasta un grano de arena, y generalmente pesan menos de 1-2 gramos. Los de origen asteroide pueden estar compuestos de material denso, pedregoso o metálico (una minoría), mientras que los de origen cometario (la mayoría) tienen densidades bajas y están compuestos por un conglomerado material \"esponjoso\", con frecuencia llamado \"bola de polvo\". El brillante destello de luz de un meteoro no es causado tanto por la masa del meteoroide, sino por su alto nivel de energía cinética cuando choca con la atmósfera.\n",
    "\n",
    "> Los meteoritos entran en la atmósfera a velocidades que van desde los 11 km/s hasta los 72 km/s. Cuando el meteoroide choca con las moléculas de aire, su alto nivel de energía cinética ioniza rápidamente y excita una columna larga y delgada de átomos atmosféricos a lo largo de la trayectoria del meteoroide, creando un destello de luz visible desde el suelo. Esta columna, o rastro de meteoritos, suele tener menos de 1 metro de diámetro, pero tendrá decenas de kilómetros de largo.\n",
    "\n",
    "> La amplia gama de velocidades de los meteoroides se debe en parte al hecho de que la Tierra misma viaja a unos 30 km/s mientras gira alrededor del sol. En el lado de la tarde, o el lado de fuga de la Tierra, los meteoroides deben alcanzar la atmósfera terrestre para causar un meteoro y tienden a ser lentos. En el lado de la mañana, o en el lado donde pueden chocar con la Tierra, los meteoroides pueden chocar de frente con la atmósfera y tienden a ser rápidos.\n",
    "\n",
    ">  **¿Qué es una lluvia de meteoritos? ¿Se produce una lluvia \"todas a la vez\" o durante un período de tiempo?** La mayoría de las lluvias de meteoros tienen su origen en los cometas. Cada vez que un cometa pasa por el sol, produce copiosas cantidades de partículas del tamaño de un meteoroide que eventualmente se esparcirán a lo largo de toda la órbita del cometa para formar una \"corriente\" de meteoroides. Si la órbita de la Tierra y la órbita del cometa se cruzan en algún punto, entonces la Tierra pasará a través de esta corriente durante unos días aproximadamente al mismo tiempo cada año, encontrando una lluvia de meteoritos.\n",
    "\n",
    ">  La única lluvia importante que se muestra claramente como no cometaria es la lluvia Gemínida, que comparte una órbita con el asteroide (3200 Phaethon): una que se acerca inusualmente al sol y pasa por la órbita de la Tierra. La mayoría de los meteoroides de lluvia parecen ser \"esponjosos\", pero las Gemínidas son mucho más duraderas como podría esperarse de los fragmentos de asteroides.\n",
    "\n",
    "## Observando un lluvia de meteoritos\n",
    "\n",
    "Supongamos que planeas salir e intentar ver estrellas fugaces esta noche en un lugar relativamente alejado de la cuidad. A una tasa de 5 meteoros observados por hora, ¿cuál es la probabilidad de observar 6?\n",
    "\n",
    "Podemos usar la función de probabilidad de Poisson para responder esta pregunta:"
   ],
   "metadata": {}
  },
  {
   "cell_type": "code",
   "execution_count": 160,
   "source": [
    "lamb = 5\r\n",
    "k = 6\r\n",
    "prob = poisson_probability(k,lamb)\r\n",
    "print(prob)"
   ],
   "outputs": [
    {
     "output_type": "stream",
     "name": "stdout",
     "text": [
      "0.1462228081398756\n"
     ]
    }
   ],
   "metadata": {}
  },
  {
   "cell_type": "markdown",
   "source": [
    "Entonces, ese resultado nos dice que hay un 14,6% de probabilidad de observar exactamente 6, pero sería mucho más útil poder visualizar la distribución de probabilidad. Entonces, repasemos y calculemos la probabilidad de ver cualquier número entre 0 y 10. Primero, podemos hacer una matriz entre 0 y 11:"
   ],
   "metadata": {}
  },
  {
   "cell_type": "code",
   "execution_count": 161,
   "source": [
    "number_meteors_seen = np.arange(0,11)\r\n",
    "number_meteors_seen"
   ],
   "outputs": [
    {
     "output_type": "execute_result",
     "data": {
      "text/plain": [
       "array([ 0,  1,  2,  3,  4,  5,  6,  7,  8,  9, 10])"
      ]
     },
     "metadata": {},
     "execution_count": 161
    }
   ],
   "metadata": {}
  },
  {
   "cell_type": "code",
   "execution_count": 162,
   "source": [
    "meteor_sighting_probability = []\r\n",
    "meteor_rate = 5\r\n",
    "\r\n",
    "for n in number_meteors_seen:\r\n",
    "    prob = poisson_probability(number_meteors_seen[n],meteor_rate)\r\n",
    "    meteor_sighting_probability.append(prob)"
   ],
   "outputs": [],
   "metadata": {}
  },
  {
   "cell_type": "code",
   "execution_count": 163,
   "source": [
    "meteor_sighting_probability"
   ],
   "outputs": [
    {
     "output_type": "execute_result",
     "data": {
      "text/plain": [
       "[0.006737946999085467,\n",
       " 0.03368973499542734,\n",
       " 0.08422433748856833,\n",
       " 0.14037389581428056,\n",
       " 0.1754673697678507,\n",
       " 0.1754673697678507,\n",
       " 0.1462228081398756,\n",
       " 0.104444862957054,\n",
       " 0.06527803934815875,\n",
       " 0.03626557741564375,\n",
       " 0.01813278870782187]"
      ]
     },
     "metadata": {},
     "execution_count": 163
    }
   ],
   "metadata": {}
  },
  {
   "cell_type": "code",
   "execution_count": 164,
   "source": [
    "plt.plot(number_meteors_seen,meteor_sighting_probability,label=' $\\lambda = 5$')\r\n",
    "plt.legend()\r\n",
    "plt.show()"
   ],
   "outputs": [
    {
     "output_type": "display_data",
     "data": {
      "image/png": "[encoded data removed]",
      "text/plain": [
       "<Figure size 432x288 with 1 Axes>"
      ]
     },
     "metadata": {
      "needs_background": "light"
     }
    }
   ],
   "metadata": {}
  },
  {
   "cell_type": "markdown",
   "source": [
    "Cuando no hay una lluvia activa, la tasa de meteoros de fondo es de aproximadamente 2 por hora (aunque es variable según la hora de la noche y la temporada; vea más aquí: https://www.amsmeteors.org/meteor-showers/meteor-faq/).\n",
    "\n",
    "Calcule la probabilidad de ver diferentes números de meteoros cuando la velocidad es de 2 por hora ($\\lambda = 2$). Plotee esa probabilidad junto con la probabilidad de ver esos mismos números durante una lluvia de estrellas de $\\lambda = 5$."
   ],
   "metadata": {}
  },
  {
   "cell_type": "code",
   "execution_count": null,
   "source": [],
   "outputs": [],
   "metadata": {}
  },
  {
   "cell_type": "markdown",
   "source": [
    "## Simular la observación de meteoritos\n",
    "\n",
    "Hay muchos casos en los que puede resultar útil simular un conjunto de datos. En este caso, se podría simular cuál podría ser su experiencia en términos de la cantidad de horas que podría pasar mirando el cielo nocturno y viendo 1 meteorito o más en una noche normal frente a una noche con la lluvia de 5 meteoritos por hora. \n",
    "\n",
    "Podemos usar la función ``np.random.poisson`` para simular datos 'realistas'.\n",
    "\n",
    "``np.random.poisson()`` requiere un parámetro ``lam`` y otro opcional. Cada llamada a ``np.random.poisson()`` devuelve el tamaño del número de extracciones de una distribución de Poisson con $\\lambda = $ ``lam``.\n",
    "\n",
    "Probémoslo con $\\lambda = 2$ (la tasa de meteoritos por hora)."
   ],
   "metadata": {}
  },
  {
   "cell_type": "code",
   "execution_count": 165,
   "source": [
    "lam = 2\r\n",
    "number_hours_watched = 100\r\n",
    "number_hours_w_meteor_sighting = []\r\n",
    "\r\n",
    "for n in np.arange(0,number_hours_watched):\r\n",
    "    number_meteors = np.random.poisson(lam)\r\n",
    "    if number_meteors >= 1:\r\n",
    "        number_hours_w_meteor_sighting.append(1)\r\n",
    "        \r\n",
    "fraction_w_sighting = len(number_hours_w_meteor_sighting)/number_hours_watched\r\n",
    "print('porcentaje de horas observadas con un avistamiento de meteoritos')\r\n",
    "print(fraction_w_sighting*100)"
   ],
   "outputs": [
    {
     "output_type": "stream",
     "name": "stdout",
     "text": [
      "porcentaje de horas observadas con un avistamiento de meteoritos\n",
      "85.0\n"
     ]
    }
   ],
   "metadata": {}
  },
  {
   "cell_type": "markdown",
   "source": [
    "Haz la misma simulación de observación de meteoritos con $\\lambda = 5$. Hágalo durante 10 horas, 100 horas, 100.000 horas."
   ],
   "metadata": {}
  },
  {
   "cell_type": "code",
   "execution_count": 166,
   "source": [
    "lam = 5\r\n",
    "number_hours_watched = 10\r\n",
    "number_hours_w_meteor_sighting = []\r\n",
    "\r\n",
    "for n in np.arange(0,number_hours_watched):\r\n",
    "    number_meteors = np.random.poisson(lam)\r\n",
    "    if number_meteors >= 1:\r\n",
    "        number_hours_w_meteor_sighting.append(1)\r\n",
    "        \r\n",
    "fraction_w_sighting = len(number_hours_w_meteor_sighting)/number_hours_watched\r\n",
    "print('porcentaje de horas observadas con un avistamiento de meteoritos')\r\n",
    "print(fraction_w_sighting*100)"
   ],
   "outputs": [
    {
     "output_type": "stream",
     "name": "stdout",
     "text": [
      "porcentaje de horas observadas con un avistamiento de meteoritos\n",
      "100.0\n"
     ]
    }
   ],
   "metadata": {}
  },
  {
   "cell_type": "code",
   "execution_count": 167,
   "source": [
    "# Escribe tu codigo aquí\r\n",
    "lam = 5\r\n",
    "number_hours_watched = 100\r\n",
    "number_hours_w_meteor_sighting = []\r\n",
    "\r\n",
    "for n in np.arange(0,number_hours_watched):\r\n",
    "    number_meteors = np.random.poisson(lam)\r\n",
    "    if number_meteors >= 1:\r\n",
    "        number_hours_w_meteor_sighting.append(1)\r\n",
    "        \r\n",
    "fraction_w_sighting = len(number_hours_w_meteor_sighting)/number_hours_watched\r\n",
    "print('porcentaje de horas observadas con un avistamiento de meteoritos')\r\n",
    "print(fraction_w_sighting*100)"
   ],
   "outputs": [
    {
     "output_type": "stream",
     "name": "stdout",
     "text": [
      "porcentaje de horas observadas con un avistamiento de meteoritos\n",
      "99.0\n"
     ]
    }
   ],
   "metadata": {}
  },
  {
   "cell_type": "code",
   "execution_count": 168,
   "source": [
    "# Escribe tu codigo aquí\r\n",
    "lam = 5\r\n",
    "number_hours_watched = 100000\r\n",
    "number_hours_w_meteor_sighting = []\r\n",
    "\r\n",
    "for n in np.arange(0,number_hours_watched):\r\n",
    "    number_meteors = np.random.poisson(lam)\r\n",
    "    if number_meteors >= 1:\r\n",
    "        number_hours_w_meteor_sighting.append(1)\r\n",
    "        \r\n",
    "fraction_w_sighting = len(number_hours_w_meteor_sighting)/number_hours_watched\r\n",
    "print('porcentaje de horas observadas con un avistamiento de meteoritos')\r\n",
    "print(fraction_w_sighting*100)"
   ],
   "outputs": [
    {
     "output_type": "stream",
     "name": "stdout",
     "text": [
      "porcentaje de horas observadas con un avistamiento de meteoritos\n",
      "99.32600000000001\n"
     ]
    }
   ],
   "metadata": {}
  }
 ],
 "metadata": {
  "kernelspec": {
   "name": "python3",
   "display_name": "Python 3.8.8 64-bit ('base': conda)"
  },
  "language_info": {
   "codemirror_mode": {
    "name": "ipython",
    "version": 3
   },
   "file_extension": ".py",
   "mimetype": "text/x-python",
   "name": "python",
   "nbconvert_exporter": "python",
   "pygments_lexer": "ipython3",
   "version": "3.8.8"
  },
  "interpreter": {
   "hash": "af573f283834de0d94267a2f349eb6a57bfc80fc16df6f4176b3eb1c7a5367fc"
  }
 },
 "nbformat": 4,
 "nbformat_minor": 4
}