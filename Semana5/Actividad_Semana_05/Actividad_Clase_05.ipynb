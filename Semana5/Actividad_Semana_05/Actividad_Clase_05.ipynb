{
 "cells": [
  {
   "cell_type": "markdown",
   "metadata": {},
   "source": [
    "# Distribuciones de probabilidad, observación de una lluvia de meteoritos y campo geomagnético"
   ]
  },
  {
   "cell_type": "markdown",
   "metadata": {},
   "source": [
    "## Setup\n",
    "\n",
    "Durante la clase de hoy usaremos los siguientes paquetes"
   ]
  },
  {
   "cell_type": "code",
   "execution_count": null,
   "metadata": {},
   "outputs": [],
   "source": [
    "import matplotlib.pyplot as plt\n",
    "import pandas as pd\n",
    "import numpy as np\n",
    "import scipy as scipy\n",
    "import scipy.stats as sps"
   ]
  },
  {
   "cell_type": "markdown",
   "metadata": {},
   "source": [
    "## Lanzando una moneda\n",
    "\n",
    "Supongamos que hemos lanzando una moneda 10 veces usando ``np.random.choice([0, 1])``. ¿Cuántas veces saldrá cara? 1 es cara, 0 es sello. Usemos un loop for y hagamos que Python simule un escenario de lanzamiento de moneda.\n",
    "\n",
    "Este bloque de código es la primera vez que usamos un bucle for. Para bucles, el resultado es un fragmento de código (en Python el fragmento que está identado) que se ejecuta varias veces. En este caso, el código se repetirá 10 veces, especificado por rango (0,10)."
   ]
  },
  {
   "cell_type": "code",
   "execution_count": null,
   "metadata": {},
   "outputs": [],
   "source": [
    "for flip in range(0,10):\n",
    "    flip_result = np.random.choice([0, 1])\n",
    "    print(flip_result)"
   ]
  },
  {
   "cell_type": "markdown",
   "metadata": {},
   "source": [
    "Ahora registremos cuántas veces el resultado fue cara. Haremos una lista llamada ``flip_results`` y la dejaremos en blanco para comenzar. Cada vez que corramos el código, agregaremos el resultado a la lista:"
   ]
  },
  {
   "cell_type": "code",
   "execution_count": null,
   "metadata": {},
   "outputs": [],
   "source": [
    "flip_results = []\n",
    "\n",
    "for flip in range(0,10):\n",
    "    flip_result = np.random.choice([0, 1])\n",
    "    flip_results.append(flip_result)\n",
    "    \n",
    "flip_results"
   ]
  },
  {
   "cell_type": "markdown",
   "metadata": {},
   "source": [
    "Podemos calcular cuántas veces fueron caras tomando la suma de la lista:"
   ]
  },
  {
   "cell_type": "code",
   "execution_count": null,
   "metadata": {},
   "outputs": [],
   "source": [
    "np.sum(flip_results)"
   ]
  },
  {
   "cell_type": "markdown",
   "metadata": {},
   "source": [
    "Ahora lancemos la moneda 10 veces y repitamos este experimento otras 10 veces. Cada vez que lo realizemos, registremos cuántas caras resultaron del giro."
   ]
  },
  {
   "cell_type": "code",
   "execution_count": null,
   "metadata": {},
   "outputs": [],
   "source": [
    "number_heads = []\n",
    "\n",
    "for flip_experiment in range (0,10):\n",
    "\n",
    "    flip_results = []\n",
    "    \n",
    "    for flip in range(0,10):\n",
    "        flip_result = np.random.choice([0, 1])\n",
    "        flip_results.append(flip_result)\n",
    "    \n",
    "    number_heads.append(np.sum(flip_results))   \n",
    "        \n",
    "number_heads"
   ]
  },
  {
   "cell_type": "code",
   "execution_count": null,
   "metadata": {},
   "outputs": [],
   "source": [
    "plt.hist(number_heads,bins=[-0.5,0.5,1.5,2.5,3.5,4.5,5.5,6.5,7.5,8.5,9.5,10.5],density=True)\n",
    "plt.show()"
   ]
  },
  {
   "cell_type": "markdown",
   "metadata": {},
   "source": [
    "En lugar de lanzar 10 monedas 10 veces, haz 10 lanzamientos de monedas 1000 veces. Ploteé el histograma del resultado."
   ]
  },
  {
   "cell_type": "code",
   "execution_count": null,
   "metadata": {},
   "outputs": [],
   "source": []
  },
  {
   "cell_type": "code",
   "execution_count": null,
   "metadata": {},
   "outputs": [],
   "source": []
  },
  {
   "cell_type": "markdown",
   "metadata": {},
   "source": [
    "## Conceptos estadísticos básicos\n",
    "La estadística es la forma en que analizamos, interpretamos y modelamos datos. Es útil comprender algunos conceptos:\n",
    "\n",
    "* Población versus muestra: la población es el conjunto de todos los resultados posibles de una medición dada (si tiene un número infinito de puntos de datos), mientras que la muestra es lo que se tiene: un número finito de puntos de datos.\n",
    "\n",
    "* Probabilidad: la medida de la probabilidad de que ocurra un evento en particular. Si algo es imposible, tiene una probabilidad $P$ de 0. Si es una certeza, tiene una probabilidad $P$ de 1.\n",
    "\n",
    "* Distribuciones teóricas versus empíricas: Las distribuciones empíricas son datos medidos. Las distribuciones teóricas son funciones analíticas de probabilidad descritas con una ecuación. Estos se pueden aplicar a los datos, lo que permite interpretaciones sobre la probabilidad de observar una medición determinada.\n",
    "\n",
    "\n",
    "Hay muchos tipos diferentes de distribuciones de probabilidad y la evaluación de las ecuaciones nos da una distribución teórica.\n",
    "\n",
    "Las muestras son colecciones finitas de observaciones que pertenecen a una distribución. En este ejercicio, simularemos 'mediciones' a través 'observaciones' desde de una distribución teórica. Este es el enfoque es llamado de *Monte Carlo*.\n",
    "\n",
    "Acabamos de simular un experimento de lanzar una moneda. Comparemos lo que obtuvimos a través de esa simulación con la distribución teórica."
   ]
  },
  {
   "cell_type": "markdown",
   "metadata": {},
   "source": [
    "## Distribución binomial:\n",
    "**Teórico**\n",
    "\n",
    "Una distribución relativamente sencilla es la distribución binomial que describe la probabilidad de un resultado particular cuando solo hay dos posibilidades (sí o no, cara o sello, 1 o 0). Por ejemplo, en un experimento de lanzamiento de una moneda (cara o sello), si lanzamos la moneda $ n $ veces, ¿cuál es la probabilidad de obtener $ x $ 'caras'? Supongamos que la probabilidad $ p $ de una cara para cualquier lanzamiento de moneda es del 50%; dicho de otra manera $ p $ = 0.5.\n",
    "\n",
    "La distribución binomial se puede describir mediante una ecuación:\n",
    "\n",
    "$$P=f(x,p,n)= \\frac{n!}{x!(n-x)!}p^x(1-p)^{n-x}$$\n",
    "\n",
    "Podemos observar este tipo de distribución evaluando la probabilidad de obtener $x$ 'caras' de $ n $ intentos. Codificaremos la ecuación como una función y calcularemos la probabilidad $ P $ de un resultado en particular (por ejemplo, $ x $ caras en $ n $ intentos).\n",
    "\n",
    "Tenga en cuenta que para el lanzamiento de una moneda, $ p $ es 0.5, pero también se pueden investigar otras preguntas de sí / no (por ejemplo, la posibilidad de encontrar un fósil en una capa sedimentaria, ya sea que ocurra o no un deslizamiento de tierra después de un terremoto)."
   ]
  },
  {
   "cell_type": "code",
   "execution_count": null,
   "metadata": {},
   "outputs": [],
   "source": [
    "def binomial_probability(x,p,n):\n",
    "    \"\"\"\n",
    "    This function computes the probability of getting x particular outcomes (heads) in n attempts, where p is the \n",
    "    probability of a particular outcome (head) for any given attempt (coin toss).\n",
    "    \n",
    "    Parameters\n",
    "    ----------\n",
    "    x : number of a particular outcome\n",
    "    p : probability of that outcome in a given attempt\n",
    "    n : number of attempts\n",
    "    \n",
    "    Returns\n",
    "    ---------\n",
    "    prob : probability of that number of the given outcome occuring in that number of attempts\n",
    "    \"\"\"\n",
    "\n",
    "    prob = (np.math.factorial(n)/(np.math.factorial(x)*np.math.factorial(n-x)))*(p**(x))*(1.-p)**(n-x)\n",
    "\n",
    "    return prob"
   ]
  },
  {
   "cell_type": "markdown",
   "metadata": {},
   "source": [
    "Podemos usar esta función para calcular la probabilidad de obtener 10 caras ($ x = 10 $) cuando hay 10 lanzamientos de monedas ($ n = 10 $) dados con $ p $ (probabilidad) de 0.5."
   ]
  },
  {
   "cell_type": "code",
   "execution_count": null,
   "metadata": {},
   "outputs": [],
   "source": [
    "binomial_probability(x=10,p=0.5,n=10)"
   ]
  },
  {
   "cell_type": "markdown",
   "metadata": {},
   "source": [
    "Calculemos la probabilidad de obtener [0, 1, 2, 3, 4, 5, 6, 7, 8, 9, 10] caras."
   ]
  },
  {
   "cell_type": "code",
   "execution_count": null,
   "metadata": {},
   "outputs": [],
   "source": [
    "head_numbers = np.arange(0,11)\n",
    "head_numbers"
   ]
  },
  {
   "cell_type": "code",
   "execution_count": null,
   "metadata": {},
   "outputs": [],
   "source": [
    "prob_heads = 0.5\n",
    "n_flips = 10\n",
    "probabilities = []\n",
    "\n",
    "for head_number in head_numbers:\n",
    "    prob = binomial_probability(head_number,prob_heads,n_flips)\n",
    "    probabilities.append(prob)\n",
    "    \n",
    "probabilities"
   ]
  },
  {
   "cell_type": "markdown",
   "metadata": {},
   "source": [
    "Haga un plot donde se muestre el histograma de 1000 lanzamientos de monedas (usando ``plt.hist()`` con ``density = True``) y plotee la curva obtenido del modelo probabilistico para el respectivo número de caras usando ``plt.plot()``."
   ]
  },
  {
   "cell_type": "code",
   "execution_count": null,
   "metadata": {},
   "outputs": [],
   "source": [
    "plt.hist()\n",
    "plt.plot()\n",
    "\n",
    "plt.xlabel('Número de caras') # add labels\n",
    "plt.ylabel('Fracción de lanzamientos con este número de caras') \n",
    "\n",
    "plt.title('Número de lanzamientos (n=1000)');"
   ]
  },
  {
   "cell_type": "markdown",
   "metadata": {},
   "source": [
    "Si tenemos suerte, lo que deberíamos ver es que el número de lanzamientos de monedas de nuestras muestras aleatorias coincide bastante bien con la distribución de probabilidad teórica. Cuantos más experimentos de lazamientos realizamos numéricamente, mejor debería coincidir.\n",
    "\n",
    "**Resultado empírico**\n",
    "\n",
    "El tipo de muestreo que estábamos haciendo arriba donde estábamos lanzando monedas se llama *simulación de Monte Carlo*. Podemos usar datos simulados de todo tipo de distribuciones. Sigamos centrándonos en la distribución binomial y veamos el uso de la función ``np.random.binomial``. \n"
   ]
  },
  {
   "cell_type": "code",
   "execution_count": null,
   "metadata": {},
   "outputs": [],
   "source": [
    "help(np.random.binomial)"
   ]
  },
  {
   "cell_type": "markdown",
   "metadata": {},
   "source": [
    "``np.random.binomial()`` requiere 2 parámetros, $ n $ y $ p $. Podríamos haber usado esta función antes para obtener la cantidad de caras que se obtuvimos, pero la forma en que lo hicimos también funcionó.\n",
    "\n",
    "Sigamos el ejemplo que se da en la docstring de ``np.random.binomial()``."
   ]
  },
  {
   "cell_type": "markdown",
   "metadata": {},
   "source": [
    "Supongamos ahora un ejemplo más relacionado a las Ciencias de la Tierra. Una empresa petrólera perfora 9 pozos de exploración en lugares sin antecedentes de pozos petróleros (esto en inglés se conoce como *wild-cat exploration*), cada uno de estos pozos tiene una probabilidad de éxito estimada de 10%. Si los nueve pozos fallasen. ¿Cuál es la probabilidad de que eso suceda? \n",
    "\n",
    "*Tenga en cuenta que el éxito en este contexto significa que los hidrocarburos líquidos salieron del pozo. En realidad, es posible que no lo considere un éxito dado que el resultado es que se quemarán más hidrocarburos, lo que conducirá a niveles más altos de dióxido de carbono atmosférico y el aumento calentamiento global asociado*."
   ]
  },
  {
   "cell_type": "markdown",
   "metadata": {},
   "source": [
    "Si usamos ``np.random.binomial(9, 0.1, 100)`` obtendremos una lista de 100 valores que representan el número de pozos que produjeron petróleo cuando hay un 10% (p = 0.1) de probabilidad de que cada pozo individual produzca petróleo. "
   ]
  },
  {
   "cell_type": "code",
   "execution_count": null,
   "metadata": {},
   "outputs": [],
   "source": [
    "np.random.binomial(9, 0.1, 100)"
   ]
  },
  {
   "cell_type": "code",
   "execution_count": null,
   "metadata": {},
   "outputs": [],
   "source": [
    "np.random.binomial(9, 0.1, 100) == 0"
   ]
  },
  {
   "cell_type": "code",
   "execution_count": null,
   "metadata": {},
   "outputs": [],
   "source": [
    "sum(np.random.binomial(9, 0.1, 100) == 0)"
   ]
  },
  {
   "cell_type": "markdown",
   "metadata": {},
   "source": [
    "Podemos escribir una función que use este proceso para simular la fracción de veces que no hay pozos exitosos para un número dado de pozos, dada una probabilidad y un número dado de simulaciones."
   ]
  },
  {
   "cell_type": "code",
   "execution_count": null,
   "metadata": {},
   "outputs": [],
   "source": [
    "def wildcat_failure_rate(n_wells,prob,n_simulations):\n",
    "    '''\n",
    "    Simulate the number of times that there are no successful wells for a given number of wells and a given probability for each well.\n",
    "    \n",
    "    Parameters\n",
    "    ----------\n",
    "    n_wells : number of well drilled in each simulation\n",
    "    prob : probability that each well will be successful\n",
    "    n_simulations : number of times taht drilling n_wells is simulated\n",
    "    '''\n",
    "    \n",
    "    failure_rate = sum(np.random.binomial(n_wells, prob, n_simulations) == 0)/n_simulations\n",
    "    return failure_rate"
   ]
  },
  {
   "cell_type": "markdown",
   "metadata": {},
   "source": [
    "Use la función para simular la tasa de fallas para el escenario anterior (10 pozos perforados, 0.1 probabilidad de éxito para cada pozo) y hágalo para 10 simulaciones"
   ]
  },
  {
   "cell_type": "code",
   "execution_count": null,
   "metadata": {},
   "outputs": [],
   "source": [
    "wildcat_failure_rate()"
   ]
  },
  {
   "cell_type": "markdown",
   "metadata": {},
   "source": [
    "Utilice la función para simular la tasa de fallas para el mismo escenario para 1000 simulaciones"
   ]
  },
  {
   "cell_type": "code",
   "execution_count": null,
   "metadata": {},
   "outputs": [],
   "source": [
    "wildcat_failure_rate()"
   ]
  },
  {
   "cell_type": "markdown",
   "metadata": {},
   "source": [
    "Nuevamente, utilice la función para simular la tasa de fallas para el mismo escenario para 100000 simulaciones"
   ]
  },
  {
   "cell_type": "code",
   "execution_count": null,
   "metadata": {},
   "outputs": [],
   "source": [
    "wildcat_failure_rate()"
   ]
  },
  {
   "cell_type": "markdown",
   "metadata": {},
   "source": [
    "En los ejemplos anteriores estamos simulando el resultado. En su lugar, podríamos usar la distribución ``binomial_probability`` para calcular la probabilidad. Siga adelante y haga esto para este ejemplo de *wildcat exploration*."
   ]
  },
  {
   "cell_type": "code",
   "execution_count": null,
   "metadata": {},
   "outputs": [],
   "source": [
    "binomial_probability()"
   ]
  },
  {
   "cell_type": "markdown",
   "metadata": {},
   "source": [
    "¿Qué tan bien coincide la ``binomial_probability`` calculada con los valores de ``wildcat_failure`` simulados? ¿Cuántas veces necesitas simular el problema para obtener un número que coincida con la probabilidad teórica?"
   ]
  },
  {
   "cell_type": "markdown",
   "metadata": {},
   "source": [
    "**Escribe tu respuesta aquí**"
   ]
  },
  {
   "cell_type": "markdown",
   "metadata": {},
   "source": [
    "## Distribución de Poisson\n",
    "\n",
    "Una distribución de Poisson da la probabilidad de una cantidad de eventos en un intervalo generado por un proceso de Poisson: se conoce el tiempo promedio entre eventos, pero el momento exacto de los eventos es aleatorio. Los eventos deben ser independientes y pueden ocurrir solo uno a la vez.\n",
    "\n",
    "Dentro de las Ciencias de la Tierra y Planetarias hay muchos procesos que cumplen aproximadamente con este criterio."
   ]
  },
  {
   "cell_type": "markdown",
   "metadata": {},
   "source": [
    "**Teórico**\n",
    "\n",
    "La distribución de Poisson da la probabilidad de que un evento (con dos posibles resultados) ocurra $k$ número de veces en un intervalo de tiempo donde $\\lambda$ es la tasa de ocurrencia esperada. La distribución de Poisson es el límite de la distribución binomial para $n$ grandes. Entonces, si toma el límite de la distribución binomial con $ n \\longrightarrow \\infty$. \n",
    "\n",
    "$\\displaystyle \\lim_{n \\rightarrow \\infty } \\frac{n!}{k!(n-k)!}p^k(1-p)^{n-k} = \\frac{n!}{k!(n-k)!}\\left(\\frac{\\lambda}{n} \\right)^k \\left(1-\\frac{\\lambda}{n} \\right)^{n-k} $ se obtiene la distribución de Poisson:\n",
    "\n",
    "$P(k$ eventos en un intervalo$) = e^{-\\lambda}\\frac{\\lambda^{k}}{k!}.$\n",
    "\n",
    "Porque $\\displaystyle \\lim_{x \\rightarrow \\infty } \\left(1+\\frac{a}{x} \\right)^{x}=e^{a}$ y $\\displaystyle \\lim_{x \\rightarrow \\infty } \\frac{x!}{x^{k}(x-k)!} = 1$\n",
    "\n"
   ]
  },
  {
   "cell_type": "code",
   "execution_count": null,
   "metadata": {},
   "outputs": [],
   "source": [
    "def poisson_probability(k,lamb):\n",
    "    \"\"\"\n",
    "    This function computes the probability of getting k particular outcomes when the expected rate is lam.\n",
    "    \"\"\"\n",
    "    \n",
    "    # compute the poisson probability of getting k outcomes when the expected rate is lam\n",
    "    prob = (np.exp(-1*lamb))*(lamb**k)/np.math.factorial(k)\n",
    "    \n",
    "    #return the output\n",
    "    return prob"
   ]
  },
  {
   "cell_type": "markdown",
   "metadata": {},
   "source": [
    "## Observando meteoros\n",
    "![](AMS_TERMINOLOGY.png)\n",
    "\n",
    "Información extraída de https://www.amsmeteors.org/meteor-showers/meteor-faq/:\n",
    "\n",
    "> **¿Qué tamaño tienen la mayoría de los meteoroides? ¿Qué tan rápido viajan?** La mayoría de los meteoros visibles son causados por partículas que varían en tamaño desde aproximadamente el de una pequeña roca hasta un grano de arena, y generalmente pesan menos de 1-2 gramos. Los de origen asteroide pueden estar compuestos de material denso, pedregoso o metálico (una minoría), mientras que los de origen cometario (la mayoría) tienen densidades bajas y están compuestos por un conglomerado material \"esponjoso\", con frecuencia llamado \"bola de polvo\". El brillante destello de luz de un meteoro no es causado tanto por la masa del meteoroide, sino por su alto nivel de energía cinética cuando choca con la atmósfera.\n",
    "\n",
    "> Los meteoritos entran en la atmósfera a velocidades que van desde los 11 km/s hasta los 72 km/s. Cuando el meteoroide choca con las moléculas de aire, su alto nivel de energía cinética ioniza rápidamente y excita una columna larga y delgada de átomos atmosféricos a lo largo de la trayectoria del meteoroide, creando un destello de luz visible desde el suelo. Esta columna, o rastro de meteoritos, suele tener menos de 1 metro de diámetro, pero tendrá decenas de kilómetros de largo.\n",
    "\n",
    "> La amplia gama de velocidades de los meteoroides se debe en parte al hecho de que la Tierra misma viaja a unos 30 km/s mientras gira alrededor del sol. En el lado de la tarde, o el lado de fuga de la Tierra, los meteoroides deben alcanzar la atmósfera terrestre para causar un meteoro y tienden a ser lentos. En el lado de la mañana, o en el lado donde pueden chocar con la Tierra, los meteoroides pueden chocar de frente con la atmósfera y tienden a ser rápidos.\n",
    "\n",
    ">  **¿Qué es una lluvia de meteoritos? ¿Se produce una lluvia \"todas a la vez\" o durante un período de tiempo?** La mayoría de las lluvias de meteoros tienen su origen en los cometas. Cada vez que un cometa pasa por el sol, produce copiosas cantidades de partículas del tamaño de un meteoroide que eventualmente se esparcirán a lo largo de toda la órbita del cometa para formar una \"corriente\" de meteoroides. Si la órbita de la Tierra y la órbita del cometa se cruzan en algún punto, entonces la Tierra pasará a través de esta corriente durante unos días aproximadamente al mismo tiempo cada año, encontrando una lluvia de meteoritos.\n",
    "\n",
    ">  La única lluvia importante que se muestra claramente como no cometaria es la lluvia Gemínida, que comparte una órbita con el asteroide (3200 Phaethon): una que se acerca inusualmente al sol y pasa por la órbita de la Tierra. La mayoría de los meteoroides de lluvia parecen ser \"esponjosos\", pero las Gemínidas son mucho más duraderas como podría esperarse de los fragmentos de asteroides.\n",
    "\n",
    "## Observando un lluvia de meteoritos\n",
    "\n",
    "Supongamos que planeas salir e intentar ver estrellas fugaces esta noche en un lugar relativamente alejado de la cuidad. A una tasa de 5 meteoros observados por hora, ¿cuál es la probabilidad de observar 6?\n",
    "\n",
    "Podemos usar la función de probabilidad de Poisson para responder esta pregunta:"
   ]
  },
  {
   "cell_type": "code",
   "execution_count": null,
   "metadata": {},
   "outputs": [],
   "source": [
    "lamb = 5\n",
    "k = 6\n",
    "prob = poisson_probability(k,lamb)\n",
    "print(prob)"
   ]
  },
  {
   "cell_type": "markdown",
   "metadata": {},
   "source": [
    "Entonces, ese resultado nos dice que hay un 14,6% de probabilidad de observar exactamente 6, pero sería mucho más útil poder visualizar la distribución de probabilidad. Entonces, repasemos y calculemos la probabilidad de ver cualquier número entre 0 y 10. Primero, podemos hacer una matriz entre 0 y 11:"
   ]
  },
  {
   "cell_type": "code",
   "execution_count": null,
   "metadata": {},
   "outputs": [],
   "source": [
    "number_meteors_seen = np.arange(0,11)\n",
    "number_meteors_seen"
   ]
  },
  {
   "cell_type": "code",
   "execution_count": null,
   "metadata": {},
   "outputs": [],
   "source": [
    "meteor_sighting_probability = []\n",
    "meteor_rate = 5\n",
    "\n",
    "for n in number_meteors_seen:\n",
    "    prob = poisson_probability(number_meteors_seen[n],meteor_rate)\n",
    "    meteor_sighting_probability.append(prob)"
   ]
  },
  {
   "cell_type": "code",
   "execution_count": null,
   "metadata": {},
   "outputs": [],
   "source": [
    "meteor_sighting_probability"
   ]
  },
  {
   "cell_type": "code",
   "execution_count": null,
   "metadata": {},
   "outputs": [],
   "source": [
    "plt.plot(number_meteors_seen,meteor_sighting_probability,label=' $\\lambda = 5$')\n",
    "plt.legend()\n",
    "plt.show()"
   ]
  },
  {
   "cell_type": "markdown",
   "metadata": {},
   "source": [
    "Cuando no hay una lluvia activa, la tasa de meteoros de fondo es de aproximadamente 2 por hora (aunque es variable según la hora de la noche y la temporada; vea más aquí: https://www.amsmeteors.org/meteor-showers/meteor-faq/).\n",
    "\n",
    "Calcule la probabilidad de ver diferentes números de meteoros cuando la velocidad es de 2 por hora ($\\lambda = 2$). Plotee esa probabilidad junto con la probabilidad de ver esos mismos números durante una lluvia de estrellas de $\\lambda = 5$."
   ]
  },
  {
   "cell_type": "code",
   "execution_count": null,
   "metadata": {},
   "outputs": [],
   "source": []
  },
  {
   "cell_type": "markdown",
   "metadata": {},
   "source": [
    "## Simular la observación de meteoritos\n",
    "\n",
    "Hay muchos casos en los que puede resultar útil simular un conjunto de datos. En este caso, se podría simular cuál podría ser su experiencia en términos de la cantidad de horas que podría pasar mirando el cielo nocturno y viendo 1 meteorito o más en una noche normal frente a una noche con la lluvia de 5 meteoritos por hora. \n",
    "\n",
    "Podemos usar la función ``np.random.poisson`` para simular datos 'realistas'.\n",
    "\n",
    "``np.random.poisson()`` requiere un parámetro ``lam`` y otro opcional. Cada llamada a ``np.random.poisson()`` devuelve el tamaño del número de extracciones de una distribución de Poisson con $\\lambda = $ ``lam``.\n",
    "\n",
    "Probémoslo con $\\lambda = 2$ (la tasa de meteoritos por hora)."
   ]
  },
  {
   "cell_type": "code",
   "execution_count": null,
   "metadata": {},
   "outputs": [],
   "source": [
    "lam = 2\n",
    "number_hours_watched = 100\n",
    "number_hours_w_meteor_sighting = []\n",
    "\n",
    "for n in np.arange(0,number_hours_watched):\n",
    "    number_meteors = np.random.poisson(lam)\n",
    "    if number_meteors >= 1:\n",
    "        number_hours_w_meteor_sighting.append(1)\n",
    "        \n",
    "fraction_w_sighting = len(number_hours_w_meteor_sighting)/number_hours_watched\n",
    "print('porcentaje de horas observadas con un avistamiento de meteoritos')\n",
    "print(fraction_w_sighting*100)"
   ]
  },
  {
   "cell_type": "markdown",
   "metadata": {},
   "source": [
    "Haz la misma simulación de observación de meteoritos con $\\lambda = 5$. Hágalo durante 10 horas, 100 horas, 100.000 horas."
   ]
  },
  {
   "cell_type": "code",
   "execution_count": null,
   "metadata": {},
   "outputs": [],
   "source": [
    "# Escribe tu codigo aquí"
   ]
  },
  {
   "cell_type": "code",
   "execution_count": null,
   "metadata": {},
   "outputs": [],
   "source": [
    "# Escribe tu codigo aquí"
   ]
  },
  {
   "cell_type": "code",
   "execution_count": null,
   "metadata": {},
   "outputs": [],
   "source": [
    "# Escribe tu codigo aquí"
   ]
  }
 ],
 "metadata": {
  "kernelspec": {
   "display_name": "Python 3",
   "language": "python",
   "name": "python3"
  },
  "language_info": {
   "codemirror_mode": {
    "name": "ipython",
    "version": 3
   },
   "file_extension": ".py",
   "mimetype": "text/x-python",
   "name": "python",
   "nbconvert_exporter": "python",
   "pygments_lexer": "ipython3",
   "version": "3.7.3"
  }
 },
 "nbformat": 4,
 "nbformat_minor": 4
}
